{
  "nbformat": 4,
  "nbformat_minor": 0,
  "metadata": {
    "colab": {
      "provenance": [],
      "authorship_tag": "ABX9TyPrt+aBA3tzXhN0GueT139v",
      "include_colab_link": true
    },
    "kernelspec": {
      "name": "python3",
      "display_name": "Python 3"
    },
    "language_info": {
      "name": "python"
    }
  },
  "cells": [
    {
      "cell_type": "markdown",
      "metadata": {
        "id": "view-in-github",
        "colab_type": "text"
      },
      "source": [
        "<a href=\"https://colab.research.google.com/github/Toby1654/School-Projects/blob/main/Chapter7.ipynb\" target=\"_parent\"><img src=\"https://colab.research.google.com/assets/colab-badge.svg\" alt=\"Open In Colab\"/></a>"
      ]
    },
    {
      "cell_type": "code",
      "execution_count": null,
      "metadata": {
        "id": "f-4-ANBhya9E"
      },
      "outputs": [],
      "source": [
        "import random"
      ]
    },
    {
      "cell_type": "code",
      "source": [
        "class Purchase:\n",
        "\n",
        "  def __init__(self):\n",
        "    self.total = 0\n",
        "\n",
        "  def increment(self, price):\n",
        "    self.total += price\n",
        "\n",
        "  def __str__(self):\n",
        "    return \"Sale: $\" + str(self.total)"
      ],
      "metadata": {
        "id": "dZdIkiDKytTI"
      },
      "execution_count": null,
      "outputs": []
    },
    {
      "cell_type": "code",
      "source": [
        "woods = [\"walnut\", \"pine\", \"birch\", \"red oak\", \"aspen\", \"cedar\", \"spruce\", \"basswood\", \"hickory\", \"ash\", \"beech\", \"poplar\"]\n",
        "strings = [\"6 string\", \"7 string\", \"12 string\"]\n",
        "\n",
        "class Inventory:\n",
        "  def __init__(self):\n",
        "    self.guitars = []\n",
        "\n",
        "    num_guitars = random.randint(10, 20)\n",
        "\n",
        "    for i in range(num_guitars):\n",
        "      wood = random.choice(woods)\n",
        "      string = random.choice(strings)\n",
        "      guitar = Guitar(wood, string)\n",
        "      self.guitars.append(guitar)\n",
        "\n",
        "  def add_guitar(self, guitar):\n",
        "    self.guitars.append(guitar)\n",
        "\n",
        "  def display_order(self):\n",
        "    for guitar in self.guitars:\n",
        "      print(guitar)\n"
      ],
      "metadata": {
        "id": "UhTmXePJytY_"
      },
      "execution_count": null,
      "outputs": []
    },
    {
      "cell_type": "code",
      "source": [
        "class Guitar:\n",
        "  def __init__(self, wood, string):\n",
        "\n",
        "    self.price = round(random.uniform(1, 10), 2)\n",
        "\n",
        "    self.wood = random.choice(woods)\n",
        "    self.string = random.choice(strings)\n",
        "\n",
        "  def __str__(self):\n",
        "    return f'Wood: {self.wood}, String: {self.string}'"
      ],
      "metadata": {
        "id": "RqEKr5slytdS"
      },
      "execution_count": null,
      "outputs": []
    },
    {
      "cell_type": "code",
      "source": [
        "class Store:\n",
        "  def __init__(self, name):\n",
        "    self.name = name\n",
        "    self.inventory = Inventory()\n",
        "    self.customers = []\n",
        "\n",
        "    self.purchase = Purchase()\n",
        "\n",
        "  def add_customer(self, customer):\n",
        "    self.customers.append(customer)\n",
        "\n",
        "  def getCustomers(self):\n",
        "    for customer in self.customers:\n",
        "      print(\"customer \" + customer.getName() + \" is busy shopping.\")\n",
        "\n",
        "  def run(self):\n",
        "    print(\"Welcome to \" + self.name + \"!\")\n",
        "    print(self.inventory.display_order())\n",
        "    print(\"We have \" + str(len(self.customers)) + \" customers today.\")\n",
        "\n",
        "    for customer in self.customers:\n",
        "      print(\"Customer \" + customer.name + \" is shopping.\")\n",
        "\n",
        "      item = random.choice(self.inventory.guitars)\n",
        "      customer.add_to_order(item)\n",
        "      print(\"Customer \" + customer.name + \" added \" + str(item) + \" to their order.\")\n",
        "\n",
        "      self.purchase.increment(item.price)\n",
        "      print(\"Customer \" + customer.name + \" checked out and paid $\" + str(item.price) + \".\")\n",
        "    print(\"The total sales for \" + self.name + \" today is $\" + str(self.purchase.total) + \".\")\n",
        "\n",
        "  def __str__(self):\n",
        "    return self.name + \" (Sales: $\" + str(self.purchase.total) + \")\"\n",
        "\n",
        "class Customer:\n",
        "\n",
        "  def __init__(self, name):\n",
        "    self.name = name\n",
        "    self.order = Order()\n",
        "\n",
        "  def getName(self):\n",
        "      return self.name\n",
        "\n",
        "  def add_to_order(self, product):\n",
        "    self.order.add(product)\n",
        "\n",
        "  def __str__(self):\n",
        "    return self.name + \" (\" + str(self.order) + \")\"\n",
        "\n",
        "class Order:\n",
        "\n",
        "  def __init__(self):\n",
        "    self.products = []\n",
        "\n",
        "  def add(self, product):\n",
        "    self.products.append(product)\n",
        "\n",
        "  def __str__(self):\n",
        "    result = \"Order:\\n\"\n",
        "    for product in self.products:\n",
        "      result += str(product) + \"\\n\"\n",
        "    return result"
      ],
      "metadata": {
        "id": "O9hrWQdyytg-"
      },
      "execution_count": null,
      "outputs": []
    },
    {
      "cell_type": "code",
      "source": [
        "store = Store(\"TopGuitar\")\n",
        "\n",
        "names = [\"James\",\"Alice\",\"Bill\", \"Alex\", \"Sarah\", \"Ally\"]\n",
        "for i in range(len(names)):\n",
        "  store.add_customer(Customer(names[i]))\n",
        "\n",
        "store.getCustomers()\n",
        "\n",
        "store.run()"
      ],
      "metadata": {
        "colab": {
          "base_uri": "https://localhost:8080/"
        },
        "id": "nKw3Ju0dEV7L",
        "outputId": "f92bc041-4005-4ab5-8709-8ed5f91d6370"
      },
      "execution_count": null,
      "outputs": [
        {
          "output_type": "stream",
          "name": "stdout",
          "text": [
            "customer James is busy shopping.\n",
            "customer Alice is busy shopping.\n",
            "customer Bill is busy shopping.\n",
            "customer Alex is busy shopping.\n",
            "customer Sarah is busy shopping.\n",
            "customer Ally is busy shopping.\n",
            "Welcome to TopGuitar!\n",
            "Wood: hickory, String: 7 string\n",
            "Wood: poplar, String: 7 string\n",
            "Wood: cedar, String: 7 string\n",
            "Wood: basswood, String: 7 string\n",
            "Wood: birch, String: 6 string\n",
            "Wood: spruce, String: 7 string\n",
            "Wood: pine, String: 6 string\n",
            "Wood: red oak, String: 6 string\n",
            "Wood: beech, String: 7 string\n",
            "Wood: basswood, String: 7 string\n",
            "Wood: spruce, String: 7 string\n",
            "Wood: spruce, String: 7 string\n",
            "Wood: pine, String: 12 string\n",
            "None\n",
            "We have 6 customers today.\n",
            "Customer James is shopping.\n",
            "Customer James added Wood: spruce, String: 7 string to their order.\n",
            "Customer James checked out and paid $1.66.\n",
            "Customer Alice is shopping.\n",
            "Customer Alice added Wood: spruce, String: 7 string to their order.\n",
            "Customer Alice checked out and paid $1.66.\n",
            "Customer Bill is shopping.\n",
            "Customer Bill added Wood: hickory, String: 7 string to their order.\n",
            "Customer Bill checked out and paid $4.06.\n",
            "Customer Alex is shopping.\n",
            "Customer Alex added Wood: basswood, String: 7 string to their order.\n",
            "Customer Alex checked out and paid $1.78.\n",
            "Customer Sarah is shopping.\n",
            "Customer Sarah added Wood: spruce, String: 7 string to their order.\n",
            "Customer Sarah checked out and paid $1.66.\n",
            "Customer Ally is shopping.\n",
            "Customer Ally added Wood: basswood, String: 7 string to their order.\n",
            "Customer Ally checked out and paid $1.78.\n",
            "The total sales for TopGuitar today is $12.599999999999998.\n"
          ]
        }
      ]
    },
    {
      "cell_type": "code",
      "source": [
        "class Organization:\n",
        "\n",
        "  def __init__(self, name):\n",
        "    self.name = name\n",
        "    self.stores = []\n",
        "\n",
        "  def add_store(self, store):\n",
        "    self.stores.append(store)\n",
        "\n",
        "  def simulate(self):\n",
        "    print(\"Welcome to \" + self.name + \"!\")\n",
        "    print(\"We have \" + str(len(self.stores)) + \" stores in our corporation.\")\n",
        "\n",
        "    for store in self.stores:\n",
        "\n",
        "      store.run()\n",
        "\n",
        "    total_sales = 0\n",
        "    for store in self.stores:\n",
        "      total_sales += store.purchase.total\n",
        "    print(\"The total sales for \" + self.name + \" today is $\" + str(total_sales) + \".\")\n",
        "\n",
        "  def __str__(self):\n",
        "    result = self.name + \":\\n\"\n",
        "    for stnd in self.stores:\n",
        "      result += str(store) + \"\\n\"\n",
        "    return result\n",
        "\n",
        "corp = Organization(\"TopGuitar\")\n",
        "\n",
        "store1 = Store(\"North TopGuitar\")\n",
        "store2 = Store(\"West TopGuitar\")\n",
        "store3 = Store(\"East TopGuitar\")\n",
        "corp.add_store(store1)\n",
        "corp.add_store(store2)\n",
        "corp.add_store(store3)\n",
        "\n",
        "corp.simulate()"
      ],
      "metadata": {
        "id": "-Wvlikp4EWAC",
        "colab": {
          "base_uri": "https://localhost:8080/",
          "height": 211
        },
        "outputId": "7827d602-0f04-434f-d6d9-5685262d9784"
      },
      "execution_count": null,
      "outputs": [
        {
          "output_type": "error",
          "ename": "NameError",
          "evalue": "name 'Store' is not defined",
          "traceback": [
            "\u001b[0;31m---------------------------------------------------------------------------\u001b[0m",
            "\u001b[0;31mNameError\u001b[0m                                 Traceback (most recent call last)",
            "\u001b[0;32m<ipython-input-3-2362c0912115>\u001b[0m in \u001b[0;36m<cell line: 31>\u001b[0;34m()\u001b[0m\n\u001b[1;32m     29\u001b[0m \u001b[0mcorp\u001b[0m \u001b[0;34m=\u001b[0m \u001b[0mOrganization\u001b[0m\u001b[0;34m(\u001b[0m\u001b[0;34m\"TopGuitar\"\u001b[0m\u001b[0;34m)\u001b[0m\u001b[0;34m\u001b[0m\u001b[0;34m\u001b[0m\u001b[0m\n\u001b[1;32m     30\u001b[0m \u001b[0;34m\u001b[0m\u001b[0m\n\u001b[0;32m---> 31\u001b[0;31m \u001b[0mstore1\u001b[0m \u001b[0;34m=\u001b[0m \u001b[0mStore\u001b[0m\u001b[0;34m(\u001b[0m\u001b[0;34m\"North TopGuitar\"\u001b[0m\u001b[0;34m)\u001b[0m\u001b[0;34m\u001b[0m\u001b[0;34m\u001b[0m\u001b[0m\n\u001b[0m\u001b[1;32m     32\u001b[0m \u001b[0mstore2\u001b[0m \u001b[0;34m=\u001b[0m \u001b[0mStore\u001b[0m\u001b[0;34m(\u001b[0m\u001b[0;34m\"West TopGuitar\"\u001b[0m\u001b[0;34m)\u001b[0m\u001b[0;34m\u001b[0m\u001b[0;34m\u001b[0m\u001b[0m\n\u001b[1;32m     33\u001b[0m \u001b[0mstore3\u001b[0m \u001b[0;34m=\u001b[0m \u001b[0mStore\u001b[0m\u001b[0;34m(\u001b[0m\u001b[0;34m\"East TopGuitar\"\u001b[0m\u001b[0;34m)\u001b[0m\u001b[0;34m\u001b[0m\u001b[0;34m\u001b[0m\u001b[0m\n",
            "\u001b[0;31mNameError\u001b[0m: name 'Store' is not defined"
          ]
        }
      ]
    }
  ]
}