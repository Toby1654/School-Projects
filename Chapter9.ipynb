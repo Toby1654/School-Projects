{
  "nbformat": 4,
  "nbformat_minor": 0,
  "metadata": {
    "colab": {
      "provenance": [],
      "authorship_tag": "ABX9TyNWzaM9jTSeX1QSzhmiDiZz",
      "include_colab_link": true
    },
    "kernelspec": {
      "name": "python3",
      "display_name": "Python 3"
    },
    "language_info": {
      "name": "python"
    }
  },
  "cells": [
    {
      "cell_type": "markdown",
      "metadata": {
        "id": "view-in-github",
        "colab_type": "text"
      },
      "source": [
        "<a href=\"https://colab.research.google.com/github/Toby1654/School-Projects/blob/main/Chapter9.ipynb\" target=\"_parent\"><img src=\"https://colab.research.google.com/assets/colab-badge.svg\" alt=\"Open In Colab\"/></a>"
      ]
    },
    {
      "cell_type": "code",
      "execution_count": 14,
      "metadata": {
        "id": "hEYbysHlLB0w"
      },
      "outputs": [],
      "source": [
        "# Allows user to interact with the native OS Python library\n",
        "import os\n",
        "\n",
        "# Returns the current working directory\n",
        "cwd = os.getcwd()\n",
        "\n",
        "# Get list from designated directory\n",
        "files = os.listdir(cwd)\n",
        "\n",
        "# Find designated CSV files\n",
        "csv_files = [f for f in files if f.endswith('.csv')]\n",
        "\n",
        "# Delete designated CSV files\n",
        "for f in csv_files:\n",
        "  os.remove(os.path.join(cwd, f))"
      ]
    },
    {
      "cell_type": "code",
      "source": [
        "# Allows user to import data analysis toolkits from the panda library\n",
        "# Uses a generated-related function to randomize the data results\n",
        "import pandas as pd\n",
        "import random\n",
        "\n",
        "# List of cities that will be used in the analysis\n",
        "cities = ['Mesa', 'Lexington', 'Buckeye', 'Jasper', 'Ozark', 'Troy', 'Arcadia', 'Stratford']\n",
        "\n",
        "# Creates an empty list for dictionaries to be deposited\n",
        "weekly_totals_per_store = []\n",
        "\n",
        "# Creates dictionaries for individual city\n",
        "for city in cities:\n",
        "  TopGuitar = city\n",
        "  weekly_sales_total = random.randint(100000, 1000000)\n",
        "  store_dict = {'TopGuitar': TopGuitar, 'weekly_sales_total': weekly_sales_total}\n",
        "  weekly_totals_per_store.append(store_dict)\n",
        "\n",
        "# Creates dataframe from panda library\n",
        "df = pd.DataFrame(weekly_totals_per_store)\n",
        "\n",
        "# Places the dataframe data created into a CSV file\n",
        "df.to_csv('weekly_sales.csv', index=False)\n",
        "\n",
        "# Prints the data for user to view\n",
        "print(\"Data saved to 'weekly_sales.csv'\")"
      ],
      "metadata": {
        "id": "IqVhdoqqLroa",
        "colab": {
          "base_uri": "https://localhost:8080/"
        },
        "outputId": "8f4b167e-9b9a-4714-efdd-7dba398ad565"
      },
      "execution_count": 15,
      "outputs": [
        {
          "output_type": "stream",
          "name": "stdout",
          "text": [
            "Data saved to 'weekly_sales.csv'\n"
          ]
        }
      ]
    },
    {
      "cell_type": "code",
      "source": [
        "# Allows user to import data analysis toolkits from the panda library and uses a generated-related function to randomize the data results\n",
        "# Uses a generated-related function to randomize the data results\n",
        "# Returns an object showing a duration in microseconds occurring between a specificed date and time\n",
        "import pandas as pd\n",
        "import random\n",
        "from datetime import datetime, timedelta\n",
        "\n",
        "# List of cities that will be used in the analysis\n",
        "cities = ['Mesa', 'Lexington', 'Buckeye', 'Jasper', 'Ozark', 'Troy', 'Arcadia', 'Stratford']\n",
        "\n",
        "# Creates an empty list for dictionaries to be deposited\n",
        "weekly_totals_per_store = []\n",
        "\n",
        "# Creates the sales data and defines the start date, end date, current date\n",
        "start_date = datetime(2024, 1, 1)\n",
        "end_date = datetime(2024, 12, 31)\n",
        "current_date = start_date\n",
        "\n",
        "# Creates sales data for every week of 2024\n",
        "while current_date <= end_date:\n",
        "  week_name = current_date.strftime('%B-%d-%Y')\n",
        "  current_date += timedelta(days=7)\n",
        "\n",
        "# Prints the data for user to view\n",
        "print(current_date)"
      ],
      "metadata": {
        "id": "tK0nlkcqLrtU",
        "colab": {
          "base_uri": "https://localhost:8080/"
        },
        "outputId": "e2e8228e-f990-4487-9371-ceae970b3ba0"
      },
      "execution_count": 16,
      "outputs": [
        {
          "output_type": "stream",
          "name": "stdout",
          "text": [
            "2025-01-06 00:00:00\n"
          ]
        }
      ]
    },
    {
      "cell_type": "code",
      "source": [
        "# List of cities that will be used in the analysis\n",
        "cities = ['Mesa', 'Lexington', 'Buckeye', 'Jasper', 'Ozark', 'Troy', 'Arcadia', 'Stratford']\n",
        "\n",
        "# Creates the sales data and defines the start date, end date, current date\n",
        "start_date = datetime(2024, 1, 1)\n",
        "end_date = datetime(2024, 12, 31)\n",
        "current_date = start_date\n",
        "\n",
        "# Creates sales data for every week of 2024\n",
        "while current_date <= end_date:\n",
        "  weekly_totals_per_store = []\n",
        "  week_name = current_date.strftime('%B-%d-%Y')\n",
        "  current_date += timedelta(days=7)\n",
        "\n",
        "  # Creates dictionaries for individual city\n",
        "  for city in cities:\n",
        "    TopGuitar = city\n",
        "    weekly_sales_total = random.randint(100000, 1000000)\n",
        "    store_dict = {'TopGuitar': TopGuitar, 'weekly_sales_total': weekly_sales_total}\n",
        "    weekly_totals_per_store.append(store_dict)\n",
        "\n",
        "    # Creates dataframe from panda library\n",
        "    df = pd.DataFrame(weekly_totals_per_store)\n",
        "\n",
        "    # Places the dataframe data created into a CSV file\n",
        "    save_as = week_name.replace(' ', '-').lower() + '.csv'\n",
        "    df.to_csv(save_as, index=False)\n"
      ],
      "metadata": {
        "id": "oMZ_5344Lry2"
      },
      "execution_count": 17,
      "outputs": []
    },
    {
      "cell_type": "code",
      "source": [
        "# Allows user to interact with the native OS Python library\n",
        "import os\n",
        "\n",
        "# Retrieves the current working directory\n",
        "current_directory = os.getcwd()\n",
        "\n",
        "# Creates a list of all the files in the current working directory\n",
        "all_files = os.listdir(current_directory)\n",
        "\n",
        "# Filters a list of files to include only those that have a csv extension\n",
        "csv_files = [file for file in all_files if file.endswith('.csv')]"
      ],
      "metadata": {
        "id": "yET_n5-3Lr4O"
      },
      "execution_count": 18,
      "outputs": []
    },
    {
      "cell_type": "code",
      "source": [
        "# Allows user to import data analysis toolkits from the panda library\n",
        "# Uses a generated-related function to randomize the data results\n",
        "import pandas as pd\n",
        "import os\n",
        "\n",
        "# Retrieves the current working directory\n",
        "current_directory = os.getcwd()\n",
        "\n",
        "# Creates a list of all the files in the current working directory\n",
        "all_files = os.listdir(current_directory)\n",
        "\n",
        "# Filters a list of files to include only those that have a csv extension\n",
        "csv_files = [file for file in all_files if file.endswith('.csv')]\n",
        "\n",
        "# Creates a main list to hold all to hold all stores and weekly sales\n",
        "all_stores_all_weekly_sales = []\n",
        "\n",
        "# Processes csv files into dataframes, extracts the rows, and appends the data to the main list\n",
        "for filename in csv_files:\n",
        "  df = pd.read_csv(filename)\n",
        "  week_name = filename.replace('.csv', '')\n",
        "  for _, row in df.iterrows():\n",
        "    row_dict = row.to_dict()\n",
        "    row_dict['week'] = week_name\n",
        "    all_stores_all_weekly_sales.append(row_dict)\n",
        "\n",
        "# Prints collected data from sales\n",
        "print(all_stores_all_weekly_sales)"
      ],
      "metadata": {
        "id": "AhZz42b8Lr9n"
      },
      "execution_count": null,
      "outputs": []
    },
    {
      "cell_type": "code",
      "source": [
        "# Creates dataframe from the list\n",
        "df = pd.DataFrame(all_stores_all_weekly_sales)\n",
        "\n",
        "# Prints the dataframe for user to view\n",
        "print(df)"
      ],
      "metadata": {
        "id": "v3tqjyicLsCZ",
        "colab": {
          "base_uri": "https://localhost:8080/"
        },
        "outputId": "a18a81e0-f4a6-42dc-f80c-b92a5458aaed"
      },
      "execution_count": 20,
      "outputs": [
        {
          "output_type": "stream",
          "name": "stdout",
          "text": [
            "     TopGuitar  weekly_sales_total              week\n",
            "0         Mesa              912751  february-19-2024\n",
            "1    Lexington              129014  february-19-2024\n",
            "2      Buckeye              690403  february-19-2024\n",
            "3       Jasper              115729  february-19-2024\n",
            "4        Ozark              880537  february-19-2024\n",
            "..         ...                 ...               ...\n",
            "427     Jasper              336066  february-26-2024\n",
            "428      Ozark              114145  february-26-2024\n",
            "429       Troy              250107  february-26-2024\n",
            "430    Arcadia              520223  february-26-2024\n",
            "431  Stratford              115006  february-26-2024\n",
            "\n",
            "[432 rows x 3 columns]\n"
          ]
        }
      ]
    },
    {
      "cell_type": "code",
      "source": [
        "# Imports a visualization tool from the python library\n",
        "import altair as alt\n",
        "\n",
        "# Defines the size of the visualization tool\n",
        "width = 800\n",
        "height = 300\n",
        "\n",
        "# Creates a specific chart with the dimensions previously described\n",
        "base = alt.Chart(df, width=width, height=height).mark_line().encode(\n",
        "  x='week:T',\n",
        "  y='weekly_sales_total:Q',\n",
        "  color='TopGuitar:N',\n",
        "  tooltip=['TopGuitar:N', 'weekly_sales_total:Q', 'week:T']\n",
        ").interactive()\n",
        "\n",
        "# Displays the chart for the user to see\n",
        "base"
      ],
      "metadata": {
        "id": "Ct16CafwLsJN",
        "colab": {
          "base_uri": "https://localhost:8080/",
          "height": 369
        },
        "outputId": "f533adac-9faa-4ec1-df94-fb494de0b89b"
      },
      "execution_count": 21,
      "outputs": [
        {
          "output_type": "execute_result",
          "data": {
            "text/html": [
              "\n",
              "<div id=\"altair-viz-f9f719a1654f4b12b1ac6b89f24a1aed\"></div>\n",
              "<script type=\"text/javascript\">\n",
              "  var VEGA_DEBUG = (typeof VEGA_DEBUG == \"undefined\") ? {} : VEGA_DEBUG;\n",
              "  (function(spec, embedOpt){\n",
              "    let outputDiv = document.currentScript.previousElementSibling;\n",
              "    if (outputDiv.id !== \"altair-viz-f9f719a1654f4b12b1ac6b89f24a1aed\") {\n",
              "      outputDiv = document.getElementById(\"altair-viz-f9f719a1654f4b12b1ac6b89f24a1aed\");\n",
              "    }\n",
              "    const paths = {\n",
              "      \"vega\": \"https://cdn.jsdelivr.net/npm//vega@5?noext\",\n",
              "      \"vega-lib\": \"https://cdn.jsdelivr.net/npm//vega-lib?noext\",\n",
              "      \"vega-lite\": \"https://cdn.jsdelivr.net/npm//vega-lite@4.17.0?noext\",\n",
              "      \"vega-embed\": \"https://cdn.jsdelivr.net/npm//vega-embed@6?noext\",\n",
              "    };\n",
              "\n",
              "    function maybeLoadScript(lib, version) {\n",
              "      var key = `${lib.replace(\"-\", \"\")}_version`;\n",
              "      return (VEGA_DEBUG[key] == version) ?\n",
              "        Promise.resolve(paths[lib]) :\n",
              "        new Promise(function(resolve, reject) {\n",
              "          var s = document.createElement('script');\n",
              "          document.getElementsByTagName(\"head\")[0].appendChild(s);\n",
              "          s.async = true;\n",
              "          s.onload = () => {\n",
              "            VEGA_DEBUG[key] = version;\n",
              "            return resolve(paths[lib]);\n",
              "          };\n",
              "          s.onerror = () => reject(`Error loading script: ${paths[lib]}`);\n",
              "          s.src = paths[lib];\n",
              "        });\n",
              "    }\n",
              "\n",
              "    function showError(err) {\n",
              "      outputDiv.innerHTML = `<div class=\"error\" style=\"color:red;\">${err}</div>`;\n",
              "      throw err;\n",
              "    }\n",
              "\n",
              "    function displayChart(vegaEmbed) {\n",
              "      vegaEmbed(outputDiv, spec, embedOpt)\n",
              "        .catch(err => showError(`Javascript Error: ${err.message}<br>This usually means there's a typo in your chart specification. See the javascript console for the full traceback.`));\n",
              "    }\n",
              "\n",
              "    if(typeof define === \"function\" && define.amd) {\n",
              "      requirejs.config({paths});\n",
              "      require([\"vega-embed\"], displayChart, err => showError(`Error loading script: ${err.message}`));\n",
              "    } else {\n",
              "      maybeLoadScript(\"vega\", \"5\")\n",
              "        .then(() => maybeLoadScript(\"vega-lite\", \"4.17.0\"))\n",
              "        .then(() => maybeLoadScript(\"vega-embed\", \"6\"))\n",
              "        .catch(showError)\n",
              "        .then(() => displayChart(vegaEmbed));\n",
              "    }\n",
              "  })({\"config\": {\"view\": {\"continuousWidth\": 400, \"continuousHeight\": 300}}, \"data\": {\"name\": \"data-d6395275bd3172581e36045e91943509\"}, \"mark\": \"line\", \"encoding\": {\"color\": {\"field\": \"TopGuitar\", \"type\": \"nominal\"}, \"tooltip\": [{\"field\": \"TopGuitar\", \"type\": \"nominal\"}, {\"field\": \"weekly_sales_total\", \"type\": \"quantitative\"}, {\"field\": \"week\", \"type\": \"temporal\"}], \"x\": {\"field\": \"week\", \"type\": \"temporal\"}, \"y\": {\"field\": \"weekly_sales_total\", \"type\": \"quantitative\"}}, \"height\": 300, \"selection\": {\"selector002\": {\"type\": \"interval\", \"bind\": \"scales\", \"encodings\": [\"x\", \"y\"]}}, \"width\": 800, \"$schema\": \"https://vega.github.io/schema/vega-lite/v4.17.0.json\", \"datasets\": {\"data-d6395275bd3172581e36045e91943509\": [{\"TopGuitar\": \"Mesa\", \"weekly_sales_total\": 912751, \"week\": \"february-19-2024\"}, {\"TopGuitar\": \"Lexington\", \"weekly_sales_total\": 129014, \"week\": \"february-19-2024\"}, {\"TopGuitar\": \"Buckeye\", \"weekly_sales_total\": 690403, \"week\": \"february-19-2024\"}, {\"TopGuitar\": \"Jasper\", \"weekly_sales_total\": 115729, \"week\": \"february-19-2024\"}, {\"TopGuitar\": \"Ozark\", \"weekly_sales_total\": 880537, \"week\": \"february-19-2024\"}, {\"TopGuitar\": \"Troy\", \"weekly_sales_total\": 341223, \"week\": \"february-19-2024\"}, {\"TopGuitar\": \"Arcadia\", \"weekly_sales_total\": 972470, \"week\": \"february-19-2024\"}, {\"TopGuitar\": \"Stratford\", \"weekly_sales_total\": 184770, \"week\": \"february-19-2024\"}, {\"TopGuitar\": \"Mesa\", \"weekly_sales_total\": 457795, \"week\": \"january-08-2024\"}, {\"TopGuitar\": \"Lexington\", \"weekly_sales_total\": 790468, \"week\": \"january-08-2024\"}, {\"TopGuitar\": \"Buckeye\", \"weekly_sales_total\": 254160, \"week\": \"january-08-2024\"}, {\"TopGuitar\": \"Jasper\", \"weekly_sales_total\": 512102, \"week\": \"january-08-2024\"}, {\"TopGuitar\": \"Ozark\", \"weekly_sales_total\": 381342, \"week\": \"january-08-2024\"}, {\"TopGuitar\": \"Troy\", \"weekly_sales_total\": 308914, \"week\": \"january-08-2024\"}, {\"TopGuitar\": \"Arcadia\", \"weekly_sales_total\": 170105, \"week\": \"january-08-2024\"}, {\"TopGuitar\": \"Stratford\", \"weekly_sales_total\": 768595, \"week\": \"january-08-2024\"}, {\"TopGuitar\": \"Mesa\", \"weekly_sales_total\": 981593, \"week\": \"march-11-2024\"}, {\"TopGuitar\": \"Lexington\", \"weekly_sales_total\": 722703, \"week\": \"march-11-2024\"}, {\"TopGuitar\": \"Buckeye\", \"weekly_sales_total\": 521563, \"week\": \"march-11-2024\"}, {\"TopGuitar\": \"Jasper\", \"weekly_sales_total\": 258413, \"week\": \"march-11-2024\"}, {\"TopGuitar\": \"Ozark\", \"weekly_sales_total\": 779834, \"week\": \"march-11-2024\"}, {\"TopGuitar\": \"Troy\", \"weekly_sales_total\": 130620, \"week\": \"march-11-2024\"}, {\"TopGuitar\": \"Arcadia\", \"weekly_sales_total\": 156613, \"week\": \"march-11-2024\"}, {\"TopGuitar\": \"Stratford\", \"weekly_sales_total\": 851568, \"week\": \"march-11-2024\"}, {\"TopGuitar\": \"Mesa\", \"weekly_sales_total\": 374647, \"week\": \"november-25-2024\"}, {\"TopGuitar\": \"Lexington\", \"weekly_sales_total\": 671656, \"week\": \"november-25-2024\"}, {\"TopGuitar\": \"Buckeye\", \"weekly_sales_total\": 830382, \"week\": \"november-25-2024\"}, {\"TopGuitar\": \"Jasper\", \"weekly_sales_total\": 123568, \"week\": \"november-25-2024\"}, {\"TopGuitar\": \"Ozark\", \"weekly_sales_total\": 531008, \"week\": \"november-25-2024\"}, {\"TopGuitar\": \"Troy\", \"weekly_sales_total\": 697202, \"week\": \"november-25-2024\"}, {\"TopGuitar\": \"Arcadia\", \"weekly_sales_total\": 911648, \"week\": \"november-25-2024\"}, {\"TopGuitar\": \"Stratford\", \"weekly_sales_total\": 186175, \"week\": \"november-25-2024\"}, {\"TopGuitar\": \"Mesa\", \"weekly_sales_total\": 806180, \"week\": \"october-21-2024\"}, {\"TopGuitar\": \"Lexington\", \"weekly_sales_total\": 853582, \"week\": \"october-21-2024\"}, {\"TopGuitar\": \"Buckeye\", \"weekly_sales_total\": 296928, \"week\": \"october-21-2024\"}, {\"TopGuitar\": \"Jasper\", \"weekly_sales_total\": 454390, \"week\": \"october-21-2024\"}, {\"TopGuitar\": \"Ozark\", \"weekly_sales_total\": 259394, \"week\": \"october-21-2024\"}, {\"TopGuitar\": \"Troy\", \"weekly_sales_total\": 951315, \"week\": \"october-21-2024\"}, {\"TopGuitar\": \"Arcadia\", \"weekly_sales_total\": 342339, \"week\": \"october-21-2024\"}, {\"TopGuitar\": \"Stratford\", \"weekly_sales_total\": 546275, \"week\": \"october-21-2024\"}, {\"TopGuitar\": \"Mesa\", \"weekly_sales_total\": 816784, \"week\": \"january-29-2024\"}, {\"TopGuitar\": \"Lexington\", \"weekly_sales_total\": 885560, \"week\": \"january-29-2024\"}, {\"TopGuitar\": \"Buckeye\", \"weekly_sales_total\": 768402, \"week\": \"january-29-2024\"}, {\"TopGuitar\": \"Jasper\", \"weekly_sales_total\": 704067, \"week\": \"january-29-2024\"}, {\"TopGuitar\": \"Ozark\", \"weekly_sales_total\": 566621, \"week\": \"january-29-2024\"}, {\"TopGuitar\": \"Troy\", \"weekly_sales_total\": 951989, \"week\": \"january-29-2024\"}, {\"TopGuitar\": \"Arcadia\", \"weekly_sales_total\": 943017, \"week\": \"january-29-2024\"}, {\"TopGuitar\": \"Stratford\", \"weekly_sales_total\": 690792, \"week\": \"january-29-2024\"}, {\"TopGuitar\": \"Mesa\", \"weekly_sales_total\": 154419, \"week\": \"october-28-2024\"}, {\"TopGuitar\": \"Lexington\", \"weekly_sales_total\": 448806, \"week\": \"october-28-2024\"}, {\"TopGuitar\": \"Buckeye\", \"weekly_sales_total\": 658634, \"week\": \"october-28-2024\"}, {\"TopGuitar\": \"Jasper\", \"weekly_sales_total\": 471630, \"week\": \"october-28-2024\"}, {\"TopGuitar\": \"Ozark\", \"weekly_sales_total\": 576638, \"week\": \"october-28-2024\"}, {\"TopGuitar\": \"Troy\", \"weekly_sales_total\": 206727, \"week\": \"october-28-2024\"}, {\"TopGuitar\": \"Arcadia\", \"weekly_sales_total\": 645582, \"week\": \"october-28-2024\"}, {\"TopGuitar\": \"Stratford\", \"weekly_sales_total\": 690421, \"week\": \"october-28-2024\"}, {\"TopGuitar\": \"Mesa\", \"weekly_sales_total\": 455690, \"week\": \"september-09-2024\"}, {\"TopGuitar\": \"Lexington\", \"weekly_sales_total\": 275401, \"week\": \"september-09-2024\"}, {\"TopGuitar\": \"Buckeye\", \"weekly_sales_total\": 733040, \"week\": \"september-09-2024\"}, {\"TopGuitar\": \"Jasper\", \"weekly_sales_total\": 916826, \"week\": \"september-09-2024\"}, {\"TopGuitar\": \"Ozark\", \"weekly_sales_total\": 178426, \"week\": \"september-09-2024\"}, {\"TopGuitar\": \"Troy\", \"weekly_sales_total\": 168363, \"week\": \"september-09-2024\"}, {\"TopGuitar\": \"Arcadia\", \"weekly_sales_total\": 493644, \"week\": \"september-09-2024\"}, {\"TopGuitar\": \"Stratford\", \"weekly_sales_total\": 602920, \"week\": \"september-09-2024\"}, {\"TopGuitar\": \"Mesa\", \"weekly_sales_total\": 820646, \"week\": \"november-11-2024\"}, {\"TopGuitar\": \"Lexington\", \"weekly_sales_total\": 600202, \"week\": \"november-11-2024\"}, {\"TopGuitar\": \"Buckeye\", \"weekly_sales_total\": 849163, \"week\": \"november-11-2024\"}, {\"TopGuitar\": \"Jasper\", \"weekly_sales_total\": 794957, \"week\": \"november-11-2024\"}, {\"TopGuitar\": \"Ozark\", \"weekly_sales_total\": 615208, \"week\": \"november-11-2024\"}, {\"TopGuitar\": \"Troy\", \"weekly_sales_total\": 956672, \"week\": \"november-11-2024\"}, {\"TopGuitar\": \"Arcadia\", \"weekly_sales_total\": 834066, \"week\": \"november-11-2024\"}, {\"TopGuitar\": \"Stratford\", \"weekly_sales_total\": 977640, \"week\": \"november-11-2024\"}, {\"TopGuitar\": \"Mesa\", \"weekly_sales_total\": 832812, \"week\": \"april-29-2024\"}, {\"TopGuitar\": \"Lexington\", \"weekly_sales_total\": 649707, \"week\": \"april-29-2024\"}, {\"TopGuitar\": \"Buckeye\", \"weekly_sales_total\": 944329, \"week\": \"april-29-2024\"}, {\"TopGuitar\": \"Jasper\", \"weekly_sales_total\": 290403, \"week\": \"april-29-2024\"}, {\"TopGuitar\": \"Ozark\", \"weekly_sales_total\": 187027, \"week\": \"april-29-2024\"}, {\"TopGuitar\": \"Troy\", \"weekly_sales_total\": 603379, \"week\": \"april-29-2024\"}, {\"TopGuitar\": \"Arcadia\", \"weekly_sales_total\": 511019, \"week\": \"april-29-2024\"}, {\"TopGuitar\": \"Stratford\", \"weekly_sales_total\": 746695, \"week\": \"april-29-2024\"}, {\"TopGuitar\": \"Mesa\", \"weekly_sales_total\": 100020, \"week\": \"december-09-2024\"}, {\"TopGuitar\": \"Lexington\", \"weekly_sales_total\": 832703, \"week\": \"december-09-2024\"}, {\"TopGuitar\": \"Buckeye\", \"weekly_sales_total\": 764261, \"week\": \"december-09-2024\"}, {\"TopGuitar\": \"Jasper\", \"weekly_sales_total\": 848563, \"week\": \"december-09-2024\"}, {\"TopGuitar\": \"Ozark\", \"weekly_sales_total\": 229474, \"week\": \"december-09-2024\"}, {\"TopGuitar\": \"Troy\", \"weekly_sales_total\": 905480, \"week\": \"december-09-2024\"}, {\"TopGuitar\": \"Arcadia\", \"weekly_sales_total\": 352663, \"week\": \"december-09-2024\"}, {\"TopGuitar\": \"Stratford\", \"weekly_sales_total\": 540601, \"week\": \"december-09-2024\"}, {\"TopGuitar\": \"Mesa\", \"weekly_sales_total\": 128170, \"week\": \"june-24-2024\"}, {\"TopGuitar\": \"Lexington\", \"weekly_sales_total\": 985122, \"week\": \"june-24-2024\"}, {\"TopGuitar\": \"Buckeye\", \"weekly_sales_total\": 182132, \"week\": \"june-24-2024\"}, {\"TopGuitar\": \"Jasper\", \"weekly_sales_total\": 211615, \"week\": \"june-24-2024\"}, {\"TopGuitar\": \"Ozark\", \"weekly_sales_total\": 152445, \"week\": \"june-24-2024\"}, {\"TopGuitar\": \"Troy\", \"weekly_sales_total\": 422423, \"week\": \"june-24-2024\"}, {\"TopGuitar\": \"Arcadia\", \"weekly_sales_total\": 348463, \"week\": \"june-24-2024\"}, {\"TopGuitar\": \"Stratford\", \"weekly_sales_total\": 730355, \"week\": \"june-24-2024\"}, {\"TopGuitar\": \"Mesa\", \"weekly_sales_total\": 406395, \"week\": \"july-01-2024\"}, {\"TopGuitar\": \"Lexington\", \"weekly_sales_total\": 233537, \"week\": \"july-01-2024\"}, {\"TopGuitar\": \"Buckeye\", \"weekly_sales_total\": 132373, \"week\": \"july-01-2024\"}, {\"TopGuitar\": \"Jasper\", \"weekly_sales_total\": 248077, \"week\": \"july-01-2024\"}, {\"TopGuitar\": \"Ozark\", \"weekly_sales_total\": 475142, \"week\": \"july-01-2024\"}, {\"TopGuitar\": \"Troy\", \"weekly_sales_total\": 995074, \"week\": \"july-01-2024\"}, {\"TopGuitar\": \"Arcadia\", \"weekly_sales_total\": 751841, \"week\": \"july-01-2024\"}, {\"TopGuitar\": \"Stratford\", \"weekly_sales_total\": 229499, \"week\": \"july-01-2024\"}, {\"TopGuitar\": \"Mesa\", \"weekly_sales_total\": 616297, \"week\": \"september-23-2024\"}, {\"TopGuitar\": \"Lexington\", \"weekly_sales_total\": 458714, \"week\": \"september-23-2024\"}, {\"TopGuitar\": \"Buckeye\", \"weekly_sales_total\": 769969, \"week\": \"september-23-2024\"}, {\"TopGuitar\": \"Jasper\", \"weekly_sales_total\": 727827, \"week\": \"september-23-2024\"}, {\"TopGuitar\": \"Ozark\", \"weekly_sales_total\": 366577, \"week\": \"september-23-2024\"}, {\"TopGuitar\": \"Troy\", \"weekly_sales_total\": 491794, \"week\": \"september-23-2024\"}, {\"TopGuitar\": \"Arcadia\", \"weekly_sales_total\": 930889, \"week\": \"september-23-2024\"}, {\"TopGuitar\": \"Stratford\", \"weekly_sales_total\": 558029, \"week\": \"september-23-2024\"}, {\"TopGuitar\": \"Mesa\", \"weekly_sales_total\": 752154, \"week\": \"october-07-2024\"}, {\"TopGuitar\": \"Lexington\", \"weekly_sales_total\": 390016, \"week\": \"october-07-2024\"}, {\"TopGuitar\": \"Buckeye\", \"weekly_sales_total\": 712518, \"week\": \"october-07-2024\"}, {\"TopGuitar\": \"Jasper\", \"weekly_sales_total\": 998987, \"week\": \"october-07-2024\"}, {\"TopGuitar\": \"Ozark\", \"weekly_sales_total\": 143300, \"week\": \"october-07-2024\"}, {\"TopGuitar\": \"Troy\", \"weekly_sales_total\": 156752, \"week\": \"october-07-2024\"}, {\"TopGuitar\": \"Arcadia\", \"weekly_sales_total\": 432021, \"week\": \"october-07-2024\"}, {\"TopGuitar\": \"Stratford\", \"weekly_sales_total\": 408456, \"week\": \"october-07-2024\"}, {\"TopGuitar\": \"Mesa\", \"weekly_sales_total\": 146710, \"week\": \"may-27-2024\"}, {\"TopGuitar\": \"Lexington\", \"weekly_sales_total\": 442337, \"week\": \"may-27-2024\"}, {\"TopGuitar\": \"Buckeye\", \"weekly_sales_total\": 833915, \"week\": \"may-27-2024\"}, {\"TopGuitar\": \"Jasper\", \"weekly_sales_total\": 398362, \"week\": \"may-27-2024\"}, {\"TopGuitar\": \"Ozark\", \"weekly_sales_total\": 700918, \"week\": \"may-27-2024\"}, {\"TopGuitar\": \"Troy\", \"weekly_sales_total\": 990789, \"week\": \"may-27-2024\"}, {\"TopGuitar\": \"Arcadia\", \"weekly_sales_total\": 686481, \"week\": \"may-27-2024\"}, {\"TopGuitar\": \"Stratford\", \"weekly_sales_total\": 410067, \"week\": \"may-27-2024\"}, {\"TopGuitar\": \"Mesa\", \"weekly_sales_total\": 665757, \"week\": \"august-19-2024\"}, {\"TopGuitar\": \"Lexington\", \"weekly_sales_total\": 907820, \"week\": \"august-19-2024\"}, {\"TopGuitar\": \"Buckeye\", \"weekly_sales_total\": 221822, \"week\": \"august-19-2024\"}, {\"TopGuitar\": \"Jasper\", \"weekly_sales_total\": 430581, \"week\": \"august-19-2024\"}, {\"TopGuitar\": \"Ozark\", \"weekly_sales_total\": 126956, \"week\": \"august-19-2024\"}, {\"TopGuitar\": \"Troy\", \"weekly_sales_total\": 346328, \"week\": \"august-19-2024\"}, {\"TopGuitar\": \"Arcadia\", \"weekly_sales_total\": 520161, \"week\": \"august-19-2024\"}, {\"TopGuitar\": \"Stratford\", \"weekly_sales_total\": 121716, \"week\": \"august-19-2024\"}, {\"TopGuitar\": \"Mesa\", \"weekly_sales_total\": 811858, \"week\": \"january-22-2024\"}, {\"TopGuitar\": \"Lexington\", \"weekly_sales_total\": 155889, \"week\": \"january-22-2024\"}, {\"TopGuitar\": \"Buckeye\", \"weekly_sales_total\": 550011, \"week\": \"january-22-2024\"}, {\"TopGuitar\": \"Jasper\", \"weekly_sales_total\": 515502, \"week\": \"january-22-2024\"}, {\"TopGuitar\": \"Ozark\", \"weekly_sales_total\": 292304, \"week\": \"january-22-2024\"}, {\"TopGuitar\": \"Troy\", \"weekly_sales_total\": 619417, \"week\": \"january-22-2024\"}, {\"TopGuitar\": \"Arcadia\", \"weekly_sales_total\": 868702, \"week\": \"january-22-2024\"}, {\"TopGuitar\": \"Stratford\", \"weekly_sales_total\": 571823, \"week\": \"january-22-2024\"}, {\"TopGuitar\": \"Mesa\", \"weekly_sales_total\": 423123, \"week\": \"august-26-2024\"}, {\"TopGuitar\": \"Lexington\", \"weekly_sales_total\": 683928, \"week\": \"august-26-2024\"}, {\"TopGuitar\": \"Buckeye\", \"weekly_sales_total\": 856614, \"week\": \"august-26-2024\"}, {\"TopGuitar\": \"Jasper\", \"weekly_sales_total\": 345566, \"week\": \"august-26-2024\"}, {\"TopGuitar\": \"Ozark\", \"weekly_sales_total\": 727210, \"week\": \"august-26-2024\"}, {\"TopGuitar\": \"Troy\", \"weekly_sales_total\": 909183, \"week\": \"august-26-2024\"}, {\"TopGuitar\": \"Arcadia\", \"weekly_sales_total\": 585078, \"week\": \"august-26-2024\"}, {\"TopGuitar\": \"Stratford\", \"weekly_sales_total\": 381833, \"week\": \"august-26-2024\"}, {\"TopGuitar\": \"Mesa\", \"weekly_sales_total\": 793517, \"week\": \"november-18-2024\"}, {\"TopGuitar\": \"Lexington\", \"weekly_sales_total\": 321361, \"week\": \"november-18-2024\"}, {\"TopGuitar\": \"Buckeye\", \"weekly_sales_total\": 885232, \"week\": \"november-18-2024\"}, {\"TopGuitar\": \"Jasper\", \"weekly_sales_total\": 656434, \"week\": \"november-18-2024\"}, {\"TopGuitar\": \"Ozark\", \"weekly_sales_total\": 818989, \"week\": \"november-18-2024\"}, {\"TopGuitar\": \"Troy\", \"weekly_sales_total\": 412003, \"week\": \"november-18-2024\"}, {\"TopGuitar\": \"Arcadia\", \"weekly_sales_total\": 957900, \"week\": \"november-18-2024\"}, {\"TopGuitar\": \"Stratford\", \"weekly_sales_total\": 416106, \"week\": \"november-18-2024\"}, {\"TopGuitar\": \"Mesa\", \"weekly_sales_total\": 641322, \"week\": \"july-22-2024\"}, {\"TopGuitar\": \"Lexington\", \"weekly_sales_total\": 320244, \"week\": \"july-22-2024\"}, {\"TopGuitar\": \"Buckeye\", \"weekly_sales_total\": 748232, \"week\": \"july-22-2024\"}, {\"TopGuitar\": \"Jasper\", \"weekly_sales_total\": 167474, \"week\": \"july-22-2024\"}, {\"TopGuitar\": \"Ozark\", \"weekly_sales_total\": 803046, \"week\": \"july-22-2024\"}, {\"TopGuitar\": \"Troy\", \"weekly_sales_total\": 544121, \"week\": \"july-22-2024\"}, {\"TopGuitar\": \"Arcadia\", \"weekly_sales_total\": 472303, \"week\": \"july-22-2024\"}, {\"TopGuitar\": \"Stratford\", \"weekly_sales_total\": 267400, \"week\": \"july-22-2024\"}, {\"TopGuitar\": \"Mesa\", \"weekly_sales_total\": 619039, \"week\": \"june-10-2024\"}, {\"TopGuitar\": \"Lexington\", \"weekly_sales_total\": 476518, \"week\": \"june-10-2024\"}, {\"TopGuitar\": \"Buckeye\", \"weekly_sales_total\": 145652, \"week\": \"june-10-2024\"}, {\"TopGuitar\": \"Jasper\", \"weekly_sales_total\": 339954, \"week\": \"june-10-2024\"}, {\"TopGuitar\": \"Ozark\", \"weekly_sales_total\": 546909, \"week\": \"june-10-2024\"}, {\"TopGuitar\": \"Troy\", \"weekly_sales_total\": 205891, \"week\": \"june-10-2024\"}, {\"TopGuitar\": \"Arcadia\", \"weekly_sales_total\": 432239, \"week\": \"june-10-2024\"}, {\"TopGuitar\": \"Stratford\", \"weekly_sales_total\": 906557, \"week\": \"june-10-2024\"}, {\"TopGuitar\": \"Mesa\", \"weekly_sales_total\": 934023, \"week\": \"august-05-2024\"}, {\"TopGuitar\": \"Lexington\", \"weekly_sales_total\": 248744, \"week\": \"august-05-2024\"}, {\"TopGuitar\": \"Buckeye\", \"weekly_sales_total\": 546255, \"week\": \"august-05-2024\"}, {\"TopGuitar\": \"Jasper\", \"weekly_sales_total\": 725650, \"week\": \"august-05-2024\"}, {\"TopGuitar\": \"Ozark\", \"weekly_sales_total\": 556853, \"week\": \"august-05-2024\"}, {\"TopGuitar\": \"Troy\", \"weekly_sales_total\": 784798, \"week\": \"august-05-2024\"}, {\"TopGuitar\": \"Arcadia\", \"weekly_sales_total\": 841162, \"week\": \"august-05-2024\"}, {\"TopGuitar\": \"Stratford\", \"weekly_sales_total\": 518465, \"week\": \"august-05-2024\"}, {\"TopGuitar\": \"Mesa\", \"weekly_sales_total\": 610086, \"week\": \"april-15-2024\"}, {\"TopGuitar\": \"Lexington\", \"weekly_sales_total\": 650937, \"week\": \"april-15-2024\"}, {\"TopGuitar\": \"Buckeye\", \"weekly_sales_total\": 672916, \"week\": \"april-15-2024\"}, {\"TopGuitar\": \"Jasper\", \"weekly_sales_total\": 233056, \"week\": \"april-15-2024\"}, {\"TopGuitar\": \"Ozark\", \"weekly_sales_total\": 984805, \"week\": \"april-15-2024\"}, {\"TopGuitar\": \"Troy\", \"weekly_sales_total\": 874376, \"week\": \"april-15-2024\"}, {\"TopGuitar\": \"Arcadia\", \"weekly_sales_total\": 324981, \"week\": \"april-15-2024\"}, {\"TopGuitar\": \"Stratford\", \"weekly_sales_total\": 737837, \"week\": \"april-15-2024\"}, {\"TopGuitar\": \"Mesa\", \"weekly_sales_total\": 581897, \"week\": \"march-18-2024\"}, {\"TopGuitar\": \"Lexington\", \"weekly_sales_total\": 307720, \"week\": \"march-18-2024\"}, {\"TopGuitar\": \"Buckeye\", \"weekly_sales_total\": 267502, \"week\": \"march-18-2024\"}, {\"TopGuitar\": \"Jasper\", \"weekly_sales_total\": 922132, \"week\": \"march-18-2024\"}, {\"TopGuitar\": \"Ozark\", \"weekly_sales_total\": 922039, \"week\": \"march-18-2024\"}, {\"TopGuitar\": \"Troy\", \"weekly_sales_total\": 147822, \"week\": \"march-18-2024\"}, {\"TopGuitar\": \"Arcadia\", \"weekly_sales_total\": 146988, \"week\": \"march-18-2024\"}, {\"TopGuitar\": \"Stratford\", \"weekly_sales_total\": 303870, \"week\": \"march-18-2024\"}, {\"TopGuitar\": \"Mesa\", \"weekly_sales_total\": 806331, \"week\": \"september-16-2024\"}, {\"TopGuitar\": \"Lexington\", \"weekly_sales_total\": 956098, \"week\": \"september-16-2024\"}, {\"TopGuitar\": \"Buckeye\", \"weekly_sales_total\": 109619, \"week\": \"september-16-2024\"}, {\"TopGuitar\": \"Jasper\", \"weekly_sales_total\": 923895, \"week\": \"september-16-2024\"}, {\"TopGuitar\": \"Ozark\", \"weekly_sales_total\": 627076, \"week\": \"september-16-2024\"}, {\"TopGuitar\": \"Troy\", \"weekly_sales_total\": 596044, \"week\": \"september-16-2024\"}, {\"TopGuitar\": \"Arcadia\", \"weekly_sales_total\": 852898, \"week\": \"september-16-2024\"}, {\"TopGuitar\": \"Stratford\", \"weekly_sales_total\": 769685, \"week\": \"september-16-2024\"}, {\"TopGuitar\": \"Mesa\", \"weekly_sales_total\": 139789, \"week\": \"july-08-2024\"}, {\"TopGuitar\": \"Lexington\", \"weekly_sales_total\": 283815, \"week\": \"july-08-2024\"}, {\"TopGuitar\": \"Buckeye\", \"weekly_sales_total\": 388131, \"week\": \"july-08-2024\"}, {\"TopGuitar\": \"Jasper\", \"weekly_sales_total\": 763763, \"week\": \"july-08-2024\"}, {\"TopGuitar\": \"Ozark\", \"weekly_sales_total\": 575212, \"week\": \"july-08-2024\"}, {\"TopGuitar\": \"Troy\", \"weekly_sales_total\": 498201, \"week\": \"july-08-2024\"}, {\"TopGuitar\": \"Arcadia\", \"weekly_sales_total\": 457980, \"week\": \"july-08-2024\"}, {\"TopGuitar\": \"Stratford\", \"weekly_sales_total\": 976640, \"week\": \"july-08-2024\"}, {\"TopGuitar\": \"Mesa\", \"weekly_sales_total\": 138144, \"week\": \"april-01-2024\"}, {\"TopGuitar\": \"Lexington\", \"weekly_sales_total\": 458135, \"week\": \"april-01-2024\"}, {\"TopGuitar\": \"Buckeye\", \"weekly_sales_total\": 559499, \"week\": \"april-01-2024\"}, {\"TopGuitar\": \"Jasper\", \"weekly_sales_total\": 786983, \"week\": \"april-01-2024\"}, {\"TopGuitar\": \"Ozark\", \"weekly_sales_total\": 765552, \"week\": \"april-01-2024\"}, {\"TopGuitar\": \"Troy\", \"weekly_sales_total\": 456794, \"week\": \"april-01-2024\"}, {\"TopGuitar\": \"Arcadia\", \"weekly_sales_total\": 526168, \"week\": \"april-01-2024\"}, {\"TopGuitar\": \"Stratford\", \"weekly_sales_total\": 322775, \"week\": \"april-01-2024\"}, {\"TopGuitar\": \"Mesa\", \"weekly_sales_total\": 852927, \"week\": \"weekly_sales\"}, {\"TopGuitar\": \"Lexington\", \"weekly_sales_total\": 607180, \"week\": \"weekly_sales\"}, {\"TopGuitar\": \"Buckeye\", \"weekly_sales_total\": 687897, \"week\": \"weekly_sales\"}, {\"TopGuitar\": \"Jasper\", \"weekly_sales_total\": 521025, \"week\": \"weekly_sales\"}, {\"TopGuitar\": \"Ozark\", \"weekly_sales_total\": 544401, \"week\": \"weekly_sales\"}, {\"TopGuitar\": \"Troy\", \"weekly_sales_total\": 155087, \"week\": \"weekly_sales\"}, {\"TopGuitar\": \"Arcadia\", \"weekly_sales_total\": 954834, \"week\": \"weekly_sales\"}, {\"TopGuitar\": \"Stratford\", \"weekly_sales_total\": 672498, \"week\": \"weekly_sales\"}, {\"TopGuitar\": \"Mesa\", \"weekly_sales_total\": 733837, \"week\": \"february-12-2024\"}, {\"TopGuitar\": \"Lexington\", \"weekly_sales_total\": 163787, \"week\": \"february-12-2024\"}, {\"TopGuitar\": \"Buckeye\", \"weekly_sales_total\": 678169, \"week\": \"february-12-2024\"}, {\"TopGuitar\": \"Jasper\", \"weekly_sales_total\": 665735, \"week\": \"february-12-2024\"}, {\"TopGuitar\": \"Ozark\", \"weekly_sales_total\": 279504, \"week\": \"february-12-2024\"}, {\"TopGuitar\": \"Troy\", \"weekly_sales_total\": 260353, \"week\": \"february-12-2024\"}, {\"TopGuitar\": \"Arcadia\", \"weekly_sales_total\": 870399, \"week\": \"february-12-2024\"}, {\"TopGuitar\": \"Stratford\", \"weekly_sales_total\": 112667, \"week\": \"february-12-2024\"}, {\"TopGuitar\": \"Mesa\", \"weekly_sales_total\": 330188, \"week\": \"april-22-2024\"}, {\"TopGuitar\": \"Lexington\", \"weekly_sales_total\": 330552, \"week\": \"april-22-2024\"}, {\"TopGuitar\": \"Buckeye\", \"weekly_sales_total\": 891763, \"week\": \"april-22-2024\"}, {\"TopGuitar\": \"Jasper\", \"weekly_sales_total\": 427940, \"week\": \"april-22-2024\"}, {\"TopGuitar\": \"Ozark\", \"weekly_sales_total\": 392967, \"week\": \"april-22-2024\"}, {\"TopGuitar\": \"Troy\", \"weekly_sales_total\": 836967, \"week\": \"april-22-2024\"}, {\"TopGuitar\": \"Arcadia\", \"weekly_sales_total\": 962231, \"week\": \"april-22-2024\"}, {\"TopGuitar\": \"Stratford\", \"weekly_sales_total\": 135988, \"week\": \"april-22-2024\"}, {\"TopGuitar\": \"Mesa\", \"weekly_sales_total\": 583704, \"week\": \"june-03-2024\"}, {\"TopGuitar\": \"Lexington\", \"weekly_sales_total\": 541667, \"week\": \"june-03-2024\"}, {\"TopGuitar\": \"Buckeye\", \"weekly_sales_total\": 796397, \"week\": \"june-03-2024\"}, {\"TopGuitar\": \"Jasper\", \"weekly_sales_total\": 311568, \"week\": \"june-03-2024\"}, {\"TopGuitar\": \"Ozark\", \"weekly_sales_total\": 657278, \"week\": \"june-03-2024\"}, {\"TopGuitar\": \"Troy\", \"weekly_sales_total\": 192958, \"week\": \"june-03-2024\"}, {\"TopGuitar\": \"Arcadia\", \"weekly_sales_total\": 116358, \"week\": \"june-03-2024\"}, {\"TopGuitar\": \"Stratford\", \"weekly_sales_total\": 971624, \"week\": \"june-03-2024\"}, {\"TopGuitar\": \"Mesa\", \"weekly_sales_total\": 376449, \"week\": \"may-13-2024\"}, {\"TopGuitar\": \"Lexington\", \"weekly_sales_total\": 766766, \"week\": \"may-13-2024\"}, {\"TopGuitar\": \"Buckeye\", \"weekly_sales_total\": 690404, \"week\": \"may-13-2024\"}, {\"TopGuitar\": \"Jasper\", \"weekly_sales_total\": 797607, \"week\": \"may-13-2024\"}, {\"TopGuitar\": \"Ozark\", \"weekly_sales_total\": 559383, \"week\": \"may-13-2024\"}, {\"TopGuitar\": \"Troy\", \"weekly_sales_total\": 689751, \"week\": \"may-13-2024\"}, {\"TopGuitar\": \"Arcadia\", \"weekly_sales_total\": 692417, \"week\": \"may-13-2024\"}, {\"TopGuitar\": \"Stratford\", \"weekly_sales_total\": 759896, \"week\": \"may-13-2024\"}, {\"TopGuitar\": \"Mesa\", \"weekly_sales_total\": 895328, \"week\": \"june-17-2024\"}, {\"TopGuitar\": \"Lexington\", \"weekly_sales_total\": 932515, \"week\": \"june-17-2024\"}, {\"TopGuitar\": \"Buckeye\", \"weekly_sales_total\": 409397, \"week\": \"june-17-2024\"}, {\"TopGuitar\": \"Jasper\", \"weekly_sales_total\": 331031, \"week\": \"june-17-2024\"}, {\"TopGuitar\": \"Ozark\", \"weekly_sales_total\": 510883, \"week\": \"june-17-2024\"}, {\"TopGuitar\": \"Troy\", \"weekly_sales_total\": 756967, \"week\": \"june-17-2024\"}, {\"TopGuitar\": \"Arcadia\", \"weekly_sales_total\": 168480, \"week\": \"june-17-2024\"}, {\"TopGuitar\": \"Stratford\", \"weekly_sales_total\": 738899, \"week\": \"june-17-2024\"}, {\"TopGuitar\": \"Mesa\", \"weekly_sales_total\": 697254, \"week\": \"may-20-2024\"}, {\"TopGuitar\": \"Lexington\", \"weekly_sales_total\": 222028, \"week\": \"may-20-2024\"}, {\"TopGuitar\": \"Buckeye\", \"weekly_sales_total\": 432390, \"week\": \"may-20-2024\"}, {\"TopGuitar\": \"Jasper\", \"weekly_sales_total\": 775114, \"week\": \"may-20-2024\"}, {\"TopGuitar\": \"Ozark\", \"weekly_sales_total\": 479133, \"week\": \"may-20-2024\"}, {\"TopGuitar\": \"Troy\", \"weekly_sales_total\": 794727, \"week\": \"may-20-2024\"}, {\"TopGuitar\": \"Arcadia\", \"weekly_sales_total\": 828886, \"week\": \"may-20-2024\"}, {\"TopGuitar\": \"Stratford\", \"weekly_sales_total\": 110693, \"week\": \"may-20-2024\"}, {\"TopGuitar\": \"Mesa\", \"weekly_sales_total\": 226575, \"week\": \"february-05-2024\"}, {\"TopGuitar\": \"Lexington\", \"weekly_sales_total\": 104203, \"week\": \"february-05-2024\"}, {\"TopGuitar\": \"Buckeye\", \"weekly_sales_total\": 269186, \"week\": \"february-05-2024\"}, {\"TopGuitar\": \"Jasper\", \"weekly_sales_total\": 397661, \"week\": \"february-05-2024\"}, {\"TopGuitar\": \"Ozark\", \"weekly_sales_total\": 534303, \"week\": \"february-05-2024\"}, {\"TopGuitar\": \"Troy\", \"weekly_sales_total\": 458659, \"week\": \"february-05-2024\"}, {\"TopGuitar\": \"Arcadia\", \"weekly_sales_total\": 971791, \"week\": \"february-05-2024\"}, {\"TopGuitar\": \"Stratford\", \"weekly_sales_total\": 855892, \"week\": \"february-05-2024\"}, {\"TopGuitar\": \"Mesa\", \"weekly_sales_total\": 168899, \"week\": \"may-06-2024\"}, {\"TopGuitar\": \"Lexington\", \"weekly_sales_total\": 191895, \"week\": \"may-06-2024\"}, {\"TopGuitar\": \"Buckeye\", \"weekly_sales_total\": 625883, \"week\": \"may-06-2024\"}, {\"TopGuitar\": \"Jasper\", \"weekly_sales_total\": 860144, \"week\": \"may-06-2024\"}, {\"TopGuitar\": \"Ozark\", \"weekly_sales_total\": 911755, \"week\": \"may-06-2024\"}, {\"TopGuitar\": \"Troy\", \"weekly_sales_total\": 381811, \"week\": \"may-06-2024\"}, {\"TopGuitar\": \"Arcadia\", \"weekly_sales_total\": 352916, \"week\": \"may-06-2024\"}, {\"TopGuitar\": \"Stratford\", \"weekly_sales_total\": 482958, \"week\": \"may-06-2024\"}, {\"TopGuitar\": \"Mesa\", \"weekly_sales_total\": 478576, \"week\": \"july-29-2024\"}, {\"TopGuitar\": \"Lexington\", \"weekly_sales_total\": 575249, \"week\": \"july-29-2024\"}, {\"TopGuitar\": \"Buckeye\", \"weekly_sales_total\": 666198, \"week\": \"july-29-2024\"}, {\"TopGuitar\": \"Jasper\", \"weekly_sales_total\": 904256, \"week\": \"july-29-2024\"}, {\"TopGuitar\": \"Ozark\", \"weekly_sales_total\": 528842, \"week\": \"july-29-2024\"}, {\"TopGuitar\": \"Troy\", \"weekly_sales_total\": 417387, \"week\": \"july-29-2024\"}, {\"TopGuitar\": \"Arcadia\", \"weekly_sales_total\": 491641, \"week\": \"july-29-2024\"}, {\"TopGuitar\": \"Stratford\", \"weekly_sales_total\": 482307, \"week\": \"july-29-2024\"}, {\"TopGuitar\": \"Mesa\", \"weekly_sales_total\": 339486, \"week\": \"december-16-2024\"}, {\"TopGuitar\": \"Lexington\", \"weekly_sales_total\": 172250, \"week\": \"december-16-2024\"}, {\"TopGuitar\": \"Buckeye\", \"weekly_sales_total\": 275784, \"week\": \"december-16-2024\"}, {\"TopGuitar\": \"Jasper\", \"weekly_sales_total\": 759194, \"week\": \"december-16-2024\"}, {\"TopGuitar\": \"Ozark\", \"weekly_sales_total\": 631040, \"week\": \"december-16-2024\"}, {\"TopGuitar\": \"Troy\", \"weekly_sales_total\": 357817, \"week\": \"december-16-2024\"}, {\"TopGuitar\": \"Arcadia\", \"weekly_sales_total\": 509952, \"week\": \"december-16-2024\"}, {\"TopGuitar\": \"Stratford\", \"weekly_sales_total\": 978561, \"week\": \"december-16-2024\"}, {\"TopGuitar\": \"Mesa\", \"weekly_sales_total\": 688020, \"week\": \"september-02-2024\"}, {\"TopGuitar\": \"Lexington\", \"weekly_sales_total\": 527402, \"week\": \"september-02-2024\"}, {\"TopGuitar\": \"Buckeye\", \"weekly_sales_total\": 545102, \"week\": \"september-02-2024\"}, {\"TopGuitar\": \"Jasper\", \"weekly_sales_total\": 422498, \"week\": \"september-02-2024\"}, {\"TopGuitar\": \"Ozark\", \"weekly_sales_total\": 858628, \"week\": \"september-02-2024\"}, {\"TopGuitar\": \"Troy\", \"weekly_sales_total\": 983105, \"week\": \"september-02-2024\"}, {\"TopGuitar\": \"Arcadia\", \"weekly_sales_total\": 551738, \"week\": \"september-02-2024\"}, {\"TopGuitar\": \"Stratford\", \"weekly_sales_total\": 486241, \"week\": \"september-02-2024\"}, {\"TopGuitar\": \"Mesa\", \"weekly_sales_total\": 700964, \"week\": \"march-25-2024\"}, {\"TopGuitar\": \"Lexington\", \"weekly_sales_total\": 989242, \"week\": \"march-25-2024\"}, {\"TopGuitar\": \"Buckeye\", \"weekly_sales_total\": 912181, \"week\": \"march-25-2024\"}, {\"TopGuitar\": \"Jasper\", \"weekly_sales_total\": 321447, \"week\": \"march-25-2024\"}, {\"TopGuitar\": \"Ozark\", \"weekly_sales_total\": 416396, \"week\": \"march-25-2024\"}, {\"TopGuitar\": \"Troy\", \"weekly_sales_total\": 829097, \"week\": \"march-25-2024\"}, {\"TopGuitar\": \"Arcadia\", \"weekly_sales_total\": 543179, \"week\": \"march-25-2024\"}, {\"TopGuitar\": \"Stratford\", \"weekly_sales_total\": 270325, \"week\": \"march-25-2024\"}, {\"TopGuitar\": \"Mesa\", \"weekly_sales_total\": 963376, \"week\": \"december-02-2024\"}, {\"TopGuitar\": \"Lexington\", \"weekly_sales_total\": 219913, \"week\": \"december-02-2024\"}, {\"TopGuitar\": \"Buckeye\", \"weekly_sales_total\": 635346, \"week\": \"december-02-2024\"}, {\"TopGuitar\": \"Jasper\", \"weekly_sales_total\": 847639, \"week\": \"december-02-2024\"}, {\"TopGuitar\": \"Ozark\", \"weekly_sales_total\": 294256, \"week\": \"december-02-2024\"}, {\"TopGuitar\": \"Troy\", \"weekly_sales_total\": 984172, \"week\": \"december-02-2024\"}, {\"TopGuitar\": \"Arcadia\", \"weekly_sales_total\": 996926, \"week\": \"december-02-2024\"}, {\"TopGuitar\": \"Stratford\", \"weekly_sales_total\": 999142, \"week\": \"december-02-2024\"}, {\"TopGuitar\": \"Mesa\", \"weekly_sales_total\": 576808, \"week\": \"december-30-2024\"}, {\"TopGuitar\": \"Lexington\", \"weekly_sales_total\": 131302, \"week\": \"december-30-2024\"}, {\"TopGuitar\": \"Buckeye\", \"weekly_sales_total\": 919986, \"week\": \"december-30-2024\"}, {\"TopGuitar\": \"Jasper\", \"weekly_sales_total\": 444649, \"week\": \"december-30-2024\"}, {\"TopGuitar\": \"Ozark\", \"weekly_sales_total\": 638419, \"week\": \"december-30-2024\"}, {\"TopGuitar\": \"Troy\", \"weekly_sales_total\": 296973, \"week\": \"december-30-2024\"}, {\"TopGuitar\": \"Arcadia\", \"weekly_sales_total\": 813703, \"week\": \"december-30-2024\"}, {\"TopGuitar\": \"Stratford\", \"weekly_sales_total\": 464372, \"week\": \"december-30-2024\"}, {\"TopGuitar\": \"Mesa\", \"weekly_sales_total\": 965662, \"week\": \"july-15-2024\"}, {\"TopGuitar\": \"Lexington\", \"weekly_sales_total\": 553880, \"week\": \"july-15-2024\"}, {\"TopGuitar\": \"Buckeye\", \"weekly_sales_total\": 562387, \"week\": \"july-15-2024\"}, {\"TopGuitar\": \"Jasper\", \"weekly_sales_total\": 600937, \"week\": \"july-15-2024\"}, {\"TopGuitar\": \"Ozark\", \"weekly_sales_total\": 873733, \"week\": \"july-15-2024\"}, {\"TopGuitar\": \"Troy\", \"weekly_sales_total\": 383229, \"week\": \"july-15-2024\"}, {\"TopGuitar\": \"Arcadia\", \"weekly_sales_total\": 838184, \"week\": \"july-15-2024\"}, {\"TopGuitar\": \"Stratford\", \"weekly_sales_total\": 414156, \"week\": \"july-15-2024\"}, {\"TopGuitar\": \"Mesa\", \"weekly_sales_total\": 505207, \"week\": \"january-01-2024\"}, {\"TopGuitar\": \"Lexington\", \"weekly_sales_total\": 398930, \"week\": \"january-01-2024\"}, {\"TopGuitar\": \"Buckeye\", \"weekly_sales_total\": 808182, \"week\": \"january-01-2024\"}, {\"TopGuitar\": \"Jasper\", \"weekly_sales_total\": 421827, \"week\": \"january-01-2024\"}, {\"TopGuitar\": \"Ozark\", \"weekly_sales_total\": 204708, \"week\": \"january-01-2024\"}, {\"TopGuitar\": \"Troy\", \"weekly_sales_total\": 211068, \"week\": \"january-01-2024\"}, {\"TopGuitar\": \"Arcadia\", \"weekly_sales_total\": 485997, \"week\": \"january-01-2024\"}, {\"TopGuitar\": \"Stratford\", \"weekly_sales_total\": 707797, \"week\": \"january-01-2024\"}, {\"TopGuitar\": \"Mesa\", \"weekly_sales_total\": 588728, \"week\": \"october-14-2024\"}, {\"TopGuitar\": \"Lexington\", \"weekly_sales_total\": 970976, \"week\": \"october-14-2024\"}, {\"TopGuitar\": \"Buckeye\", \"weekly_sales_total\": 141064, \"week\": \"october-14-2024\"}, {\"TopGuitar\": \"Jasper\", \"weekly_sales_total\": 476981, \"week\": \"october-14-2024\"}, {\"TopGuitar\": \"Ozark\", \"weekly_sales_total\": 811331, \"week\": \"october-14-2024\"}, {\"TopGuitar\": \"Troy\", \"weekly_sales_total\": 569852, \"week\": \"october-14-2024\"}, {\"TopGuitar\": \"Arcadia\", \"weekly_sales_total\": 269157, \"week\": \"october-14-2024\"}, {\"TopGuitar\": \"Stratford\", \"weekly_sales_total\": 320075, \"week\": \"october-14-2024\"}, {\"TopGuitar\": \"Mesa\", \"weekly_sales_total\": 719204, \"week\": \"december-23-2024\"}, {\"TopGuitar\": \"Lexington\", \"weekly_sales_total\": 267077, \"week\": \"december-23-2024\"}, {\"TopGuitar\": \"Buckeye\", \"weekly_sales_total\": 747779, \"week\": \"december-23-2024\"}, {\"TopGuitar\": \"Jasper\", \"weekly_sales_total\": 950296, \"week\": \"december-23-2024\"}, {\"TopGuitar\": \"Ozark\", \"weekly_sales_total\": 522632, \"week\": \"december-23-2024\"}, {\"TopGuitar\": \"Troy\", \"weekly_sales_total\": 400708, \"week\": \"december-23-2024\"}, {\"TopGuitar\": \"Arcadia\", \"weekly_sales_total\": 988089, \"week\": \"december-23-2024\"}, {\"TopGuitar\": \"Stratford\", \"weekly_sales_total\": 254109, \"week\": \"december-23-2024\"}, {\"TopGuitar\": \"Mesa\", \"weekly_sales_total\": 147951, \"week\": \"september-30-2024\"}, {\"TopGuitar\": \"Lexington\", \"weekly_sales_total\": 128987, \"week\": \"september-30-2024\"}, {\"TopGuitar\": \"Buckeye\", \"weekly_sales_total\": 823949, \"week\": \"september-30-2024\"}, {\"TopGuitar\": \"Jasper\", \"weekly_sales_total\": 848221, \"week\": \"september-30-2024\"}, {\"TopGuitar\": \"Ozark\", \"weekly_sales_total\": 404001, \"week\": \"september-30-2024\"}, {\"TopGuitar\": \"Troy\", \"weekly_sales_total\": 536925, \"week\": \"september-30-2024\"}, {\"TopGuitar\": \"Arcadia\", \"weekly_sales_total\": 359007, \"week\": \"september-30-2024\"}, {\"TopGuitar\": \"Stratford\", \"weekly_sales_total\": 312086, \"week\": \"september-30-2024\"}, {\"TopGuitar\": \"Mesa\", \"weekly_sales_total\": 350970, \"week\": \"november-04-2024\"}, {\"TopGuitar\": \"Lexington\", \"weekly_sales_total\": 659858, \"week\": \"november-04-2024\"}, {\"TopGuitar\": \"Buckeye\", \"weekly_sales_total\": 688374, \"week\": \"november-04-2024\"}, {\"TopGuitar\": \"Jasper\", \"weekly_sales_total\": 576033, \"week\": \"november-04-2024\"}, {\"TopGuitar\": \"Ozark\", \"weekly_sales_total\": 732852, \"week\": \"november-04-2024\"}, {\"TopGuitar\": \"Troy\", \"weekly_sales_total\": 841928, \"week\": \"november-04-2024\"}, {\"TopGuitar\": \"Arcadia\", \"weekly_sales_total\": 517396, \"week\": \"november-04-2024\"}, {\"TopGuitar\": \"Stratford\", \"weekly_sales_total\": 349179, \"week\": \"november-04-2024\"}, {\"TopGuitar\": \"Mesa\", \"weekly_sales_total\": 842642, \"week\": \"august-12-2024\"}, {\"TopGuitar\": \"Lexington\", \"weekly_sales_total\": 404858, \"week\": \"august-12-2024\"}, {\"TopGuitar\": \"Buckeye\", \"weekly_sales_total\": 117920, \"week\": \"august-12-2024\"}, {\"TopGuitar\": \"Jasper\", \"weekly_sales_total\": 670844, \"week\": \"august-12-2024\"}, {\"TopGuitar\": \"Ozark\", \"weekly_sales_total\": 976849, \"week\": \"august-12-2024\"}, {\"TopGuitar\": \"Troy\", \"weekly_sales_total\": 940075, \"week\": \"august-12-2024\"}, {\"TopGuitar\": \"Arcadia\", \"weekly_sales_total\": 532335, \"week\": \"august-12-2024\"}, {\"TopGuitar\": \"Stratford\", \"weekly_sales_total\": 537694, \"week\": \"august-12-2024\"}, {\"TopGuitar\": \"Mesa\", \"weekly_sales_total\": 340542, \"week\": \"january-15-2024\"}, {\"TopGuitar\": \"Lexington\", \"weekly_sales_total\": 194964, \"week\": \"january-15-2024\"}, {\"TopGuitar\": \"Buckeye\", \"weekly_sales_total\": 559169, \"week\": \"january-15-2024\"}, {\"TopGuitar\": \"Jasper\", \"weekly_sales_total\": 688270, \"week\": \"january-15-2024\"}, {\"TopGuitar\": \"Ozark\", \"weekly_sales_total\": 157944, \"week\": \"january-15-2024\"}, {\"TopGuitar\": \"Troy\", \"weekly_sales_total\": 608564, \"week\": \"january-15-2024\"}, {\"TopGuitar\": \"Arcadia\", \"weekly_sales_total\": 727945, \"week\": \"january-15-2024\"}, {\"TopGuitar\": \"Stratford\", \"weekly_sales_total\": 778911, \"week\": \"january-15-2024\"}, {\"TopGuitar\": \"Mesa\", \"weekly_sales_total\": 533488, \"week\": \"march-04-2024\"}, {\"TopGuitar\": \"Lexington\", \"weekly_sales_total\": 613465, \"week\": \"march-04-2024\"}, {\"TopGuitar\": \"Buckeye\", \"weekly_sales_total\": 853342, \"week\": \"march-04-2024\"}, {\"TopGuitar\": \"Jasper\", \"weekly_sales_total\": 834396, \"week\": \"march-04-2024\"}, {\"TopGuitar\": \"Ozark\", \"weekly_sales_total\": 643831, \"week\": \"march-04-2024\"}, {\"TopGuitar\": \"Troy\", \"weekly_sales_total\": 239860, \"week\": \"march-04-2024\"}, {\"TopGuitar\": \"Arcadia\", \"weekly_sales_total\": 914406, \"week\": \"march-04-2024\"}, {\"TopGuitar\": \"Stratford\", \"weekly_sales_total\": 842283, \"week\": \"march-04-2024\"}, {\"TopGuitar\": \"Mesa\", \"weekly_sales_total\": 498052, \"week\": \"april-08-2024\"}, {\"TopGuitar\": \"Lexington\", \"weekly_sales_total\": 902114, \"week\": \"april-08-2024\"}, {\"TopGuitar\": \"Buckeye\", \"weekly_sales_total\": 907139, \"week\": \"april-08-2024\"}, {\"TopGuitar\": \"Jasper\", \"weekly_sales_total\": 107299, \"week\": \"april-08-2024\"}, {\"TopGuitar\": \"Ozark\", \"weekly_sales_total\": 948150, \"week\": \"april-08-2024\"}, {\"TopGuitar\": \"Troy\", \"weekly_sales_total\": 464698, \"week\": \"april-08-2024\"}, {\"TopGuitar\": \"Arcadia\", \"weekly_sales_total\": 794968, \"week\": \"april-08-2024\"}, {\"TopGuitar\": \"Stratford\", \"weekly_sales_total\": 218006, \"week\": \"april-08-2024\"}, {\"TopGuitar\": \"Mesa\", \"weekly_sales_total\": 467031, \"week\": \"february-26-2024\"}, {\"TopGuitar\": \"Lexington\", \"weekly_sales_total\": 192114, \"week\": \"february-26-2024\"}, {\"TopGuitar\": \"Buckeye\", \"weekly_sales_total\": 739874, \"week\": \"february-26-2024\"}, {\"TopGuitar\": \"Jasper\", \"weekly_sales_total\": 336066, \"week\": \"february-26-2024\"}, {\"TopGuitar\": \"Ozark\", \"weekly_sales_total\": 114145, \"week\": \"february-26-2024\"}, {\"TopGuitar\": \"Troy\", \"weekly_sales_total\": 250107, \"week\": \"february-26-2024\"}, {\"TopGuitar\": \"Arcadia\", \"weekly_sales_total\": 520223, \"week\": \"february-26-2024\"}, {\"TopGuitar\": \"Stratford\", \"weekly_sales_total\": 115006, \"week\": \"february-26-2024\"}]}}, {\"mode\": \"vega-lite\"});\n",
              "</script>"
            ],
            "text/plain": [
              "alt.Chart(...)"
            ]
          },
          "metadata": {},
          "execution_count": 21
        }
      ]
    },
    {
      "cell_type": "code",
      "source": [
        "# Allows user to import data analysis toolkits from the panda library\n",
        "import pandas as pd\n",
        "\n",
        "# Groups the the dataframe by the specified values and computes the statistics in each group\n",
        "grouped_stats = df.groupby('TopGuitar')['weekly_sales_total'].describe()\n",
        "\n",
        "# Calculates the variance of the weekly sales defined by the column in the dataframe\n",
        "grouped_variance = df.groupby('TopGuitar')['weekly_sales_total'].var().rename(\"variance\")\n",
        "\n",
        "# Combines the statistics and variance data sets into the dataframe\n",
        "stats_with_variance = pd.concat([grouped_stats, grouped_variance], axis=1)\n",
        "\n",
        "# Prints the combined data for the user to see\n",
        "print(stats_with_variance)\n"
      ],
      "metadata": {
        "id": "uj4crFV0XHJx",
        "colab": {
          "base_uri": "https://localhost:8080/"
        },
        "outputId": "cbe08279-3501-4e3c-9990-684e5a5b5df4"
      },
      "execution_count": 22,
      "outputs": [
        {
          "output_type": "stream",
          "name": "stdout",
          "text": [
            "           count           mean            std       min        25%       50%  \\\n",
            "TopGuitar                                                                       \n",
            "Arcadia     54.0  615603.314815  261885.065617  116358.0  438674.25  547458.5   \n",
            "Buckeye     54.0  597757.759259  250784.900616  109619.0  415145.25  675542.5   \n",
            "Jasper      54.0  558984.888889  253588.983968  107299.0  341357.00  518263.5   \n",
            "Lexington   54.0  498220.574074  274394.030158  104203.0  253327.25  458424.5   \n",
            "Mesa        54.0  564811.425926  258446.256300  100020.0  375097.50  586216.0   \n",
            "Ozark       54.0  544411.222222  249986.287406  114145.0  370268.25  551881.0   \n",
            "Stratford   54.0  533128.333333  266630.985563  110693.0  314083.25  528079.5   \n",
            "Troy        54.0  546602.574074  280676.063035  130620.0  316991.25  494997.5   \n",
            "\n",
            "                 75%       max      variance  \n",
            "TopGuitar                                     \n",
            "Arcadia    849964.00  996926.0  6.858379e+10  \n",
            "Buckeye    789790.00  944329.0  6.289307e+10  \n",
            "Jasper     784015.75  998987.0  6.430737e+10  \n",
            "Lexington  680860.00  989242.0  7.529208e+10  \n",
            "Mesa       803014.25  981593.0  6.679447e+10  \n",
            "Ozark      731441.50  984805.0  6.249314e+10  \n",
            "Stratford  744746.00  999142.0  7.109208e+10  \n",
            "Troy       820504.50  995074.0  7.877905e+10  \n"
          ]
        }
      ]
    },
    {
      "cell_type": "code",
      "source": [
        "# Allows user to import data analysis toolkits from the panda library\n",
        "import pandas as pd\n",
        "\n",
        "# Calculates the variance of the weekly sales defined by the column in the dataframe\n",
        "grouped_variance = df.groupby('TopGuitar')['weekly_sales_total'].var().rename(\"variance\")\n",
        "\n",
        "# Sorts the variance data into order based on variance values\n",
        "ranked_stores = grouped_variance.sort_values(ascending=False)\n",
        "\n",
        "# Prints the ranked stores for the user to see\n",
        "print(ranked_stores)"
      ],
      "metadata": {
        "id": "ss30iF6uXHR6",
        "colab": {
          "base_uri": "https://localhost:8080/"
        },
        "outputId": "c9b382ea-e736-467e-b5a3-af3448a6b203"
      },
      "execution_count": 23,
      "outputs": [
        {
          "output_type": "stream",
          "name": "stdout",
          "text": [
            "TopGuitar\n",
            "Troy         7.877905e+10\n",
            "Lexington    7.529208e+10\n",
            "Stratford    7.109208e+10\n",
            "Arcadia      6.858379e+10\n",
            "Mesa         6.679447e+10\n",
            "Jasper       6.430737e+10\n",
            "Buckeye      6.289307e+10\n",
            "Ozark        6.249314e+10\n",
            "Name: variance, dtype: float64\n"
          ]
        }
      ]
    },
    {
      "cell_type": "code",
      "source": [
        "# Imports a visualization tool from the python library\n",
        "import altair as alt\n",
        "\n",
        "# Transfers the ranked stores into a dataframe with two columns\n",
        "data = ranked_stores.reset_index()\n",
        "data.columns = ['TopGuitar', 'variance']\n",
        "\n",
        "# Creates a color scale using Altair spcified with redblue color scheme\n",
        "color_scale = alt.Scale(scheme='redblue', domainMid=0)\n",
        "\n",
        "# Creates a histogram using Altair with the details and values provided\n",
        "histogram = alt.Chart(data).mark_bar().encode(\n",
        "  x='TopGuitar:N',\n",
        "  y='variance:Q',\n",
        "  color=alt.Color('variance:Q', scale=color_scale, legend=None),\n",
        "  tooltip=['TopGuitar:N', 'variance:Q']\n",
        ").properties(\n",
        "  width=800\n",
        ")\n",
        "\n",
        "# Shows the histogram for the user to see\n",
        "histogram"
      ],
      "metadata": {
        "id": "VBrZCV3jXHU6",
        "colab": {
          "base_uri": "https://localhost:8080/",
          "height": 403
        },
        "outputId": "8de15bad-6258-4020-fa28-6d4a1acbd53b"
      },
      "execution_count": 24,
      "outputs": [
        {
          "output_type": "execute_result",
          "data": {
            "text/html": [
              "\n",
              "<div id=\"altair-viz-84e618841e1047fead7990dac318d9cc\"></div>\n",
              "<script type=\"text/javascript\">\n",
              "  var VEGA_DEBUG = (typeof VEGA_DEBUG == \"undefined\") ? {} : VEGA_DEBUG;\n",
              "  (function(spec, embedOpt){\n",
              "    let outputDiv = document.currentScript.previousElementSibling;\n",
              "    if (outputDiv.id !== \"altair-viz-84e618841e1047fead7990dac318d9cc\") {\n",
              "      outputDiv = document.getElementById(\"altair-viz-84e618841e1047fead7990dac318d9cc\");\n",
              "    }\n",
              "    const paths = {\n",
              "      \"vega\": \"https://cdn.jsdelivr.net/npm//vega@5?noext\",\n",
              "      \"vega-lib\": \"https://cdn.jsdelivr.net/npm//vega-lib?noext\",\n",
              "      \"vega-lite\": \"https://cdn.jsdelivr.net/npm//vega-lite@4.17.0?noext\",\n",
              "      \"vega-embed\": \"https://cdn.jsdelivr.net/npm//vega-embed@6?noext\",\n",
              "    };\n",
              "\n",
              "    function maybeLoadScript(lib, version) {\n",
              "      var key = `${lib.replace(\"-\", \"\")}_version`;\n",
              "      return (VEGA_DEBUG[key] == version) ?\n",
              "        Promise.resolve(paths[lib]) :\n",
              "        new Promise(function(resolve, reject) {\n",
              "          var s = document.createElement('script');\n",
              "          document.getElementsByTagName(\"head\")[0].appendChild(s);\n",
              "          s.async = true;\n",
              "          s.onload = () => {\n",
              "            VEGA_DEBUG[key] = version;\n",
              "            return resolve(paths[lib]);\n",
              "          };\n",
              "          s.onerror = () => reject(`Error loading script: ${paths[lib]}`);\n",
              "          s.src = paths[lib];\n",
              "        });\n",
              "    }\n",
              "\n",
              "    function showError(err) {\n",
              "      outputDiv.innerHTML = `<div class=\"error\" style=\"color:red;\">${err}</div>`;\n",
              "      throw err;\n",
              "    }\n",
              "\n",
              "    function displayChart(vegaEmbed) {\n",
              "      vegaEmbed(outputDiv, spec, embedOpt)\n",
              "        .catch(err => showError(`Javascript Error: ${err.message}<br>This usually means there's a typo in your chart specification. See the javascript console for the full traceback.`));\n",
              "    }\n",
              "\n",
              "    if(typeof define === \"function\" && define.amd) {\n",
              "      requirejs.config({paths});\n",
              "      require([\"vega-embed\"], displayChart, err => showError(`Error loading script: ${err.message}`));\n",
              "    } else {\n",
              "      maybeLoadScript(\"vega\", \"5\")\n",
              "        .then(() => maybeLoadScript(\"vega-lite\", \"4.17.0\"))\n",
              "        .then(() => maybeLoadScript(\"vega-embed\", \"6\"))\n",
              "        .catch(showError)\n",
              "        .then(() => displayChart(vegaEmbed));\n",
              "    }\n",
              "  })({\"config\": {\"view\": {\"continuousWidth\": 400, \"continuousHeight\": 300}}, \"data\": {\"name\": \"data-2bf51702c74a01753a89438f5ec1825c\"}, \"mark\": \"bar\", \"encoding\": {\"color\": {\"field\": \"variance\", \"legend\": null, \"scale\": {\"domainMid\": 0, \"scheme\": \"redblue\"}, \"type\": \"quantitative\"}, \"tooltip\": [{\"field\": \"TopGuitar\", \"type\": \"nominal\"}, {\"field\": \"variance\", \"type\": \"quantitative\"}], \"x\": {\"field\": \"TopGuitar\", \"type\": \"nominal\"}, \"y\": {\"field\": \"variance\", \"type\": \"quantitative\"}}, \"width\": 800, \"$schema\": \"https://vega.github.io/schema/vega-lite/v4.17.0.json\", \"datasets\": {\"data-2bf51702c74a01753a89438f5ec1825c\": [{\"TopGuitar\": \"Troy\", \"variance\": 78779052360.55101}, {\"TopGuitar\": \"Lexington\", \"variance\": 75292083786.17368}, {\"TopGuitar\": \"Stratford\", \"variance\": 71092082462.49059}, {\"TopGuitar\": \"Arcadia\", \"variance\": 68583787593.35188}, {\"TopGuitar\": \"Mesa\", \"variance\": 66794467395.720825}, {\"TopGuitar\": \"Jasper\", \"variance\": 64307372789.911964}, {\"TopGuitar\": \"Buckeye\", \"variance\": 62893066376.86549}, {\"TopGuitar\": \"Ozark\", \"variance\": 62493143891.081764}]}}, {\"mode\": \"vega-lite\"});\n",
              "</script>"
            ],
            "text/plain": [
              "alt.Chart(...)"
            ]
          },
          "metadata": {},
          "execution_count": 24
        }
      ]
    },
    {
      "cell_type": "code",
      "source": [],
      "metadata": {
        "id": "waCmo4lTXHXs"
      },
      "execution_count": null,
      "outputs": []
    },
    {
      "cell_type": "code",
      "source": [],
      "metadata": {
        "id": "pNKEXtMNXHag"
      },
      "execution_count": null,
      "outputs": []
    }
  ]
}