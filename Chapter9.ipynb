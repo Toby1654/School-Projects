{
  "nbformat": 4,
  "nbformat_minor": 0,
  "metadata": {
    "colab": {
      "provenance": [],
      "authorship_tag": "ABX9TyMiQAfQ0iDNI+ZBxGRaoTJ+",
      "include_colab_link": true
    },
    "kernelspec": {
      "name": "python3",
      "display_name": "Python 3"
    },
    "language_info": {
      "name": "python"
    }
  },
  "cells": [
    {
      "cell_type": "markdown",
      "metadata": {
        "id": "view-in-github",
        "colab_type": "text"
      },
      "source": [
        "<a href=\"https://colab.research.google.com/github/Toby1654/School-Projects/blob/main/Chapter9.ipynb\" target=\"_parent\"><img src=\"https://colab.research.google.com/assets/colab-badge.svg\" alt=\"Open In Colab\"/></a>"
      ]
    },
    {
      "cell_type": "code",
      "execution_count": 1,
      "metadata": {
        "id": "hEYbysHlLB0w"
      },
      "outputs": [],
      "source": [
        "import os\n",
        "\n",
        "cwd = os.getcwd()\n",
        "\n",
        "files = os.listdir(cwd)\n",
        "\n",
        "csv_files = [f for f in files if f.endswith('.csv')]\n",
        "\n",
        "for f in csv_files:\n",
        "  os.remove(os.path.join(cwd, f))"
      ]
    },
    {
      "cell_type": "code",
      "source": [
        "import pandas as pd\n",
        "import random\n",
        "\n",
        "cities = ['Mesa', 'Lexington', 'Buckeye', 'Jasper', 'Ozark', 'Troy', 'Arcadia', 'Stratford']\n",
        "\n",
        "weekly_totals_per_store = []\n",
        "\n",
        "for city in cities:\n",
        "  TopGuitar = city\n",
        "  weekly_sales_total = random.randint(100000, 1000000)\n",
        "  store_dict = {'TopGuitar': TopGuitar, 'weekly_sales_total': weekly_sales_total}\n",
        "  weekly_totals_per_store.append(store_dict)\n",
        "\n",
        "df = pd.DataFrame(weekly_totals_per_store)\n",
        "\n",
        "df.to_csv('weekly_sales.csv', index=False)\n",
        "\n",
        "print(\"Data saved to 'weekly_sales.csv'\")"
      ],
      "metadata": {
        "colab": {
          "base_uri": "https://localhost:8080/"
        },
        "id": "IqVhdoqqLroa",
        "outputId": "622d6b36-89a7-477f-e2aa-ea0c5b1ff50f"
      },
      "execution_count": 2,
      "outputs": [
        {
          "output_type": "stream",
          "name": "stdout",
          "text": [
            "Data saved to 'weekly_sales.csv'\n"
          ]
        }
      ]
    },
    {
      "cell_type": "code",
      "source": [
        "import pandas as pd\n",
        "import random\n",
        "from datetime import datetime, timedelta\n",
        "\n",
        "cities = ['Mesa', 'Lexington', 'Buckeye', 'Jasper', 'Ozark', 'Troy', 'Arcadia', 'Stratford']\n",
        "\n",
        "weekly_totals_per_store = []\n",
        "\n",
        "start_date = datetime(2024, 1, 1)\n",
        "end_date = datetime(2024, 12, 31)\n",
        "current_date = start_date\n",
        "\n",
        "while current_date <= end_date:\n",
        "  week_name = current_date.strftime('%B-%d-%Y')\n",
        "  current_date += timedelta(days=7)\n",
        "\n",
        "print(current_date)"
      ],
      "metadata": {
        "id": "tK0nlkcqLrtU",
        "colab": {
          "base_uri": "https://localhost:8080/"
        },
        "outputId": "7e569af5-cef8-4548-81cc-10ec629dd033"
      },
      "execution_count": 3,
      "outputs": [
        {
          "output_type": "stream",
          "name": "stdout",
          "text": [
            "2025-01-06 00:00:00\n"
          ]
        }
      ]
    },
    {
      "cell_type": "code",
      "source": [
        "cities = ['Mesa', 'Lexington', 'Buckeye', 'Jasper', 'Ozark', 'Troy', 'Arcadia', 'Stratford']\n",
        "\n",
        "start_date = datetime(2024, 1, 1)\n",
        "end_date = datetime(2024, 12, 31)\n",
        "current_date = start_date\n",
        "\n",
        "while current_date <= end_date:\n",
        "  weekly_totals_per_store = []\n",
        "  week_name = current_date.strftime('%B-%d-%Y')\n",
        "  current_date += timedelta(days=7)\n",
        "\n",
        "  for city in cities:\n",
        "    TopGuitar = city\n",
        "    weekly_sales_total = random.randint(100000, 1000000)\n",
        "    store_dict = {'TopGuitar': TopGuitar, 'weekly_sales_total': weekly_sales_total}\n",
        "    weekly_totals_per_store.append(store_dict)\n",
        "\n",
        "    df = pd.DataFrame(weekly_totals_per_store)\n",
        "\n",
        "    save_as = week_name.replace(' ', '-').lower() + '.csv'\n",
        "    df.to_csv(save_as, index=False)\n"
      ],
      "metadata": {
        "id": "oMZ_5344Lry2"
      },
      "execution_count": 4,
      "outputs": []
    },
    {
      "cell_type": "code",
      "source": [
        "import os\n",
        "\n",
        "current_directory = os.getcwd()\n",
        "\n",
        "all_files = os.listdir(current_directory)\n",
        "\n",
        "csv_files = [file for file in all_files if file.endswith('.csv')]"
      ],
      "metadata": {
        "id": "yET_n5-3Lr4O"
      },
      "execution_count": 5,
      "outputs": []
    },
    {
      "cell_type": "code",
      "source": [
        "import pandas as pd\n",
        "import os\n",
        "\n",
        "current_directory = os.getcwd()\n",
        "\n",
        "all_files = os.listdir(current_directory)\n",
        "\n",
        "csv_files = [file for file in all_files if file.endswith('.csv')]\n",
        "\n",
        "all_stores_all_weekly_sales = []\n",
        "\n",
        "for filename in csv_files:\n",
        "  df = pd.read_csv(filename)\n",
        "  week_name = filename.replace('.csv', '')\n",
        "  for _, row in df.iterrows():\n",
        "    row_dict = row.to_dict()\n",
        "    row_dict['week'] = week_name\n",
        "    all_stores_all_weekly_sales.append(row_dict)\n",
        "\n",
        "print(all_stores_all_weekly_sales)"
      ],
      "metadata": {
        "id": "AhZz42b8Lr9n",
        "colab": {
          "base_uri": "https://localhost:8080/"
        },
        "outputId": "dd5e6a75-ea8f-4732-cc6e-ee9df8b7889c"
      },
      "execution_count": 6,
      "outputs": [
        {
          "output_type": "stream",
          "name": "stdout",
          "text": [
            "[{'TopGuitar': 'Mesa', 'weekly_sales_total': 227545, 'week': 'september-09-2024'}, {'TopGuitar': 'Lexington', 'weekly_sales_total': 549642, 'week': 'september-09-2024'}, {'TopGuitar': 'Buckeye', 'weekly_sales_total': 726960, 'week': 'september-09-2024'}, {'TopGuitar': 'Jasper', 'weekly_sales_total': 834798, 'week': 'september-09-2024'}, {'TopGuitar': 'Ozark', 'weekly_sales_total': 597270, 'week': 'september-09-2024'}, {'TopGuitar': 'Troy', 'weekly_sales_total': 591068, 'week': 'september-09-2024'}, {'TopGuitar': 'Arcadia', 'weekly_sales_total': 565073, 'week': 'september-09-2024'}, {'TopGuitar': 'Stratford', 'weekly_sales_total': 918887, 'week': 'september-09-2024'}, {'TopGuitar': 'Mesa', 'weekly_sales_total': 679743, 'week': 'july-08-2024'}, {'TopGuitar': 'Lexington', 'weekly_sales_total': 899224, 'week': 'july-08-2024'}, {'TopGuitar': 'Buckeye', 'weekly_sales_total': 821811, 'week': 'july-08-2024'}, {'TopGuitar': 'Jasper', 'weekly_sales_total': 547377, 'week': 'july-08-2024'}, {'TopGuitar': 'Ozark', 'weekly_sales_total': 490939, 'week': 'july-08-2024'}, {'TopGuitar': 'Troy', 'weekly_sales_total': 472881, 'week': 'july-08-2024'}, {'TopGuitar': 'Arcadia', 'weekly_sales_total': 974707, 'week': 'july-08-2024'}, {'TopGuitar': 'Stratford', 'weekly_sales_total': 842374, 'week': 'july-08-2024'}, {'TopGuitar': 'Mesa', 'weekly_sales_total': 657778, 'week': 'weekly_sales'}, {'TopGuitar': 'Lexington', 'weekly_sales_total': 664352, 'week': 'weekly_sales'}, {'TopGuitar': 'Buckeye', 'weekly_sales_total': 335670, 'week': 'weekly_sales'}, {'TopGuitar': 'Jasper', 'weekly_sales_total': 731760, 'week': 'weekly_sales'}, {'TopGuitar': 'Ozark', 'weekly_sales_total': 524504, 'week': 'weekly_sales'}, {'TopGuitar': 'Troy', 'weekly_sales_total': 321829, 'week': 'weekly_sales'}, {'TopGuitar': 'Arcadia', 'weekly_sales_total': 243553, 'week': 'weekly_sales'}, {'TopGuitar': 'Stratford', 'weekly_sales_total': 276427, 'week': 'weekly_sales'}, {'TopGuitar': 'Mesa', 'weekly_sales_total': 536406, 'week': 'october-14-2024'}, {'TopGuitar': 'Lexington', 'weekly_sales_total': 222491, 'week': 'october-14-2024'}, {'TopGuitar': 'Buckeye', 'weekly_sales_total': 130712, 'week': 'october-14-2024'}, {'TopGuitar': 'Jasper', 'weekly_sales_total': 217748, 'week': 'october-14-2024'}, {'TopGuitar': 'Ozark', 'weekly_sales_total': 205140, 'week': 'october-14-2024'}, {'TopGuitar': 'Troy', 'weekly_sales_total': 234650, 'week': 'october-14-2024'}, {'TopGuitar': 'Arcadia', 'weekly_sales_total': 651579, 'week': 'october-14-2024'}, {'TopGuitar': 'Stratford', 'weekly_sales_total': 358990, 'week': 'october-14-2024'}, {'TopGuitar': 'Mesa', 'weekly_sales_total': 934772, 'week': 'june-24-2024'}, {'TopGuitar': 'Lexington', 'weekly_sales_total': 734275, 'week': 'june-24-2024'}, {'TopGuitar': 'Buckeye', 'weekly_sales_total': 301949, 'week': 'june-24-2024'}, {'TopGuitar': 'Jasper', 'weekly_sales_total': 289665, 'week': 'june-24-2024'}, {'TopGuitar': 'Ozark', 'weekly_sales_total': 193833, 'week': 'june-24-2024'}, {'TopGuitar': 'Troy', 'weekly_sales_total': 892139, 'week': 'june-24-2024'}, {'TopGuitar': 'Arcadia', 'weekly_sales_total': 957264, 'week': 'june-24-2024'}, {'TopGuitar': 'Stratford', 'weekly_sales_total': 422254, 'week': 'june-24-2024'}, {'TopGuitar': 'Mesa', 'weekly_sales_total': 254967, 'week': 'may-20-2024'}, {'TopGuitar': 'Lexington', 'weekly_sales_total': 209813, 'week': 'may-20-2024'}, {'TopGuitar': 'Buckeye', 'weekly_sales_total': 992456, 'week': 'may-20-2024'}, {'TopGuitar': 'Jasper', 'weekly_sales_total': 976919, 'week': 'may-20-2024'}, {'TopGuitar': 'Ozark', 'weekly_sales_total': 181378, 'week': 'may-20-2024'}, {'TopGuitar': 'Troy', 'weekly_sales_total': 919734, 'week': 'may-20-2024'}, {'TopGuitar': 'Arcadia', 'weekly_sales_total': 163703, 'week': 'may-20-2024'}, {'TopGuitar': 'Stratford', 'weekly_sales_total': 347861, 'week': 'may-20-2024'}, {'TopGuitar': 'Mesa', 'weekly_sales_total': 227308, 'week': 'may-27-2024'}, {'TopGuitar': 'Lexington', 'weekly_sales_total': 448460, 'week': 'may-27-2024'}, {'TopGuitar': 'Buckeye', 'weekly_sales_total': 854160, 'week': 'may-27-2024'}, {'TopGuitar': 'Jasper', 'weekly_sales_total': 241032, 'week': 'may-27-2024'}, {'TopGuitar': 'Ozark', 'weekly_sales_total': 369365, 'week': 'may-27-2024'}, {'TopGuitar': 'Troy', 'weekly_sales_total': 883003, 'week': 'may-27-2024'}, {'TopGuitar': 'Arcadia', 'weekly_sales_total': 943563, 'week': 'may-27-2024'}, {'TopGuitar': 'Stratford', 'weekly_sales_total': 804940, 'week': 'may-27-2024'}, {'TopGuitar': 'Mesa', 'weekly_sales_total': 468659, 'week': 'january-08-2024'}, {'TopGuitar': 'Lexington', 'weekly_sales_total': 156881, 'week': 'january-08-2024'}, {'TopGuitar': 'Buckeye', 'weekly_sales_total': 870975, 'week': 'january-08-2024'}, {'TopGuitar': 'Jasper', 'weekly_sales_total': 348241, 'week': 'january-08-2024'}, {'TopGuitar': 'Ozark', 'weekly_sales_total': 136193, 'week': 'january-08-2024'}, {'TopGuitar': 'Troy', 'weekly_sales_total': 916183, 'week': 'january-08-2024'}, {'TopGuitar': 'Arcadia', 'weekly_sales_total': 760259, 'week': 'january-08-2024'}, {'TopGuitar': 'Stratford', 'weekly_sales_total': 116195, 'week': 'january-08-2024'}, {'TopGuitar': 'Mesa', 'weekly_sales_total': 599089, 'week': 'december-30-2024'}, {'TopGuitar': 'Lexington', 'weekly_sales_total': 899613, 'week': 'december-30-2024'}, {'TopGuitar': 'Buckeye', 'weekly_sales_total': 456417, 'week': 'december-30-2024'}, {'TopGuitar': 'Jasper', 'weekly_sales_total': 939047, 'week': 'december-30-2024'}, {'TopGuitar': 'Ozark', 'weekly_sales_total': 179156, 'week': 'december-30-2024'}, {'TopGuitar': 'Troy', 'weekly_sales_total': 938039, 'week': 'december-30-2024'}, {'TopGuitar': 'Arcadia', 'weekly_sales_total': 970117, 'week': 'december-30-2024'}, {'TopGuitar': 'Stratford', 'weekly_sales_total': 582881, 'week': 'december-30-2024'}, {'TopGuitar': 'Mesa', 'weekly_sales_total': 737991, 'week': 'november-18-2024'}, {'TopGuitar': 'Lexington', 'weekly_sales_total': 717866, 'week': 'november-18-2024'}, {'TopGuitar': 'Buckeye', 'weekly_sales_total': 588070, 'week': 'november-18-2024'}, {'TopGuitar': 'Jasper', 'weekly_sales_total': 597522, 'week': 'november-18-2024'}, {'TopGuitar': 'Ozark', 'weekly_sales_total': 202979, 'week': 'november-18-2024'}, {'TopGuitar': 'Troy', 'weekly_sales_total': 770842, 'week': 'november-18-2024'}, {'TopGuitar': 'Arcadia', 'weekly_sales_total': 961263, 'week': 'november-18-2024'}, {'TopGuitar': 'Stratford', 'weekly_sales_total': 484777, 'week': 'november-18-2024'}, {'TopGuitar': 'Mesa', 'weekly_sales_total': 154752, 'week': 'june-17-2024'}, {'TopGuitar': 'Lexington', 'weekly_sales_total': 277145, 'week': 'june-17-2024'}, {'TopGuitar': 'Buckeye', 'weekly_sales_total': 344284, 'week': 'june-17-2024'}, {'TopGuitar': 'Jasper', 'weekly_sales_total': 662732, 'week': 'june-17-2024'}, {'TopGuitar': 'Ozark', 'weekly_sales_total': 483524, 'week': 'june-17-2024'}, {'TopGuitar': 'Troy', 'weekly_sales_total': 977755, 'week': 'june-17-2024'}, {'TopGuitar': 'Arcadia', 'weekly_sales_total': 500288, 'week': 'june-17-2024'}, {'TopGuitar': 'Stratford', 'weekly_sales_total': 619493, 'week': 'june-17-2024'}, {'TopGuitar': 'Mesa', 'weekly_sales_total': 291146, 'week': 'august-19-2024'}, {'TopGuitar': 'Lexington', 'weekly_sales_total': 468449, 'week': 'august-19-2024'}, {'TopGuitar': 'Buckeye', 'weekly_sales_total': 657532, 'week': 'august-19-2024'}, {'TopGuitar': 'Jasper', 'weekly_sales_total': 711529, 'week': 'august-19-2024'}, {'TopGuitar': 'Ozark', 'weekly_sales_total': 696615, 'week': 'august-19-2024'}, {'TopGuitar': 'Troy', 'weekly_sales_total': 378966, 'week': 'august-19-2024'}, {'TopGuitar': 'Arcadia', 'weekly_sales_total': 483535, 'week': 'august-19-2024'}, {'TopGuitar': 'Stratford', 'weekly_sales_total': 714958, 'week': 'august-19-2024'}, {'TopGuitar': 'Mesa', 'weekly_sales_total': 943364, 'week': 'november-25-2024'}, {'TopGuitar': 'Lexington', 'weekly_sales_total': 774356, 'week': 'november-25-2024'}, {'TopGuitar': 'Buckeye', 'weekly_sales_total': 285962, 'week': 'november-25-2024'}, {'TopGuitar': 'Jasper', 'weekly_sales_total': 791236, 'week': 'november-25-2024'}, {'TopGuitar': 'Ozark', 'weekly_sales_total': 228643, 'week': 'november-25-2024'}, {'TopGuitar': 'Troy', 'weekly_sales_total': 362273, 'week': 'november-25-2024'}, {'TopGuitar': 'Arcadia', 'weekly_sales_total': 657306, 'week': 'november-25-2024'}, {'TopGuitar': 'Stratford', 'weekly_sales_total': 843009, 'week': 'november-25-2024'}, {'TopGuitar': 'Mesa', 'weekly_sales_total': 967654, 'week': 'july-15-2024'}, {'TopGuitar': 'Lexington', 'weekly_sales_total': 665777, 'week': 'july-15-2024'}, {'TopGuitar': 'Buckeye', 'weekly_sales_total': 398647, 'week': 'july-15-2024'}, {'TopGuitar': 'Jasper', 'weekly_sales_total': 747423, 'week': 'july-15-2024'}, {'TopGuitar': 'Ozark', 'weekly_sales_total': 718406, 'week': 'july-15-2024'}, {'TopGuitar': 'Troy', 'weekly_sales_total': 341801, 'week': 'july-15-2024'}, {'TopGuitar': 'Arcadia', 'weekly_sales_total': 376887, 'week': 'july-15-2024'}, {'TopGuitar': 'Stratford', 'weekly_sales_total': 676869, 'week': 'july-15-2024'}, {'TopGuitar': 'Mesa', 'weekly_sales_total': 880276, 'week': 'april-08-2024'}, {'TopGuitar': 'Lexington', 'weekly_sales_total': 849747, 'week': 'april-08-2024'}, {'TopGuitar': 'Buckeye', 'weekly_sales_total': 101856, 'week': 'april-08-2024'}, {'TopGuitar': 'Jasper', 'weekly_sales_total': 885093, 'week': 'april-08-2024'}, {'TopGuitar': 'Ozark', 'weekly_sales_total': 868302, 'week': 'april-08-2024'}, {'TopGuitar': 'Troy', 'weekly_sales_total': 434701, 'week': 'april-08-2024'}, {'TopGuitar': 'Arcadia', 'weekly_sales_total': 374538, 'week': 'april-08-2024'}, {'TopGuitar': 'Stratford', 'weekly_sales_total': 634330, 'week': 'april-08-2024'}, {'TopGuitar': 'Mesa', 'weekly_sales_total': 772413, 'week': 'october-21-2024'}, {'TopGuitar': 'Lexington', 'weekly_sales_total': 990717, 'week': 'october-21-2024'}, {'TopGuitar': 'Buckeye', 'weekly_sales_total': 912400, 'week': 'october-21-2024'}, {'TopGuitar': 'Jasper', 'weekly_sales_total': 527025, 'week': 'october-21-2024'}, {'TopGuitar': 'Ozark', 'weekly_sales_total': 297443, 'week': 'october-21-2024'}, {'TopGuitar': 'Troy', 'weekly_sales_total': 400783, 'week': 'october-21-2024'}, {'TopGuitar': 'Arcadia', 'weekly_sales_total': 939402, 'week': 'october-21-2024'}, {'TopGuitar': 'Stratford', 'weekly_sales_total': 276121, 'week': 'october-21-2024'}, {'TopGuitar': 'Mesa', 'weekly_sales_total': 397830, 'week': 'january-15-2024'}, {'TopGuitar': 'Lexington', 'weekly_sales_total': 814298, 'week': 'january-15-2024'}, {'TopGuitar': 'Buckeye', 'weekly_sales_total': 741697, 'week': 'january-15-2024'}, {'TopGuitar': 'Jasper', 'weekly_sales_total': 516487, 'week': 'january-15-2024'}, {'TopGuitar': 'Ozark', 'weekly_sales_total': 114096, 'week': 'january-15-2024'}, {'TopGuitar': 'Troy', 'weekly_sales_total': 163928, 'week': 'january-15-2024'}, {'TopGuitar': 'Arcadia', 'weekly_sales_total': 284645, 'week': 'january-15-2024'}, {'TopGuitar': 'Stratford', 'weekly_sales_total': 394406, 'week': 'january-15-2024'}, {'TopGuitar': 'Mesa', 'weekly_sales_total': 640238, 'week': 'february-05-2024'}, {'TopGuitar': 'Lexington', 'weekly_sales_total': 883124, 'week': 'february-05-2024'}, {'TopGuitar': 'Buckeye', 'weekly_sales_total': 818080, 'week': 'february-05-2024'}, {'TopGuitar': 'Jasper', 'weekly_sales_total': 212272, 'week': 'february-05-2024'}, {'TopGuitar': 'Ozark', 'weekly_sales_total': 880261, 'week': 'february-05-2024'}, {'TopGuitar': 'Troy', 'weekly_sales_total': 280970, 'week': 'february-05-2024'}, {'TopGuitar': 'Arcadia', 'weekly_sales_total': 734117, 'week': 'february-05-2024'}, {'TopGuitar': 'Stratford', 'weekly_sales_total': 177017, 'week': 'february-05-2024'}, {'TopGuitar': 'Mesa', 'weekly_sales_total': 502555, 'week': 'june-10-2024'}, {'TopGuitar': 'Lexington', 'weekly_sales_total': 954995, 'week': 'june-10-2024'}, {'TopGuitar': 'Buckeye', 'weekly_sales_total': 596324, 'week': 'june-10-2024'}, {'TopGuitar': 'Jasper', 'weekly_sales_total': 531260, 'week': 'june-10-2024'}, {'TopGuitar': 'Ozark', 'weekly_sales_total': 407028, 'week': 'june-10-2024'}, {'TopGuitar': 'Troy', 'weekly_sales_total': 272170, 'week': 'june-10-2024'}, {'TopGuitar': 'Arcadia', 'weekly_sales_total': 458277, 'week': 'june-10-2024'}, {'TopGuitar': 'Stratford', 'weekly_sales_total': 549035, 'week': 'june-10-2024'}, {'TopGuitar': 'Mesa', 'weekly_sales_total': 905767, 'week': 'september-02-2024'}, {'TopGuitar': 'Lexington', 'weekly_sales_total': 866780, 'week': 'september-02-2024'}, {'TopGuitar': 'Buckeye', 'weekly_sales_total': 704186, 'week': 'september-02-2024'}, {'TopGuitar': 'Jasper', 'weekly_sales_total': 252409, 'week': 'september-02-2024'}, {'TopGuitar': 'Ozark', 'weekly_sales_total': 966631, 'week': 'september-02-2024'}, {'TopGuitar': 'Troy', 'weekly_sales_total': 312012, 'week': 'september-02-2024'}, {'TopGuitar': 'Arcadia', 'weekly_sales_total': 108289, 'week': 'september-02-2024'}, {'TopGuitar': 'Stratford', 'weekly_sales_total': 366167, 'week': 'september-02-2024'}, {'TopGuitar': 'Mesa', 'weekly_sales_total': 140443, 'week': 'january-29-2024'}, {'TopGuitar': 'Lexington', 'weekly_sales_total': 951267, 'week': 'january-29-2024'}, {'TopGuitar': 'Buckeye', 'weekly_sales_total': 184797, 'week': 'january-29-2024'}, {'TopGuitar': 'Jasper', 'weekly_sales_total': 803517, 'week': 'january-29-2024'}, {'TopGuitar': 'Ozark', 'weekly_sales_total': 340907, 'week': 'january-29-2024'}, {'TopGuitar': 'Troy', 'weekly_sales_total': 755011, 'week': 'january-29-2024'}, {'TopGuitar': 'Arcadia', 'weekly_sales_total': 931311, 'week': 'january-29-2024'}, {'TopGuitar': 'Stratford', 'weekly_sales_total': 520451, 'week': 'january-29-2024'}, {'TopGuitar': 'Mesa', 'weekly_sales_total': 868377, 'week': 'july-01-2024'}, {'TopGuitar': 'Lexington', 'weekly_sales_total': 829359, 'week': 'july-01-2024'}, {'TopGuitar': 'Buckeye', 'weekly_sales_total': 827791, 'week': 'july-01-2024'}, {'TopGuitar': 'Jasper', 'weekly_sales_total': 855250, 'week': 'july-01-2024'}, {'TopGuitar': 'Ozark', 'weekly_sales_total': 725421, 'week': 'july-01-2024'}, {'TopGuitar': 'Troy', 'weekly_sales_total': 221146, 'week': 'july-01-2024'}, {'TopGuitar': 'Arcadia', 'weekly_sales_total': 829101, 'week': 'july-01-2024'}, {'TopGuitar': 'Stratford', 'weekly_sales_total': 624826, 'week': 'july-01-2024'}, {'TopGuitar': 'Mesa', 'weekly_sales_total': 752619, 'week': 'november-04-2024'}, {'TopGuitar': 'Lexington', 'weekly_sales_total': 739059, 'week': 'november-04-2024'}, {'TopGuitar': 'Buckeye', 'weekly_sales_total': 889977, 'week': 'november-04-2024'}, {'TopGuitar': 'Jasper', 'weekly_sales_total': 379670, 'week': 'november-04-2024'}, {'TopGuitar': 'Ozark', 'weekly_sales_total': 391981, 'week': 'november-04-2024'}, {'TopGuitar': 'Troy', 'weekly_sales_total': 230692, 'week': 'november-04-2024'}, {'TopGuitar': 'Arcadia', 'weekly_sales_total': 915967, 'week': 'november-04-2024'}, {'TopGuitar': 'Stratford', 'weekly_sales_total': 393911, 'week': 'november-04-2024'}, {'TopGuitar': 'Mesa', 'weekly_sales_total': 508698, 'week': 'february-12-2024'}, {'TopGuitar': 'Lexington', 'weekly_sales_total': 266486, 'week': 'february-12-2024'}, {'TopGuitar': 'Buckeye', 'weekly_sales_total': 646147, 'week': 'february-12-2024'}, {'TopGuitar': 'Jasper', 'weekly_sales_total': 551049, 'week': 'february-12-2024'}, {'TopGuitar': 'Ozark', 'weekly_sales_total': 578635, 'week': 'february-12-2024'}, {'TopGuitar': 'Troy', 'weekly_sales_total': 457283, 'week': 'february-12-2024'}, {'TopGuitar': 'Arcadia', 'weekly_sales_total': 741072, 'week': 'february-12-2024'}, {'TopGuitar': 'Stratford', 'weekly_sales_total': 502611, 'week': 'february-12-2024'}, {'TopGuitar': 'Mesa', 'weekly_sales_total': 415660, 'week': 'december-23-2024'}, {'TopGuitar': 'Lexington', 'weekly_sales_total': 613926, 'week': 'december-23-2024'}, {'TopGuitar': 'Buckeye', 'weekly_sales_total': 468758, 'week': 'december-23-2024'}, {'TopGuitar': 'Jasper', 'weekly_sales_total': 654055, 'week': 'december-23-2024'}, {'TopGuitar': 'Ozark', 'weekly_sales_total': 549232, 'week': 'december-23-2024'}, {'TopGuitar': 'Troy', 'weekly_sales_total': 688885, 'week': 'december-23-2024'}, {'TopGuitar': 'Arcadia', 'weekly_sales_total': 626662, 'week': 'december-23-2024'}, {'TopGuitar': 'Stratford', 'weekly_sales_total': 419107, 'week': 'december-23-2024'}, {'TopGuitar': 'Mesa', 'weekly_sales_total': 298788, 'week': 'august-05-2024'}, {'TopGuitar': 'Lexington', 'weekly_sales_total': 238242, 'week': 'august-05-2024'}, {'TopGuitar': 'Buckeye', 'weekly_sales_total': 518862, 'week': 'august-05-2024'}, {'TopGuitar': 'Jasper', 'weekly_sales_total': 892472, 'week': 'august-05-2024'}, {'TopGuitar': 'Ozark', 'weekly_sales_total': 267258, 'week': 'august-05-2024'}, {'TopGuitar': 'Troy', 'weekly_sales_total': 207930, 'week': 'august-05-2024'}, {'TopGuitar': 'Arcadia', 'weekly_sales_total': 325411, 'week': 'august-05-2024'}, {'TopGuitar': 'Stratford', 'weekly_sales_total': 643730, 'week': 'august-05-2024'}, {'TopGuitar': 'Mesa', 'weekly_sales_total': 492325, 'week': 'december-02-2024'}, {'TopGuitar': 'Lexington', 'weekly_sales_total': 968699, 'week': 'december-02-2024'}, {'TopGuitar': 'Buckeye', 'weekly_sales_total': 297695, 'week': 'december-02-2024'}, {'TopGuitar': 'Jasper', 'weekly_sales_total': 901741, 'week': 'december-02-2024'}, {'TopGuitar': 'Ozark', 'weekly_sales_total': 686260, 'week': 'december-02-2024'}, {'TopGuitar': 'Troy', 'weekly_sales_total': 907951, 'week': 'december-02-2024'}, {'TopGuitar': 'Arcadia', 'weekly_sales_total': 268074, 'week': 'december-02-2024'}, {'TopGuitar': 'Stratford', 'weekly_sales_total': 906772, 'week': 'december-02-2024'}, {'TopGuitar': 'Mesa', 'weekly_sales_total': 799455, 'week': 'april-29-2024'}, {'TopGuitar': 'Lexington', 'weekly_sales_total': 250985, 'week': 'april-29-2024'}, {'TopGuitar': 'Buckeye', 'weekly_sales_total': 508209, 'week': 'april-29-2024'}, {'TopGuitar': 'Jasper', 'weekly_sales_total': 808045, 'week': 'april-29-2024'}, {'TopGuitar': 'Ozark', 'weekly_sales_total': 905321, 'week': 'april-29-2024'}, {'TopGuitar': 'Troy', 'weekly_sales_total': 274392, 'week': 'april-29-2024'}, {'TopGuitar': 'Arcadia', 'weekly_sales_total': 490953, 'week': 'april-29-2024'}, {'TopGuitar': 'Stratford', 'weekly_sales_total': 797768, 'week': 'april-29-2024'}, {'TopGuitar': 'Mesa', 'weekly_sales_total': 321089, 'week': 'july-29-2024'}, {'TopGuitar': 'Lexington', 'weekly_sales_total': 167300, 'week': 'july-29-2024'}, {'TopGuitar': 'Buckeye', 'weekly_sales_total': 858902, 'week': 'july-29-2024'}, {'TopGuitar': 'Jasper', 'weekly_sales_total': 737397, 'week': 'july-29-2024'}, {'TopGuitar': 'Ozark', 'weekly_sales_total': 594082, 'week': 'july-29-2024'}, {'TopGuitar': 'Troy', 'weekly_sales_total': 175917, 'week': 'july-29-2024'}, {'TopGuitar': 'Arcadia', 'weekly_sales_total': 751855, 'week': 'july-29-2024'}, {'TopGuitar': 'Stratford', 'weekly_sales_total': 978315, 'week': 'july-29-2024'}, {'TopGuitar': 'Mesa', 'weekly_sales_total': 360656, 'week': 'may-06-2024'}, {'TopGuitar': 'Lexington', 'weekly_sales_total': 394027, 'week': 'may-06-2024'}, {'TopGuitar': 'Buckeye', 'weekly_sales_total': 761309, 'week': 'may-06-2024'}, {'TopGuitar': 'Jasper', 'weekly_sales_total': 984083, 'week': 'may-06-2024'}, {'TopGuitar': 'Ozark', 'weekly_sales_total': 141236, 'week': 'may-06-2024'}, {'TopGuitar': 'Troy', 'weekly_sales_total': 830377, 'week': 'may-06-2024'}, {'TopGuitar': 'Arcadia', 'weekly_sales_total': 168612, 'week': 'may-06-2024'}, {'TopGuitar': 'Stratford', 'weekly_sales_total': 363889, 'week': 'may-06-2024'}, {'TopGuitar': 'Mesa', 'weekly_sales_total': 265132, 'week': 'september-23-2024'}, {'TopGuitar': 'Lexington', 'weekly_sales_total': 529264, 'week': 'september-23-2024'}, {'TopGuitar': 'Buckeye', 'weekly_sales_total': 839913, 'week': 'september-23-2024'}, {'TopGuitar': 'Jasper', 'weekly_sales_total': 635080, 'week': 'september-23-2024'}, {'TopGuitar': 'Ozark', 'weekly_sales_total': 560631, 'week': 'september-23-2024'}, {'TopGuitar': 'Troy', 'weekly_sales_total': 934782, 'week': 'september-23-2024'}, {'TopGuitar': 'Arcadia', 'weekly_sales_total': 839053, 'week': 'september-23-2024'}, {'TopGuitar': 'Stratford', 'weekly_sales_total': 839877, 'week': 'september-23-2024'}, {'TopGuitar': 'Mesa', 'weekly_sales_total': 454085, 'week': 'march-18-2024'}, {'TopGuitar': 'Lexington', 'weekly_sales_total': 675037, 'week': 'march-18-2024'}, {'TopGuitar': 'Buckeye', 'weekly_sales_total': 627832, 'week': 'march-18-2024'}, {'TopGuitar': 'Jasper', 'weekly_sales_total': 492829, 'week': 'march-18-2024'}, {'TopGuitar': 'Ozark', 'weekly_sales_total': 658151, 'week': 'march-18-2024'}, {'TopGuitar': 'Troy', 'weekly_sales_total': 794596, 'week': 'march-18-2024'}, {'TopGuitar': 'Arcadia', 'weekly_sales_total': 807620, 'week': 'march-18-2024'}, {'TopGuitar': 'Stratford', 'weekly_sales_total': 521672, 'week': 'march-18-2024'}, {'TopGuitar': 'Mesa', 'weekly_sales_total': 621013, 'week': 'april-01-2024'}, {'TopGuitar': 'Lexington', 'weekly_sales_total': 354203, 'week': 'april-01-2024'}, {'TopGuitar': 'Buckeye', 'weekly_sales_total': 517663, 'week': 'april-01-2024'}, {'TopGuitar': 'Jasper', 'weekly_sales_total': 796277, 'week': 'april-01-2024'}, {'TopGuitar': 'Ozark', 'weekly_sales_total': 457238, 'week': 'april-01-2024'}, {'TopGuitar': 'Troy', 'weekly_sales_total': 713814, 'week': 'april-01-2024'}, {'TopGuitar': 'Arcadia', 'weekly_sales_total': 707154, 'week': 'april-01-2024'}, {'TopGuitar': 'Stratford', 'weekly_sales_total': 253071, 'week': 'april-01-2024'}, {'TopGuitar': 'Mesa', 'weekly_sales_total': 404030, 'week': 'december-09-2024'}, {'TopGuitar': 'Lexington', 'weekly_sales_total': 297774, 'week': 'december-09-2024'}, {'TopGuitar': 'Buckeye', 'weekly_sales_total': 595994, 'week': 'december-09-2024'}, {'TopGuitar': 'Jasper', 'weekly_sales_total': 732991, 'week': 'december-09-2024'}, {'TopGuitar': 'Ozark', 'weekly_sales_total': 526672, 'week': 'december-09-2024'}, {'TopGuitar': 'Troy', 'weekly_sales_total': 643836, 'week': 'december-09-2024'}, {'TopGuitar': 'Arcadia', 'weekly_sales_total': 726584, 'week': 'december-09-2024'}, {'TopGuitar': 'Stratford', 'weekly_sales_total': 538344, 'week': 'december-09-2024'}, {'TopGuitar': 'Mesa', 'weekly_sales_total': 190560, 'week': 'august-12-2024'}, {'TopGuitar': 'Lexington', 'weekly_sales_total': 852141, 'week': 'august-12-2024'}, {'TopGuitar': 'Buckeye', 'weekly_sales_total': 198022, 'week': 'august-12-2024'}, {'TopGuitar': 'Jasper', 'weekly_sales_total': 860169, 'week': 'august-12-2024'}, {'TopGuitar': 'Ozark', 'weekly_sales_total': 815826, 'week': 'august-12-2024'}, {'TopGuitar': 'Troy', 'weekly_sales_total': 889801, 'week': 'august-12-2024'}, {'TopGuitar': 'Arcadia', 'weekly_sales_total': 134865, 'week': 'august-12-2024'}, {'TopGuitar': 'Stratford', 'weekly_sales_total': 453717, 'week': 'august-12-2024'}, {'TopGuitar': 'Mesa', 'weekly_sales_total': 347180, 'week': 'february-19-2024'}, {'TopGuitar': 'Lexington', 'weekly_sales_total': 134453, 'week': 'february-19-2024'}, {'TopGuitar': 'Buckeye', 'weekly_sales_total': 565498, 'week': 'february-19-2024'}, {'TopGuitar': 'Jasper', 'weekly_sales_total': 908945, 'week': 'february-19-2024'}, {'TopGuitar': 'Ozark', 'weekly_sales_total': 576518, 'week': 'february-19-2024'}, {'TopGuitar': 'Troy', 'weekly_sales_total': 231708, 'week': 'february-19-2024'}, {'TopGuitar': 'Arcadia', 'weekly_sales_total': 516565, 'week': 'february-19-2024'}, {'TopGuitar': 'Stratford', 'weekly_sales_total': 270813, 'week': 'february-19-2024'}, {'TopGuitar': 'Mesa', 'weekly_sales_total': 925106, 'week': 'september-30-2024'}, {'TopGuitar': 'Lexington', 'weekly_sales_total': 924636, 'week': 'september-30-2024'}, {'TopGuitar': 'Buckeye', 'weekly_sales_total': 935736, 'week': 'september-30-2024'}, {'TopGuitar': 'Jasper', 'weekly_sales_total': 486618, 'week': 'september-30-2024'}, {'TopGuitar': 'Ozark', 'weekly_sales_total': 218082, 'week': 'september-30-2024'}, {'TopGuitar': 'Troy', 'weekly_sales_total': 469440, 'week': 'september-30-2024'}, {'TopGuitar': 'Arcadia', 'weekly_sales_total': 205653, 'week': 'september-30-2024'}, {'TopGuitar': 'Stratford', 'weekly_sales_total': 696892, 'week': 'september-30-2024'}, {'TopGuitar': 'Mesa', 'weekly_sales_total': 660079, 'week': 'april-15-2024'}, {'TopGuitar': 'Lexington', 'weekly_sales_total': 824162, 'week': 'april-15-2024'}, {'TopGuitar': 'Buckeye', 'weekly_sales_total': 528663, 'week': 'april-15-2024'}, {'TopGuitar': 'Jasper', 'weekly_sales_total': 190444, 'week': 'april-15-2024'}, {'TopGuitar': 'Ozark', 'weekly_sales_total': 517454, 'week': 'april-15-2024'}, {'TopGuitar': 'Troy', 'weekly_sales_total': 964596, 'week': 'april-15-2024'}, {'TopGuitar': 'Arcadia', 'weekly_sales_total': 703983, 'week': 'april-15-2024'}, {'TopGuitar': 'Stratford', 'weekly_sales_total': 144766, 'week': 'april-15-2024'}, {'TopGuitar': 'Mesa', 'weekly_sales_total': 361609, 'week': 'may-13-2024'}, {'TopGuitar': 'Lexington', 'weekly_sales_total': 126059, 'week': 'may-13-2024'}, {'TopGuitar': 'Buckeye', 'weekly_sales_total': 586959, 'week': 'may-13-2024'}, {'TopGuitar': 'Jasper', 'weekly_sales_total': 699198, 'week': 'may-13-2024'}, {'TopGuitar': 'Ozark', 'weekly_sales_total': 641895, 'week': 'may-13-2024'}, {'TopGuitar': 'Troy', 'weekly_sales_total': 692194, 'week': 'may-13-2024'}, {'TopGuitar': 'Arcadia', 'weekly_sales_total': 177195, 'week': 'may-13-2024'}, {'TopGuitar': 'Stratford', 'weekly_sales_total': 602089, 'week': 'may-13-2024'}, {'TopGuitar': 'Mesa', 'weekly_sales_total': 488864, 'week': 'october-28-2024'}, {'TopGuitar': 'Lexington', 'weekly_sales_total': 224766, 'week': 'october-28-2024'}, {'TopGuitar': 'Buckeye', 'weekly_sales_total': 684019, 'week': 'october-28-2024'}, {'TopGuitar': 'Jasper', 'weekly_sales_total': 454448, 'week': 'october-28-2024'}, {'TopGuitar': 'Ozark', 'weekly_sales_total': 893434, 'week': 'october-28-2024'}, {'TopGuitar': 'Troy', 'weekly_sales_total': 378315, 'week': 'october-28-2024'}, {'TopGuitar': 'Arcadia', 'weekly_sales_total': 970039, 'week': 'october-28-2024'}, {'TopGuitar': 'Stratford', 'weekly_sales_total': 206232, 'week': 'october-28-2024'}, {'TopGuitar': 'Mesa', 'weekly_sales_total': 881331, 'week': 'june-03-2024'}, {'TopGuitar': 'Lexington', 'weekly_sales_total': 963684, 'week': 'june-03-2024'}, {'TopGuitar': 'Buckeye', 'weekly_sales_total': 353361, 'week': 'june-03-2024'}, {'TopGuitar': 'Jasper', 'weekly_sales_total': 160249, 'week': 'june-03-2024'}, {'TopGuitar': 'Ozark', 'weekly_sales_total': 402406, 'week': 'june-03-2024'}, {'TopGuitar': 'Troy', 'weekly_sales_total': 457542, 'week': 'june-03-2024'}, {'TopGuitar': 'Arcadia', 'weekly_sales_total': 734355, 'week': 'june-03-2024'}, {'TopGuitar': 'Stratford', 'weekly_sales_total': 638503, 'week': 'june-03-2024'}, {'TopGuitar': 'Mesa', 'weekly_sales_total': 721736, 'week': 'january-22-2024'}, {'TopGuitar': 'Lexington', 'weekly_sales_total': 463942, 'week': 'january-22-2024'}, {'TopGuitar': 'Buckeye', 'weekly_sales_total': 882190, 'week': 'january-22-2024'}, {'TopGuitar': 'Jasper', 'weekly_sales_total': 723229, 'week': 'january-22-2024'}, {'TopGuitar': 'Ozark', 'weekly_sales_total': 740663, 'week': 'january-22-2024'}, {'TopGuitar': 'Troy', 'weekly_sales_total': 570046, 'week': 'january-22-2024'}, {'TopGuitar': 'Arcadia', 'weekly_sales_total': 272741, 'week': 'january-22-2024'}, {'TopGuitar': 'Stratford', 'weekly_sales_total': 580572, 'week': 'january-22-2024'}, {'TopGuitar': 'Mesa', 'weekly_sales_total': 881056, 'week': 'december-16-2024'}, {'TopGuitar': 'Lexington', 'weekly_sales_total': 254104, 'week': 'december-16-2024'}, {'TopGuitar': 'Buckeye', 'weekly_sales_total': 969792, 'week': 'december-16-2024'}, {'TopGuitar': 'Jasper', 'weekly_sales_total': 708776, 'week': 'december-16-2024'}, {'TopGuitar': 'Ozark', 'weekly_sales_total': 837986, 'week': 'december-16-2024'}, {'TopGuitar': 'Troy', 'weekly_sales_total': 475443, 'week': 'december-16-2024'}, {'TopGuitar': 'Arcadia', 'weekly_sales_total': 251986, 'week': 'december-16-2024'}, {'TopGuitar': 'Stratford', 'weekly_sales_total': 320295, 'week': 'december-16-2024'}, {'TopGuitar': 'Mesa', 'weekly_sales_total': 581741, 'week': 'august-26-2024'}, {'TopGuitar': 'Lexington', 'weekly_sales_total': 878781, 'week': 'august-26-2024'}, {'TopGuitar': 'Buckeye', 'weekly_sales_total': 718188, 'week': 'august-26-2024'}, {'TopGuitar': 'Jasper', 'weekly_sales_total': 483326, 'week': 'august-26-2024'}, {'TopGuitar': 'Ozark', 'weekly_sales_total': 551970, 'week': 'august-26-2024'}, {'TopGuitar': 'Troy', 'weekly_sales_total': 602123, 'week': 'august-26-2024'}, {'TopGuitar': 'Arcadia', 'weekly_sales_total': 884686, 'week': 'august-26-2024'}, {'TopGuitar': 'Stratford', 'weekly_sales_total': 286202, 'week': 'august-26-2024'}, {'TopGuitar': 'Mesa', 'weekly_sales_total': 874115, 'week': 'november-11-2024'}, {'TopGuitar': 'Lexington', 'weekly_sales_total': 940095, 'week': 'november-11-2024'}, {'TopGuitar': 'Buckeye', 'weekly_sales_total': 834919, 'week': 'november-11-2024'}, {'TopGuitar': 'Jasper', 'weekly_sales_total': 680209, 'week': 'november-11-2024'}, {'TopGuitar': 'Ozark', 'weekly_sales_total': 930865, 'week': 'november-11-2024'}, {'TopGuitar': 'Troy', 'weekly_sales_total': 620656, 'week': 'november-11-2024'}, {'TopGuitar': 'Arcadia', 'weekly_sales_total': 124122, 'week': 'november-11-2024'}, {'TopGuitar': 'Stratford', 'weekly_sales_total': 250674, 'week': 'november-11-2024'}, {'TopGuitar': 'Mesa', 'weekly_sales_total': 572635, 'week': 'march-11-2024'}, {'TopGuitar': 'Lexington', 'weekly_sales_total': 611755, 'week': 'march-11-2024'}, {'TopGuitar': 'Buckeye', 'weekly_sales_total': 872952, 'week': 'march-11-2024'}, {'TopGuitar': 'Jasper', 'weekly_sales_total': 255802, 'week': 'march-11-2024'}, {'TopGuitar': 'Ozark', 'weekly_sales_total': 661560, 'week': 'march-11-2024'}, {'TopGuitar': 'Troy', 'weekly_sales_total': 893421, 'week': 'march-11-2024'}, {'TopGuitar': 'Arcadia', 'weekly_sales_total': 884274, 'week': 'march-11-2024'}, {'TopGuitar': 'Stratford', 'weekly_sales_total': 348759, 'week': 'march-11-2024'}, {'TopGuitar': 'Mesa', 'weekly_sales_total': 345535, 'week': 'january-01-2024'}, {'TopGuitar': 'Lexington', 'weekly_sales_total': 557285, 'week': 'january-01-2024'}, {'TopGuitar': 'Buckeye', 'weekly_sales_total': 451859, 'week': 'january-01-2024'}, {'TopGuitar': 'Jasper', 'weekly_sales_total': 807523, 'week': 'january-01-2024'}, {'TopGuitar': 'Ozark', 'weekly_sales_total': 843631, 'week': 'january-01-2024'}, {'TopGuitar': 'Troy', 'weekly_sales_total': 629493, 'week': 'january-01-2024'}, {'TopGuitar': 'Arcadia', 'weekly_sales_total': 658987, 'week': 'january-01-2024'}, {'TopGuitar': 'Stratford', 'weekly_sales_total': 908629, 'week': 'january-01-2024'}, {'TopGuitar': 'Mesa', 'weekly_sales_total': 242230, 'week': 'march-25-2024'}, {'TopGuitar': 'Lexington', 'weekly_sales_total': 793098, 'week': 'march-25-2024'}, {'TopGuitar': 'Buckeye', 'weekly_sales_total': 749735, 'week': 'march-25-2024'}, {'TopGuitar': 'Jasper', 'weekly_sales_total': 546619, 'week': 'march-25-2024'}, {'TopGuitar': 'Ozark', 'weekly_sales_total': 960368, 'week': 'march-25-2024'}, {'TopGuitar': 'Troy', 'weekly_sales_total': 109667, 'week': 'march-25-2024'}, {'TopGuitar': 'Arcadia', 'weekly_sales_total': 196344, 'week': 'march-25-2024'}, {'TopGuitar': 'Stratford', 'weekly_sales_total': 528482, 'week': 'march-25-2024'}, {'TopGuitar': 'Mesa', 'weekly_sales_total': 955659, 'week': 'september-16-2024'}, {'TopGuitar': 'Lexington', 'weekly_sales_total': 347914, 'week': 'september-16-2024'}, {'TopGuitar': 'Buckeye', 'weekly_sales_total': 304070, 'week': 'september-16-2024'}, {'TopGuitar': 'Jasper', 'weekly_sales_total': 518014, 'week': 'september-16-2024'}, {'TopGuitar': 'Ozark', 'weekly_sales_total': 356996, 'week': 'september-16-2024'}, {'TopGuitar': 'Troy', 'weekly_sales_total': 568036, 'week': 'september-16-2024'}, {'TopGuitar': 'Arcadia', 'weekly_sales_total': 541956, 'week': 'september-16-2024'}, {'TopGuitar': 'Stratford', 'weekly_sales_total': 939318, 'week': 'september-16-2024'}, {'TopGuitar': 'Mesa', 'weekly_sales_total': 866617, 'week': 'july-22-2024'}, {'TopGuitar': 'Lexington', 'weekly_sales_total': 324440, 'week': 'july-22-2024'}, {'TopGuitar': 'Buckeye', 'weekly_sales_total': 820066, 'week': 'july-22-2024'}, {'TopGuitar': 'Jasper', 'weekly_sales_total': 948903, 'week': 'july-22-2024'}, {'TopGuitar': 'Ozark', 'weekly_sales_total': 448723, 'week': 'july-22-2024'}, {'TopGuitar': 'Troy', 'weekly_sales_total': 899649, 'week': 'july-22-2024'}, {'TopGuitar': 'Arcadia', 'weekly_sales_total': 718818, 'week': 'july-22-2024'}, {'TopGuitar': 'Stratford', 'weekly_sales_total': 437273, 'week': 'july-22-2024'}, {'TopGuitar': 'Mesa', 'weekly_sales_total': 981120, 'week': 'april-22-2024'}, {'TopGuitar': 'Lexington', 'weekly_sales_total': 824592, 'week': 'april-22-2024'}, {'TopGuitar': 'Buckeye', 'weekly_sales_total': 569794, 'week': 'april-22-2024'}, {'TopGuitar': 'Jasper', 'weekly_sales_total': 585412, 'week': 'april-22-2024'}, {'TopGuitar': 'Ozark', 'weekly_sales_total': 788151, 'week': 'april-22-2024'}, {'TopGuitar': 'Troy', 'weekly_sales_total': 612260, 'week': 'april-22-2024'}, {'TopGuitar': 'Arcadia', 'weekly_sales_total': 695512, 'week': 'april-22-2024'}, {'TopGuitar': 'Stratford', 'weekly_sales_total': 759930, 'week': 'april-22-2024'}, {'TopGuitar': 'Mesa', 'weekly_sales_total': 187646, 'week': 'october-07-2024'}, {'TopGuitar': 'Lexington', 'weekly_sales_total': 712951, 'week': 'october-07-2024'}, {'TopGuitar': 'Buckeye', 'weekly_sales_total': 495710, 'week': 'october-07-2024'}, {'TopGuitar': 'Jasper', 'weekly_sales_total': 290868, 'week': 'october-07-2024'}, {'TopGuitar': 'Ozark', 'weekly_sales_total': 772533, 'week': 'october-07-2024'}, {'TopGuitar': 'Troy', 'weekly_sales_total': 379551, 'week': 'october-07-2024'}, {'TopGuitar': 'Arcadia', 'weekly_sales_total': 683670, 'week': 'october-07-2024'}, {'TopGuitar': 'Stratford', 'weekly_sales_total': 349149, 'week': 'october-07-2024'}, {'TopGuitar': 'Mesa', 'weekly_sales_total': 171532, 'week': 'february-26-2024'}, {'TopGuitar': 'Lexington', 'weekly_sales_total': 144929, 'week': 'february-26-2024'}, {'TopGuitar': 'Buckeye', 'weekly_sales_total': 260664, 'week': 'february-26-2024'}, {'TopGuitar': 'Jasper', 'weekly_sales_total': 516277, 'week': 'february-26-2024'}, {'TopGuitar': 'Ozark', 'weekly_sales_total': 276573, 'week': 'february-26-2024'}, {'TopGuitar': 'Troy', 'weekly_sales_total': 867578, 'week': 'february-26-2024'}, {'TopGuitar': 'Arcadia', 'weekly_sales_total': 509509, 'week': 'february-26-2024'}, {'TopGuitar': 'Stratford', 'weekly_sales_total': 382056, 'week': 'february-26-2024'}, {'TopGuitar': 'Mesa', 'weekly_sales_total': 944706, 'week': 'march-04-2024'}, {'TopGuitar': 'Lexington', 'weekly_sales_total': 796831, 'week': 'march-04-2024'}, {'TopGuitar': 'Buckeye', 'weekly_sales_total': 615068, 'week': 'march-04-2024'}, {'TopGuitar': 'Jasper', 'weekly_sales_total': 503050, 'week': 'march-04-2024'}, {'TopGuitar': 'Ozark', 'weekly_sales_total': 426764, 'week': 'march-04-2024'}, {'TopGuitar': 'Troy', 'weekly_sales_total': 609831, 'week': 'march-04-2024'}, {'TopGuitar': 'Arcadia', 'weekly_sales_total': 510167, 'week': 'march-04-2024'}, {'TopGuitar': 'Stratford', 'weekly_sales_total': 117215, 'week': 'march-04-2024'}]\n"
          ]
        }
      ]
    },
    {
      "cell_type": "code",
      "source": [
        "df = pd.DataFrame(all_stores_all_weekly_sales)\n",
        "\n",
        "print(df)"
      ],
      "metadata": {
        "id": "v3tqjyicLsCZ",
        "colab": {
          "base_uri": "https://localhost:8080/"
        },
        "outputId": "2e7c331c-0336-4717-eff4-c0cb2af4cae8"
      },
      "execution_count": 7,
      "outputs": [
        {
          "output_type": "stream",
          "name": "stdout",
          "text": [
            "     TopGuitar  weekly_sales_total               week\n",
            "0         Mesa              227545  september-09-2024\n",
            "1    Lexington              549642  september-09-2024\n",
            "2      Buckeye              726960  september-09-2024\n",
            "3       Jasper              834798  september-09-2024\n",
            "4        Ozark              597270  september-09-2024\n",
            "..         ...                 ...                ...\n",
            "427     Jasper              503050      march-04-2024\n",
            "428      Ozark              426764      march-04-2024\n",
            "429       Troy              609831      march-04-2024\n",
            "430    Arcadia              510167      march-04-2024\n",
            "431  Stratford              117215      march-04-2024\n",
            "\n",
            "[432 rows x 3 columns]\n"
          ]
        }
      ]
    },
    {
      "cell_type": "code",
      "source": [
        "import altair as alt\n",
        "\n",
        "width = 800\n",
        "height = 300\n",
        "\n",
        "base = alt.Chart(df, width=width, height=height).mark_line().encode(\n",
        "  x='week:T',\n",
        "  y='weekly_sales_total:Q',\n",
        "  color='TopGuitar:N',\n",
        "  tooltip=['TopGuitar:N', 'weekly_sales_total:Q', 'week:T']\n",
        ").interactive()\n",
        "\n",
        "base\n"
      ],
      "metadata": {
        "id": "Ct16CafwLsJN",
        "colab": {
          "base_uri": "https://localhost:8080/",
          "height": 369
        },
        "outputId": "be2753f6-5825-4e48-ce79-918c0af3b9e4"
      },
      "execution_count": 8,
      "outputs": [
        {
          "output_type": "execute_result",
          "data": {
            "text/html": [
              "\n",
              "<div id=\"altair-viz-522b65b8c5d74a02a105dbe4688837dc\"></div>\n",
              "<script type=\"text/javascript\">\n",
              "  var VEGA_DEBUG = (typeof VEGA_DEBUG == \"undefined\") ? {} : VEGA_DEBUG;\n",
              "  (function(spec, embedOpt){\n",
              "    let outputDiv = document.currentScript.previousElementSibling;\n",
              "    if (outputDiv.id !== \"altair-viz-522b65b8c5d74a02a105dbe4688837dc\") {\n",
              "      outputDiv = document.getElementById(\"altair-viz-522b65b8c5d74a02a105dbe4688837dc\");\n",
              "    }\n",
              "    const paths = {\n",
              "      \"vega\": \"https://cdn.jsdelivr.net/npm//vega@5?noext\",\n",
              "      \"vega-lib\": \"https://cdn.jsdelivr.net/npm//vega-lib?noext\",\n",
              "      \"vega-lite\": \"https://cdn.jsdelivr.net/npm//vega-lite@4.17.0?noext\",\n",
              "      \"vega-embed\": \"https://cdn.jsdelivr.net/npm//vega-embed@6?noext\",\n",
              "    };\n",
              "\n",
              "    function maybeLoadScript(lib, version) {\n",
              "      var key = `${lib.replace(\"-\", \"\")}_version`;\n",
              "      return (VEGA_DEBUG[key] == version) ?\n",
              "        Promise.resolve(paths[lib]) :\n",
              "        new Promise(function(resolve, reject) {\n",
              "          var s = document.createElement('script');\n",
              "          document.getElementsByTagName(\"head\")[0].appendChild(s);\n",
              "          s.async = true;\n",
              "          s.onload = () => {\n",
              "            VEGA_DEBUG[key] = version;\n",
              "            return resolve(paths[lib]);\n",
              "          };\n",
              "          s.onerror = () => reject(`Error loading script: ${paths[lib]}`);\n",
              "          s.src = paths[lib];\n",
              "        });\n",
              "    }\n",
              "\n",
              "    function showError(err) {\n",
              "      outputDiv.innerHTML = `<div class=\"error\" style=\"color:red;\">${err}</div>`;\n",
              "      throw err;\n",
              "    }\n",
              "\n",
              "    function displayChart(vegaEmbed) {\n",
              "      vegaEmbed(outputDiv, spec, embedOpt)\n",
              "        .catch(err => showError(`Javascript Error: ${err.message}<br>This usually means there's a typo in your chart specification. See the javascript console for the full traceback.`));\n",
              "    }\n",
              "\n",
              "    if(typeof define === \"function\" && define.amd) {\n",
              "      requirejs.config({paths});\n",
              "      require([\"vega-embed\"], displayChart, err => showError(`Error loading script: ${err.message}`));\n",
              "    } else {\n",
              "      maybeLoadScript(\"vega\", \"5\")\n",
              "        .then(() => maybeLoadScript(\"vega-lite\", \"4.17.0\"))\n",
              "        .then(() => maybeLoadScript(\"vega-embed\", \"6\"))\n",
              "        .catch(showError)\n",
              "        .then(() => displayChart(vegaEmbed));\n",
              "    }\n",
              "  })({\"config\": {\"view\": {\"continuousWidth\": 400, \"continuousHeight\": 300}}, \"data\": {\"name\": \"data-c1fc64f6eb27d15a6c9f3d8051598986\"}, \"mark\": \"line\", \"encoding\": {\"color\": {\"field\": \"TopGuitar\", \"type\": \"nominal\"}, \"tooltip\": [{\"field\": \"TopGuitar\", \"type\": \"nominal\"}, {\"field\": \"weekly_sales_total\", \"type\": \"quantitative\"}, {\"field\": \"week\", \"type\": \"temporal\"}], \"x\": {\"field\": \"week\", \"type\": \"temporal\"}, \"y\": {\"field\": \"weekly_sales_total\", \"type\": \"quantitative\"}}, \"height\": 300, \"selection\": {\"selector001\": {\"type\": \"interval\", \"bind\": \"scales\", \"encodings\": [\"x\", \"y\"]}}, \"width\": 800, \"$schema\": \"https://vega.github.io/schema/vega-lite/v4.17.0.json\", \"datasets\": {\"data-c1fc64f6eb27d15a6c9f3d8051598986\": [{\"TopGuitar\": \"Mesa\", \"weekly_sales_total\": 227545, \"week\": \"september-09-2024\"}, {\"TopGuitar\": \"Lexington\", \"weekly_sales_total\": 549642, \"week\": \"september-09-2024\"}, {\"TopGuitar\": \"Buckeye\", \"weekly_sales_total\": 726960, \"week\": \"september-09-2024\"}, {\"TopGuitar\": \"Jasper\", \"weekly_sales_total\": 834798, \"week\": \"september-09-2024\"}, {\"TopGuitar\": \"Ozark\", \"weekly_sales_total\": 597270, \"week\": \"september-09-2024\"}, {\"TopGuitar\": \"Troy\", \"weekly_sales_total\": 591068, \"week\": \"september-09-2024\"}, {\"TopGuitar\": \"Arcadia\", \"weekly_sales_total\": 565073, \"week\": \"september-09-2024\"}, {\"TopGuitar\": \"Stratford\", \"weekly_sales_total\": 918887, \"week\": \"september-09-2024\"}, {\"TopGuitar\": \"Mesa\", \"weekly_sales_total\": 679743, \"week\": \"july-08-2024\"}, {\"TopGuitar\": \"Lexington\", \"weekly_sales_total\": 899224, \"week\": \"july-08-2024\"}, {\"TopGuitar\": \"Buckeye\", \"weekly_sales_total\": 821811, \"week\": \"july-08-2024\"}, {\"TopGuitar\": \"Jasper\", \"weekly_sales_total\": 547377, \"week\": \"july-08-2024\"}, {\"TopGuitar\": \"Ozark\", \"weekly_sales_total\": 490939, \"week\": \"july-08-2024\"}, {\"TopGuitar\": \"Troy\", \"weekly_sales_total\": 472881, \"week\": \"july-08-2024\"}, {\"TopGuitar\": \"Arcadia\", \"weekly_sales_total\": 974707, \"week\": \"july-08-2024\"}, {\"TopGuitar\": \"Stratford\", \"weekly_sales_total\": 842374, \"week\": \"july-08-2024\"}, {\"TopGuitar\": \"Mesa\", \"weekly_sales_total\": 657778, \"week\": \"weekly_sales\"}, {\"TopGuitar\": \"Lexington\", \"weekly_sales_total\": 664352, \"week\": \"weekly_sales\"}, {\"TopGuitar\": \"Buckeye\", \"weekly_sales_total\": 335670, \"week\": \"weekly_sales\"}, {\"TopGuitar\": \"Jasper\", \"weekly_sales_total\": 731760, \"week\": \"weekly_sales\"}, {\"TopGuitar\": \"Ozark\", \"weekly_sales_total\": 524504, \"week\": \"weekly_sales\"}, {\"TopGuitar\": \"Troy\", \"weekly_sales_total\": 321829, \"week\": \"weekly_sales\"}, {\"TopGuitar\": \"Arcadia\", \"weekly_sales_total\": 243553, \"week\": \"weekly_sales\"}, {\"TopGuitar\": \"Stratford\", \"weekly_sales_total\": 276427, \"week\": \"weekly_sales\"}, {\"TopGuitar\": \"Mesa\", \"weekly_sales_total\": 536406, \"week\": \"october-14-2024\"}, {\"TopGuitar\": \"Lexington\", \"weekly_sales_total\": 222491, \"week\": \"october-14-2024\"}, {\"TopGuitar\": \"Buckeye\", \"weekly_sales_total\": 130712, \"week\": \"october-14-2024\"}, {\"TopGuitar\": \"Jasper\", \"weekly_sales_total\": 217748, \"week\": \"october-14-2024\"}, {\"TopGuitar\": \"Ozark\", \"weekly_sales_total\": 205140, \"week\": \"october-14-2024\"}, {\"TopGuitar\": \"Troy\", \"weekly_sales_total\": 234650, \"week\": \"october-14-2024\"}, {\"TopGuitar\": \"Arcadia\", \"weekly_sales_total\": 651579, \"week\": \"october-14-2024\"}, {\"TopGuitar\": \"Stratford\", \"weekly_sales_total\": 358990, \"week\": \"october-14-2024\"}, {\"TopGuitar\": \"Mesa\", \"weekly_sales_total\": 934772, \"week\": \"june-24-2024\"}, {\"TopGuitar\": \"Lexington\", \"weekly_sales_total\": 734275, \"week\": \"june-24-2024\"}, {\"TopGuitar\": \"Buckeye\", \"weekly_sales_total\": 301949, \"week\": \"june-24-2024\"}, {\"TopGuitar\": \"Jasper\", \"weekly_sales_total\": 289665, \"week\": \"june-24-2024\"}, {\"TopGuitar\": \"Ozark\", \"weekly_sales_total\": 193833, \"week\": \"june-24-2024\"}, {\"TopGuitar\": \"Troy\", \"weekly_sales_total\": 892139, \"week\": \"june-24-2024\"}, {\"TopGuitar\": \"Arcadia\", \"weekly_sales_total\": 957264, \"week\": \"june-24-2024\"}, {\"TopGuitar\": \"Stratford\", \"weekly_sales_total\": 422254, \"week\": \"june-24-2024\"}, {\"TopGuitar\": \"Mesa\", \"weekly_sales_total\": 254967, \"week\": \"may-20-2024\"}, {\"TopGuitar\": \"Lexington\", \"weekly_sales_total\": 209813, \"week\": \"may-20-2024\"}, {\"TopGuitar\": \"Buckeye\", \"weekly_sales_total\": 992456, \"week\": \"may-20-2024\"}, {\"TopGuitar\": \"Jasper\", \"weekly_sales_total\": 976919, \"week\": \"may-20-2024\"}, {\"TopGuitar\": \"Ozark\", \"weekly_sales_total\": 181378, \"week\": \"may-20-2024\"}, {\"TopGuitar\": \"Troy\", \"weekly_sales_total\": 919734, \"week\": \"may-20-2024\"}, {\"TopGuitar\": \"Arcadia\", \"weekly_sales_total\": 163703, \"week\": \"may-20-2024\"}, {\"TopGuitar\": \"Stratford\", \"weekly_sales_total\": 347861, \"week\": \"may-20-2024\"}, {\"TopGuitar\": \"Mesa\", \"weekly_sales_total\": 227308, \"week\": \"may-27-2024\"}, {\"TopGuitar\": \"Lexington\", \"weekly_sales_total\": 448460, \"week\": \"may-27-2024\"}, {\"TopGuitar\": \"Buckeye\", \"weekly_sales_total\": 854160, \"week\": \"may-27-2024\"}, {\"TopGuitar\": \"Jasper\", \"weekly_sales_total\": 241032, \"week\": \"may-27-2024\"}, {\"TopGuitar\": \"Ozark\", \"weekly_sales_total\": 369365, \"week\": \"may-27-2024\"}, {\"TopGuitar\": \"Troy\", \"weekly_sales_total\": 883003, \"week\": \"may-27-2024\"}, {\"TopGuitar\": \"Arcadia\", \"weekly_sales_total\": 943563, \"week\": \"may-27-2024\"}, {\"TopGuitar\": \"Stratford\", \"weekly_sales_total\": 804940, \"week\": \"may-27-2024\"}, {\"TopGuitar\": \"Mesa\", \"weekly_sales_total\": 468659, \"week\": \"january-08-2024\"}, {\"TopGuitar\": \"Lexington\", \"weekly_sales_total\": 156881, \"week\": \"january-08-2024\"}, {\"TopGuitar\": \"Buckeye\", \"weekly_sales_total\": 870975, \"week\": \"january-08-2024\"}, {\"TopGuitar\": \"Jasper\", \"weekly_sales_total\": 348241, \"week\": \"january-08-2024\"}, {\"TopGuitar\": \"Ozark\", \"weekly_sales_total\": 136193, \"week\": \"january-08-2024\"}, {\"TopGuitar\": \"Troy\", \"weekly_sales_total\": 916183, \"week\": \"january-08-2024\"}, {\"TopGuitar\": \"Arcadia\", \"weekly_sales_total\": 760259, \"week\": \"january-08-2024\"}, {\"TopGuitar\": \"Stratford\", \"weekly_sales_total\": 116195, \"week\": \"january-08-2024\"}, {\"TopGuitar\": \"Mesa\", \"weekly_sales_total\": 599089, \"week\": \"december-30-2024\"}, {\"TopGuitar\": \"Lexington\", \"weekly_sales_total\": 899613, \"week\": \"december-30-2024\"}, {\"TopGuitar\": \"Buckeye\", \"weekly_sales_total\": 456417, \"week\": \"december-30-2024\"}, {\"TopGuitar\": \"Jasper\", \"weekly_sales_total\": 939047, \"week\": \"december-30-2024\"}, {\"TopGuitar\": \"Ozark\", \"weekly_sales_total\": 179156, \"week\": \"december-30-2024\"}, {\"TopGuitar\": \"Troy\", \"weekly_sales_total\": 938039, \"week\": \"december-30-2024\"}, {\"TopGuitar\": \"Arcadia\", \"weekly_sales_total\": 970117, \"week\": \"december-30-2024\"}, {\"TopGuitar\": \"Stratford\", \"weekly_sales_total\": 582881, \"week\": \"december-30-2024\"}, {\"TopGuitar\": \"Mesa\", \"weekly_sales_total\": 737991, \"week\": \"november-18-2024\"}, {\"TopGuitar\": \"Lexington\", \"weekly_sales_total\": 717866, \"week\": \"november-18-2024\"}, {\"TopGuitar\": \"Buckeye\", \"weekly_sales_total\": 588070, \"week\": \"november-18-2024\"}, {\"TopGuitar\": \"Jasper\", \"weekly_sales_total\": 597522, \"week\": \"november-18-2024\"}, {\"TopGuitar\": \"Ozark\", \"weekly_sales_total\": 202979, \"week\": \"november-18-2024\"}, {\"TopGuitar\": \"Troy\", \"weekly_sales_total\": 770842, \"week\": \"november-18-2024\"}, {\"TopGuitar\": \"Arcadia\", \"weekly_sales_total\": 961263, \"week\": \"november-18-2024\"}, {\"TopGuitar\": \"Stratford\", \"weekly_sales_total\": 484777, \"week\": \"november-18-2024\"}, {\"TopGuitar\": \"Mesa\", \"weekly_sales_total\": 154752, \"week\": \"june-17-2024\"}, {\"TopGuitar\": \"Lexington\", \"weekly_sales_total\": 277145, \"week\": \"june-17-2024\"}, {\"TopGuitar\": \"Buckeye\", \"weekly_sales_total\": 344284, \"week\": \"june-17-2024\"}, {\"TopGuitar\": \"Jasper\", \"weekly_sales_total\": 662732, \"week\": \"june-17-2024\"}, {\"TopGuitar\": \"Ozark\", \"weekly_sales_total\": 483524, \"week\": \"june-17-2024\"}, {\"TopGuitar\": \"Troy\", \"weekly_sales_total\": 977755, \"week\": \"june-17-2024\"}, {\"TopGuitar\": \"Arcadia\", \"weekly_sales_total\": 500288, \"week\": \"june-17-2024\"}, {\"TopGuitar\": \"Stratford\", \"weekly_sales_total\": 619493, \"week\": \"june-17-2024\"}, {\"TopGuitar\": \"Mesa\", \"weekly_sales_total\": 291146, \"week\": \"august-19-2024\"}, {\"TopGuitar\": \"Lexington\", \"weekly_sales_total\": 468449, \"week\": \"august-19-2024\"}, {\"TopGuitar\": \"Buckeye\", \"weekly_sales_total\": 657532, \"week\": \"august-19-2024\"}, {\"TopGuitar\": \"Jasper\", \"weekly_sales_total\": 711529, \"week\": \"august-19-2024\"}, {\"TopGuitar\": \"Ozark\", \"weekly_sales_total\": 696615, \"week\": \"august-19-2024\"}, {\"TopGuitar\": \"Troy\", \"weekly_sales_total\": 378966, \"week\": \"august-19-2024\"}, {\"TopGuitar\": \"Arcadia\", \"weekly_sales_total\": 483535, \"week\": \"august-19-2024\"}, {\"TopGuitar\": \"Stratford\", \"weekly_sales_total\": 714958, \"week\": \"august-19-2024\"}, {\"TopGuitar\": \"Mesa\", \"weekly_sales_total\": 943364, \"week\": \"november-25-2024\"}, {\"TopGuitar\": \"Lexington\", \"weekly_sales_total\": 774356, \"week\": \"november-25-2024\"}, {\"TopGuitar\": \"Buckeye\", \"weekly_sales_total\": 285962, \"week\": \"november-25-2024\"}, {\"TopGuitar\": \"Jasper\", \"weekly_sales_total\": 791236, \"week\": \"november-25-2024\"}, {\"TopGuitar\": \"Ozark\", \"weekly_sales_total\": 228643, \"week\": \"november-25-2024\"}, {\"TopGuitar\": \"Troy\", \"weekly_sales_total\": 362273, \"week\": \"november-25-2024\"}, {\"TopGuitar\": \"Arcadia\", \"weekly_sales_total\": 657306, \"week\": \"november-25-2024\"}, {\"TopGuitar\": \"Stratford\", \"weekly_sales_total\": 843009, \"week\": \"november-25-2024\"}, {\"TopGuitar\": \"Mesa\", \"weekly_sales_total\": 967654, \"week\": \"july-15-2024\"}, {\"TopGuitar\": \"Lexington\", \"weekly_sales_total\": 665777, \"week\": \"july-15-2024\"}, {\"TopGuitar\": \"Buckeye\", \"weekly_sales_total\": 398647, \"week\": \"july-15-2024\"}, {\"TopGuitar\": \"Jasper\", \"weekly_sales_total\": 747423, \"week\": \"july-15-2024\"}, {\"TopGuitar\": \"Ozark\", \"weekly_sales_total\": 718406, \"week\": \"july-15-2024\"}, {\"TopGuitar\": \"Troy\", \"weekly_sales_total\": 341801, \"week\": \"july-15-2024\"}, {\"TopGuitar\": \"Arcadia\", \"weekly_sales_total\": 376887, \"week\": \"july-15-2024\"}, {\"TopGuitar\": \"Stratford\", \"weekly_sales_total\": 676869, \"week\": \"july-15-2024\"}, {\"TopGuitar\": \"Mesa\", \"weekly_sales_total\": 880276, \"week\": \"april-08-2024\"}, {\"TopGuitar\": \"Lexington\", \"weekly_sales_total\": 849747, \"week\": \"april-08-2024\"}, {\"TopGuitar\": \"Buckeye\", \"weekly_sales_total\": 101856, \"week\": \"april-08-2024\"}, {\"TopGuitar\": \"Jasper\", \"weekly_sales_total\": 885093, \"week\": \"april-08-2024\"}, {\"TopGuitar\": \"Ozark\", \"weekly_sales_total\": 868302, \"week\": \"april-08-2024\"}, {\"TopGuitar\": \"Troy\", \"weekly_sales_total\": 434701, \"week\": \"april-08-2024\"}, {\"TopGuitar\": \"Arcadia\", \"weekly_sales_total\": 374538, \"week\": \"april-08-2024\"}, {\"TopGuitar\": \"Stratford\", \"weekly_sales_total\": 634330, \"week\": \"april-08-2024\"}, {\"TopGuitar\": \"Mesa\", \"weekly_sales_total\": 772413, \"week\": \"october-21-2024\"}, {\"TopGuitar\": \"Lexington\", \"weekly_sales_total\": 990717, \"week\": \"october-21-2024\"}, {\"TopGuitar\": \"Buckeye\", \"weekly_sales_total\": 912400, \"week\": \"october-21-2024\"}, {\"TopGuitar\": \"Jasper\", \"weekly_sales_total\": 527025, \"week\": \"october-21-2024\"}, {\"TopGuitar\": \"Ozark\", \"weekly_sales_total\": 297443, \"week\": \"october-21-2024\"}, {\"TopGuitar\": \"Troy\", \"weekly_sales_total\": 400783, \"week\": \"october-21-2024\"}, {\"TopGuitar\": \"Arcadia\", \"weekly_sales_total\": 939402, \"week\": \"october-21-2024\"}, {\"TopGuitar\": \"Stratford\", \"weekly_sales_total\": 276121, \"week\": \"october-21-2024\"}, {\"TopGuitar\": \"Mesa\", \"weekly_sales_total\": 397830, \"week\": \"january-15-2024\"}, {\"TopGuitar\": \"Lexington\", \"weekly_sales_total\": 814298, \"week\": \"january-15-2024\"}, {\"TopGuitar\": \"Buckeye\", \"weekly_sales_total\": 741697, \"week\": \"january-15-2024\"}, {\"TopGuitar\": \"Jasper\", \"weekly_sales_total\": 516487, \"week\": \"january-15-2024\"}, {\"TopGuitar\": \"Ozark\", \"weekly_sales_total\": 114096, \"week\": \"january-15-2024\"}, {\"TopGuitar\": \"Troy\", \"weekly_sales_total\": 163928, \"week\": \"january-15-2024\"}, {\"TopGuitar\": \"Arcadia\", \"weekly_sales_total\": 284645, \"week\": \"january-15-2024\"}, {\"TopGuitar\": \"Stratford\", \"weekly_sales_total\": 394406, \"week\": \"january-15-2024\"}, {\"TopGuitar\": \"Mesa\", \"weekly_sales_total\": 640238, \"week\": \"february-05-2024\"}, {\"TopGuitar\": \"Lexington\", \"weekly_sales_total\": 883124, \"week\": \"february-05-2024\"}, {\"TopGuitar\": \"Buckeye\", \"weekly_sales_total\": 818080, \"week\": \"february-05-2024\"}, {\"TopGuitar\": \"Jasper\", \"weekly_sales_total\": 212272, \"week\": \"february-05-2024\"}, {\"TopGuitar\": \"Ozark\", \"weekly_sales_total\": 880261, \"week\": \"february-05-2024\"}, {\"TopGuitar\": \"Troy\", \"weekly_sales_total\": 280970, \"week\": \"february-05-2024\"}, {\"TopGuitar\": \"Arcadia\", \"weekly_sales_total\": 734117, \"week\": \"february-05-2024\"}, {\"TopGuitar\": \"Stratford\", \"weekly_sales_total\": 177017, \"week\": \"february-05-2024\"}, {\"TopGuitar\": \"Mesa\", \"weekly_sales_total\": 502555, \"week\": \"june-10-2024\"}, {\"TopGuitar\": \"Lexington\", \"weekly_sales_total\": 954995, \"week\": \"june-10-2024\"}, {\"TopGuitar\": \"Buckeye\", \"weekly_sales_total\": 596324, \"week\": \"june-10-2024\"}, {\"TopGuitar\": \"Jasper\", \"weekly_sales_total\": 531260, \"week\": \"june-10-2024\"}, {\"TopGuitar\": \"Ozark\", \"weekly_sales_total\": 407028, \"week\": \"june-10-2024\"}, {\"TopGuitar\": \"Troy\", \"weekly_sales_total\": 272170, \"week\": \"june-10-2024\"}, {\"TopGuitar\": \"Arcadia\", \"weekly_sales_total\": 458277, \"week\": \"june-10-2024\"}, {\"TopGuitar\": \"Stratford\", \"weekly_sales_total\": 549035, \"week\": \"june-10-2024\"}, {\"TopGuitar\": \"Mesa\", \"weekly_sales_total\": 905767, \"week\": \"september-02-2024\"}, {\"TopGuitar\": \"Lexington\", \"weekly_sales_total\": 866780, \"week\": \"september-02-2024\"}, {\"TopGuitar\": \"Buckeye\", \"weekly_sales_total\": 704186, \"week\": \"september-02-2024\"}, {\"TopGuitar\": \"Jasper\", \"weekly_sales_total\": 252409, \"week\": \"september-02-2024\"}, {\"TopGuitar\": \"Ozark\", \"weekly_sales_total\": 966631, \"week\": \"september-02-2024\"}, {\"TopGuitar\": \"Troy\", \"weekly_sales_total\": 312012, \"week\": \"september-02-2024\"}, {\"TopGuitar\": \"Arcadia\", \"weekly_sales_total\": 108289, \"week\": \"september-02-2024\"}, {\"TopGuitar\": \"Stratford\", \"weekly_sales_total\": 366167, \"week\": \"september-02-2024\"}, {\"TopGuitar\": \"Mesa\", \"weekly_sales_total\": 140443, \"week\": \"january-29-2024\"}, {\"TopGuitar\": \"Lexington\", \"weekly_sales_total\": 951267, \"week\": \"january-29-2024\"}, {\"TopGuitar\": \"Buckeye\", \"weekly_sales_total\": 184797, \"week\": \"january-29-2024\"}, {\"TopGuitar\": \"Jasper\", \"weekly_sales_total\": 803517, \"week\": \"january-29-2024\"}, {\"TopGuitar\": \"Ozark\", \"weekly_sales_total\": 340907, \"week\": \"january-29-2024\"}, {\"TopGuitar\": \"Troy\", \"weekly_sales_total\": 755011, \"week\": \"january-29-2024\"}, {\"TopGuitar\": \"Arcadia\", \"weekly_sales_total\": 931311, \"week\": \"january-29-2024\"}, {\"TopGuitar\": \"Stratford\", \"weekly_sales_total\": 520451, \"week\": \"january-29-2024\"}, {\"TopGuitar\": \"Mesa\", \"weekly_sales_total\": 868377, \"week\": \"july-01-2024\"}, {\"TopGuitar\": \"Lexington\", \"weekly_sales_total\": 829359, \"week\": \"july-01-2024\"}, {\"TopGuitar\": \"Buckeye\", \"weekly_sales_total\": 827791, \"week\": \"july-01-2024\"}, {\"TopGuitar\": \"Jasper\", \"weekly_sales_total\": 855250, \"week\": \"july-01-2024\"}, {\"TopGuitar\": \"Ozark\", \"weekly_sales_total\": 725421, \"week\": \"july-01-2024\"}, {\"TopGuitar\": \"Troy\", \"weekly_sales_total\": 221146, \"week\": \"july-01-2024\"}, {\"TopGuitar\": \"Arcadia\", \"weekly_sales_total\": 829101, \"week\": \"july-01-2024\"}, {\"TopGuitar\": \"Stratford\", \"weekly_sales_total\": 624826, \"week\": \"july-01-2024\"}, {\"TopGuitar\": \"Mesa\", \"weekly_sales_total\": 752619, \"week\": \"november-04-2024\"}, {\"TopGuitar\": \"Lexington\", \"weekly_sales_total\": 739059, \"week\": \"november-04-2024\"}, {\"TopGuitar\": \"Buckeye\", \"weekly_sales_total\": 889977, \"week\": \"november-04-2024\"}, {\"TopGuitar\": \"Jasper\", \"weekly_sales_total\": 379670, \"week\": \"november-04-2024\"}, {\"TopGuitar\": \"Ozark\", \"weekly_sales_total\": 391981, \"week\": \"november-04-2024\"}, {\"TopGuitar\": \"Troy\", \"weekly_sales_total\": 230692, \"week\": \"november-04-2024\"}, {\"TopGuitar\": \"Arcadia\", \"weekly_sales_total\": 915967, \"week\": \"november-04-2024\"}, {\"TopGuitar\": \"Stratford\", \"weekly_sales_total\": 393911, \"week\": \"november-04-2024\"}, {\"TopGuitar\": \"Mesa\", \"weekly_sales_total\": 508698, \"week\": \"february-12-2024\"}, {\"TopGuitar\": \"Lexington\", \"weekly_sales_total\": 266486, \"week\": \"february-12-2024\"}, {\"TopGuitar\": \"Buckeye\", \"weekly_sales_total\": 646147, \"week\": \"february-12-2024\"}, {\"TopGuitar\": \"Jasper\", \"weekly_sales_total\": 551049, \"week\": \"february-12-2024\"}, {\"TopGuitar\": \"Ozark\", \"weekly_sales_total\": 578635, \"week\": \"february-12-2024\"}, {\"TopGuitar\": \"Troy\", \"weekly_sales_total\": 457283, \"week\": \"february-12-2024\"}, {\"TopGuitar\": \"Arcadia\", \"weekly_sales_total\": 741072, \"week\": \"february-12-2024\"}, {\"TopGuitar\": \"Stratford\", \"weekly_sales_total\": 502611, \"week\": \"february-12-2024\"}, {\"TopGuitar\": \"Mesa\", \"weekly_sales_total\": 415660, \"week\": \"december-23-2024\"}, {\"TopGuitar\": \"Lexington\", \"weekly_sales_total\": 613926, \"week\": \"december-23-2024\"}, {\"TopGuitar\": \"Buckeye\", \"weekly_sales_total\": 468758, \"week\": \"december-23-2024\"}, {\"TopGuitar\": \"Jasper\", \"weekly_sales_total\": 654055, \"week\": \"december-23-2024\"}, {\"TopGuitar\": \"Ozark\", \"weekly_sales_total\": 549232, \"week\": \"december-23-2024\"}, {\"TopGuitar\": \"Troy\", \"weekly_sales_total\": 688885, \"week\": \"december-23-2024\"}, {\"TopGuitar\": \"Arcadia\", \"weekly_sales_total\": 626662, \"week\": \"december-23-2024\"}, {\"TopGuitar\": \"Stratford\", \"weekly_sales_total\": 419107, \"week\": \"december-23-2024\"}, {\"TopGuitar\": \"Mesa\", \"weekly_sales_total\": 298788, \"week\": \"august-05-2024\"}, {\"TopGuitar\": \"Lexington\", \"weekly_sales_total\": 238242, \"week\": \"august-05-2024\"}, {\"TopGuitar\": \"Buckeye\", \"weekly_sales_total\": 518862, \"week\": \"august-05-2024\"}, {\"TopGuitar\": \"Jasper\", \"weekly_sales_total\": 892472, \"week\": \"august-05-2024\"}, {\"TopGuitar\": \"Ozark\", \"weekly_sales_total\": 267258, \"week\": \"august-05-2024\"}, {\"TopGuitar\": \"Troy\", \"weekly_sales_total\": 207930, \"week\": \"august-05-2024\"}, {\"TopGuitar\": \"Arcadia\", \"weekly_sales_total\": 325411, \"week\": \"august-05-2024\"}, {\"TopGuitar\": \"Stratford\", \"weekly_sales_total\": 643730, \"week\": \"august-05-2024\"}, {\"TopGuitar\": \"Mesa\", \"weekly_sales_total\": 492325, \"week\": \"december-02-2024\"}, {\"TopGuitar\": \"Lexington\", \"weekly_sales_total\": 968699, \"week\": \"december-02-2024\"}, {\"TopGuitar\": \"Buckeye\", \"weekly_sales_total\": 297695, \"week\": \"december-02-2024\"}, {\"TopGuitar\": \"Jasper\", \"weekly_sales_total\": 901741, \"week\": \"december-02-2024\"}, {\"TopGuitar\": \"Ozark\", \"weekly_sales_total\": 686260, \"week\": \"december-02-2024\"}, {\"TopGuitar\": \"Troy\", \"weekly_sales_total\": 907951, \"week\": \"december-02-2024\"}, {\"TopGuitar\": \"Arcadia\", \"weekly_sales_total\": 268074, \"week\": \"december-02-2024\"}, {\"TopGuitar\": \"Stratford\", \"weekly_sales_total\": 906772, \"week\": \"december-02-2024\"}, {\"TopGuitar\": \"Mesa\", \"weekly_sales_total\": 799455, \"week\": \"april-29-2024\"}, {\"TopGuitar\": \"Lexington\", \"weekly_sales_total\": 250985, \"week\": \"april-29-2024\"}, {\"TopGuitar\": \"Buckeye\", \"weekly_sales_total\": 508209, \"week\": \"april-29-2024\"}, {\"TopGuitar\": \"Jasper\", \"weekly_sales_total\": 808045, \"week\": \"april-29-2024\"}, {\"TopGuitar\": \"Ozark\", \"weekly_sales_total\": 905321, \"week\": \"april-29-2024\"}, {\"TopGuitar\": \"Troy\", \"weekly_sales_total\": 274392, \"week\": \"april-29-2024\"}, {\"TopGuitar\": \"Arcadia\", \"weekly_sales_total\": 490953, \"week\": \"april-29-2024\"}, {\"TopGuitar\": \"Stratford\", \"weekly_sales_total\": 797768, \"week\": \"april-29-2024\"}, {\"TopGuitar\": \"Mesa\", \"weekly_sales_total\": 321089, \"week\": \"july-29-2024\"}, {\"TopGuitar\": \"Lexington\", \"weekly_sales_total\": 167300, \"week\": \"july-29-2024\"}, {\"TopGuitar\": \"Buckeye\", \"weekly_sales_total\": 858902, \"week\": \"july-29-2024\"}, {\"TopGuitar\": \"Jasper\", \"weekly_sales_total\": 737397, \"week\": \"july-29-2024\"}, {\"TopGuitar\": \"Ozark\", \"weekly_sales_total\": 594082, \"week\": \"july-29-2024\"}, {\"TopGuitar\": \"Troy\", \"weekly_sales_total\": 175917, \"week\": \"july-29-2024\"}, {\"TopGuitar\": \"Arcadia\", \"weekly_sales_total\": 751855, \"week\": \"july-29-2024\"}, {\"TopGuitar\": \"Stratford\", \"weekly_sales_total\": 978315, \"week\": \"july-29-2024\"}, {\"TopGuitar\": \"Mesa\", \"weekly_sales_total\": 360656, \"week\": \"may-06-2024\"}, {\"TopGuitar\": \"Lexington\", \"weekly_sales_total\": 394027, \"week\": \"may-06-2024\"}, {\"TopGuitar\": \"Buckeye\", \"weekly_sales_total\": 761309, \"week\": \"may-06-2024\"}, {\"TopGuitar\": \"Jasper\", \"weekly_sales_total\": 984083, \"week\": \"may-06-2024\"}, {\"TopGuitar\": \"Ozark\", \"weekly_sales_total\": 141236, \"week\": \"may-06-2024\"}, {\"TopGuitar\": \"Troy\", \"weekly_sales_total\": 830377, \"week\": \"may-06-2024\"}, {\"TopGuitar\": \"Arcadia\", \"weekly_sales_total\": 168612, \"week\": \"may-06-2024\"}, {\"TopGuitar\": \"Stratford\", \"weekly_sales_total\": 363889, \"week\": \"may-06-2024\"}, {\"TopGuitar\": \"Mesa\", \"weekly_sales_total\": 265132, \"week\": \"september-23-2024\"}, {\"TopGuitar\": \"Lexington\", \"weekly_sales_total\": 529264, \"week\": \"september-23-2024\"}, {\"TopGuitar\": \"Buckeye\", \"weekly_sales_total\": 839913, \"week\": \"september-23-2024\"}, {\"TopGuitar\": \"Jasper\", \"weekly_sales_total\": 635080, \"week\": \"september-23-2024\"}, {\"TopGuitar\": \"Ozark\", \"weekly_sales_total\": 560631, \"week\": \"september-23-2024\"}, {\"TopGuitar\": \"Troy\", \"weekly_sales_total\": 934782, \"week\": \"september-23-2024\"}, {\"TopGuitar\": \"Arcadia\", \"weekly_sales_total\": 839053, \"week\": \"september-23-2024\"}, {\"TopGuitar\": \"Stratford\", \"weekly_sales_total\": 839877, \"week\": \"september-23-2024\"}, {\"TopGuitar\": \"Mesa\", \"weekly_sales_total\": 454085, \"week\": \"march-18-2024\"}, {\"TopGuitar\": \"Lexington\", \"weekly_sales_total\": 675037, \"week\": \"march-18-2024\"}, {\"TopGuitar\": \"Buckeye\", \"weekly_sales_total\": 627832, \"week\": \"march-18-2024\"}, {\"TopGuitar\": \"Jasper\", \"weekly_sales_total\": 492829, \"week\": \"march-18-2024\"}, {\"TopGuitar\": \"Ozark\", \"weekly_sales_total\": 658151, \"week\": \"march-18-2024\"}, {\"TopGuitar\": \"Troy\", \"weekly_sales_total\": 794596, \"week\": \"march-18-2024\"}, {\"TopGuitar\": \"Arcadia\", \"weekly_sales_total\": 807620, \"week\": \"march-18-2024\"}, {\"TopGuitar\": \"Stratford\", \"weekly_sales_total\": 521672, \"week\": \"march-18-2024\"}, {\"TopGuitar\": \"Mesa\", \"weekly_sales_total\": 621013, \"week\": \"april-01-2024\"}, {\"TopGuitar\": \"Lexington\", \"weekly_sales_total\": 354203, \"week\": \"april-01-2024\"}, {\"TopGuitar\": \"Buckeye\", \"weekly_sales_total\": 517663, \"week\": \"april-01-2024\"}, {\"TopGuitar\": \"Jasper\", \"weekly_sales_total\": 796277, \"week\": \"april-01-2024\"}, {\"TopGuitar\": \"Ozark\", \"weekly_sales_total\": 457238, \"week\": \"april-01-2024\"}, {\"TopGuitar\": \"Troy\", \"weekly_sales_total\": 713814, \"week\": \"april-01-2024\"}, {\"TopGuitar\": \"Arcadia\", \"weekly_sales_total\": 707154, \"week\": \"april-01-2024\"}, {\"TopGuitar\": \"Stratford\", \"weekly_sales_total\": 253071, \"week\": \"april-01-2024\"}, {\"TopGuitar\": \"Mesa\", \"weekly_sales_total\": 404030, \"week\": \"december-09-2024\"}, {\"TopGuitar\": \"Lexington\", \"weekly_sales_total\": 297774, \"week\": \"december-09-2024\"}, {\"TopGuitar\": \"Buckeye\", \"weekly_sales_total\": 595994, \"week\": \"december-09-2024\"}, {\"TopGuitar\": \"Jasper\", \"weekly_sales_total\": 732991, \"week\": \"december-09-2024\"}, {\"TopGuitar\": \"Ozark\", \"weekly_sales_total\": 526672, \"week\": \"december-09-2024\"}, {\"TopGuitar\": \"Troy\", \"weekly_sales_total\": 643836, \"week\": \"december-09-2024\"}, {\"TopGuitar\": \"Arcadia\", \"weekly_sales_total\": 726584, \"week\": \"december-09-2024\"}, {\"TopGuitar\": \"Stratford\", \"weekly_sales_total\": 538344, \"week\": \"december-09-2024\"}, {\"TopGuitar\": \"Mesa\", \"weekly_sales_total\": 190560, \"week\": \"august-12-2024\"}, {\"TopGuitar\": \"Lexington\", \"weekly_sales_total\": 852141, \"week\": \"august-12-2024\"}, {\"TopGuitar\": \"Buckeye\", \"weekly_sales_total\": 198022, \"week\": \"august-12-2024\"}, {\"TopGuitar\": \"Jasper\", \"weekly_sales_total\": 860169, \"week\": \"august-12-2024\"}, {\"TopGuitar\": \"Ozark\", \"weekly_sales_total\": 815826, \"week\": \"august-12-2024\"}, {\"TopGuitar\": \"Troy\", \"weekly_sales_total\": 889801, \"week\": \"august-12-2024\"}, {\"TopGuitar\": \"Arcadia\", \"weekly_sales_total\": 134865, \"week\": \"august-12-2024\"}, {\"TopGuitar\": \"Stratford\", \"weekly_sales_total\": 453717, \"week\": \"august-12-2024\"}, {\"TopGuitar\": \"Mesa\", \"weekly_sales_total\": 347180, \"week\": \"february-19-2024\"}, {\"TopGuitar\": \"Lexington\", \"weekly_sales_total\": 134453, \"week\": \"february-19-2024\"}, {\"TopGuitar\": \"Buckeye\", \"weekly_sales_total\": 565498, \"week\": \"february-19-2024\"}, {\"TopGuitar\": \"Jasper\", \"weekly_sales_total\": 908945, \"week\": \"february-19-2024\"}, {\"TopGuitar\": \"Ozark\", \"weekly_sales_total\": 576518, \"week\": \"february-19-2024\"}, {\"TopGuitar\": \"Troy\", \"weekly_sales_total\": 231708, \"week\": \"february-19-2024\"}, {\"TopGuitar\": \"Arcadia\", \"weekly_sales_total\": 516565, \"week\": \"february-19-2024\"}, {\"TopGuitar\": \"Stratford\", \"weekly_sales_total\": 270813, \"week\": \"february-19-2024\"}, {\"TopGuitar\": \"Mesa\", \"weekly_sales_total\": 925106, \"week\": \"september-30-2024\"}, {\"TopGuitar\": \"Lexington\", \"weekly_sales_total\": 924636, \"week\": \"september-30-2024\"}, {\"TopGuitar\": \"Buckeye\", \"weekly_sales_total\": 935736, \"week\": \"september-30-2024\"}, {\"TopGuitar\": \"Jasper\", \"weekly_sales_total\": 486618, \"week\": \"september-30-2024\"}, {\"TopGuitar\": \"Ozark\", \"weekly_sales_total\": 218082, \"week\": \"september-30-2024\"}, {\"TopGuitar\": \"Troy\", \"weekly_sales_total\": 469440, \"week\": \"september-30-2024\"}, {\"TopGuitar\": \"Arcadia\", \"weekly_sales_total\": 205653, \"week\": \"september-30-2024\"}, {\"TopGuitar\": \"Stratford\", \"weekly_sales_total\": 696892, \"week\": \"september-30-2024\"}, {\"TopGuitar\": \"Mesa\", \"weekly_sales_total\": 660079, \"week\": \"april-15-2024\"}, {\"TopGuitar\": \"Lexington\", \"weekly_sales_total\": 824162, \"week\": \"april-15-2024\"}, {\"TopGuitar\": \"Buckeye\", \"weekly_sales_total\": 528663, \"week\": \"april-15-2024\"}, {\"TopGuitar\": \"Jasper\", \"weekly_sales_total\": 190444, \"week\": \"april-15-2024\"}, {\"TopGuitar\": \"Ozark\", \"weekly_sales_total\": 517454, \"week\": \"april-15-2024\"}, {\"TopGuitar\": \"Troy\", \"weekly_sales_total\": 964596, \"week\": \"april-15-2024\"}, {\"TopGuitar\": \"Arcadia\", \"weekly_sales_total\": 703983, \"week\": \"april-15-2024\"}, {\"TopGuitar\": \"Stratford\", \"weekly_sales_total\": 144766, \"week\": \"april-15-2024\"}, {\"TopGuitar\": \"Mesa\", \"weekly_sales_total\": 361609, \"week\": \"may-13-2024\"}, {\"TopGuitar\": \"Lexington\", \"weekly_sales_total\": 126059, \"week\": \"may-13-2024\"}, {\"TopGuitar\": \"Buckeye\", \"weekly_sales_total\": 586959, \"week\": \"may-13-2024\"}, {\"TopGuitar\": \"Jasper\", \"weekly_sales_total\": 699198, \"week\": \"may-13-2024\"}, {\"TopGuitar\": \"Ozark\", \"weekly_sales_total\": 641895, \"week\": \"may-13-2024\"}, {\"TopGuitar\": \"Troy\", \"weekly_sales_total\": 692194, \"week\": \"may-13-2024\"}, {\"TopGuitar\": \"Arcadia\", \"weekly_sales_total\": 177195, \"week\": \"may-13-2024\"}, {\"TopGuitar\": \"Stratford\", \"weekly_sales_total\": 602089, \"week\": \"may-13-2024\"}, {\"TopGuitar\": \"Mesa\", \"weekly_sales_total\": 488864, \"week\": \"october-28-2024\"}, {\"TopGuitar\": \"Lexington\", \"weekly_sales_total\": 224766, \"week\": \"october-28-2024\"}, {\"TopGuitar\": \"Buckeye\", \"weekly_sales_total\": 684019, \"week\": \"october-28-2024\"}, {\"TopGuitar\": \"Jasper\", \"weekly_sales_total\": 454448, \"week\": \"october-28-2024\"}, {\"TopGuitar\": \"Ozark\", \"weekly_sales_total\": 893434, \"week\": \"october-28-2024\"}, {\"TopGuitar\": \"Troy\", \"weekly_sales_total\": 378315, \"week\": \"october-28-2024\"}, {\"TopGuitar\": \"Arcadia\", \"weekly_sales_total\": 970039, \"week\": \"october-28-2024\"}, {\"TopGuitar\": \"Stratford\", \"weekly_sales_total\": 206232, \"week\": \"october-28-2024\"}, {\"TopGuitar\": \"Mesa\", \"weekly_sales_total\": 881331, \"week\": \"june-03-2024\"}, {\"TopGuitar\": \"Lexington\", \"weekly_sales_total\": 963684, \"week\": \"june-03-2024\"}, {\"TopGuitar\": \"Buckeye\", \"weekly_sales_total\": 353361, \"week\": \"june-03-2024\"}, {\"TopGuitar\": \"Jasper\", \"weekly_sales_total\": 160249, \"week\": \"june-03-2024\"}, {\"TopGuitar\": \"Ozark\", \"weekly_sales_total\": 402406, \"week\": \"june-03-2024\"}, {\"TopGuitar\": \"Troy\", \"weekly_sales_total\": 457542, \"week\": \"june-03-2024\"}, {\"TopGuitar\": \"Arcadia\", \"weekly_sales_total\": 734355, \"week\": \"june-03-2024\"}, {\"TopGuitar\": \"Stratford\", \"weekly_sales_total\": 638503, \"week\": \"june-03-2024\"}, {\"TopGuitar\": \"Mesa\", \"weekly_sales_total\": 721736, \"week\": \"january-22-2024\"}, {\"TopGuitar\": \"Lexington\", \"weekly_sales_total\": 463942, \"week\": \"january-22-2024\"}, {\"TopGuitar\": \"Buckeye\", \"weekly_sales_total\": 882190, \"week\": \"january-22-2024\"}, {\"TopGuitar\": \"Jasper\", \"weekly_sales_total\": 723229, \"week\": \"january-22-2024\"}, {\"TopGuitar\": \"Ozark\", \"weekly_sales_total\": 740663, \"week\": \"january-22-2024\"}, {\"TopGuitar\": \"Troy\", \"weekly_sales_total\": 570046, \"week\": \"january-22-2024\"}, {\"TopGuitar\": \"Arcadia\", \"weekly_sales_total\": 272741, \"week\": \"january-22-2024\"}, {\"TopGuitar\": \"Stratford\", \"weekly_sales_total\": 580572, \"week\": \"january-22-2024\"}, {\"TopGuitar\": \"Mesa\", \"weekly_sales_total\": 881056, \"week\": \"december-16-2024\"}, {\"TopGuitar\": \"Lexington\", \"weekly_sales_total\": 254104, \"week\": \"december-16-2024\"}, {\"TopGuitar\": \"Buckeye\", \"weekly_sales_total\": 969792, \"week\": \"december-16-2024\"}, {\"TopGuitar\": \"Jasper\", \"weekly_sales_total\": 708776, \"week\": \"december-16-2024\"}, {\"TopGuitar\": \"Ozark\", \"weekly_sales_total\": 837986, \"week\": \"december-16-2024\"}, {\"TopGuitar\": \"Troy\", \"weekly_sales_total\": 475443, \"week\": \"december-16-2024\"}, {\"TopGuitar\": \"Arcadia\", \"weekly_sales_total\": 251986, \"week\": \"december-16-2024\"}, {\"TopGuitar\": \"Stratford\", \"weekly_sales_total\": 320295, \"week\": \"december-16-2024\"}, {\"TopGuitar\": \"Mesa\", \"weekly_sales_total\": 581741, \"week\": \"august-26-2024\"}, {\"TopGuitar\": \"Lexington\", \"weekly_sales_total\": 878781, \"week\": \"august-26-2024\"}, {\"TopGuitar\": \"Buckeye\", \"weekly_sales_total\": 718188, \"week\": \"august-26-2024\"}, {\"TopGuitar\": \"Jasper\", \"weekly_sales_total\": 483326, \"week\": \"august-26-2024\"}, {\"TopGuitar\": \"Ozark\", \"weekly_sales_total\": 551970, \"week\": \"august-26-2024\"}, {\"TopGuitar\": \"Troy\", \"weekly_sales_total\": 602123, \"week\": \"august-26-2024\"}, {\"TopGuitar\": \"Arcadia\", \"weekly_sales_total\": 884686, \"week\": \"august-26-2024\"}, {\"TopGuitar\": \"Stratford\", \"weekly_sales_total\": 286202, \"week\": \"august-26-2024\"}, {\"TopGuitar\": \"Mesa\", \"weekly_sales_total\": 874115, \"week\": \"november-11-2024\"}, {\"TopGuitar\": \"Lexington\", \"weekly_sales_total\": 940095, \"week\": \"november-11-2024\"}, {\"TopGuitar\": \"Buckeye\", \"weekly_sales_total\": 834919, \"week\": \"november-11-2024\"}, {\"TopGuitar\": \"Jasper\", \"weekly_sales_total\": 680209, \"week\": \"november-11-2024\"}, {\"TopGuitar\": \"Ozark\", \"weekly_sales_total\": 930865, \"week\": \"november-11-2024\"}, {\"TopGuitar\": \"Troy\", \"weekly_sales_total\": 620656, \"week\": \"november-11-2024\"}, {\"TopGuitar\": \"Arcadia\", \"weekly_sales_total\": 124122, \"week\": \"november-11-2024\"}, {\"TopGuitar\": \"Stratford\", \"weekly_sales_total\": 250674, \"week\": \"november-11-2024\"}, {\"TopGuitar\": \"Mesa\", \"weekly_sales_total\": 572635, \"week\": \"march-11-2024\"}, {\"TopGuitar\": \"Lexington\", \"weekly_sales_total\": 611755, \"week\": \"march-11-2024\"}, {\"TopGuitar\": \"Buckeye\", \"weekly_sales_total\": 872952, \"week\": \"march-11-2024\"}, {\"TopGuitar\": \"Jasper\", \"weekly_sales_total\": 255802, \"week\": \"march-11-2024\"}, {\"TopGuitar\": \"Ozark\", \"weekly_sales_total\": 661560, \"week\": \"march-11-2024\"}, {\"TopGuitar\": \"Troy\", \"weekly_sales_total\": 893421, \"week\": \"march-11-2024\"}, {\"TopGuitar\": \"Arcadia\", \"weekly_sales_total\": 884274, \"week\": \"march-11-2024\"}, {\"TopGuitar\": \"Stratford\", \"weekly_sales_total\": 348759, \"week\": \"march-11-2024\"}, {\"TopGuitar\": \"Mesa\", \"weekly_sales_total\": 345535, \"week\": \"january-01-2024\"}, {\"TopGuitar\": \"Lexington\", \"weekly_sales_total\": 557285, \"week\": \"january-01-2024\"}, {\"TopGuitar\": \"Buckeye\", \"weekly_sales_total\": 451859, \"week\": \"january-01-2024\"}, {\"TopGuitar\": \"Jasper\", \"weekly_sales_total\": 807523, \"week\": \"january-01-2024\"}, {\"TopGuitar\": \"Ozark\", \"weekly_sales_total\": 843631, \"week\": \"january-01-2024\"}, {\"TopGuitar\": \"Troy\", \"weekly_sales_total\": 629493, \"week\": \"january-01-2024\"}, {\"TopGuitar\": \"Arcadia\", \"weekly_sales_total\": 658987, \"week\": \"january-01-2024\"}, {\"TopGuitar\": \"Stratford\", \"weekly_sales_total\": 908629, \"week\": \"january-01-2024\"}, {\"TopGuitar\": \"Mesa\", \"weekly_sales_total\": 242230, \"week\": \"march-25-2024\"}, {\"TopGuitar\": \"Lexington\", \"weekly_sales_total\": 793098, \"week\": \"march-25-2024\"}, {\"TopGuitar\": \"Buckeye\", \"weekly_sales_total\": 749735, \"week\": \"march-25-2024\"}, {\"TopGuitar\": \"Jasper\", \"weekly_sales_total\": 546619, \"week\": \"march-25-2024\"}, {\"TopGuitar\": \"Ozark\", \"weekly_sales_total\": 960368, \"week\": \"march-25-2024\"}, {\"TopGuitar\": \"Troy\", \"weekly_sales_total\": 109667, \"week\": \"march-25-2024\"}, {\"TopGuitar\": \"Arcadia\", \"weekly_sales_total\": 196344, \"week\": \"march-25-2024\"}, {\"TopGuitar\": \"Stratford\", \"weekly_sales_total\": 528482, \"week\": \"march-25-2024\"}, {\"TopGuitar\": \"Mesa\", \"weekly_sales_total\": 955659, \"week\": \"september-16-2024\"}, {\"TopGuitar\": \"Lexington\", \"weekly_sales_total\": 347914, \"week\": \"september-16-2024\"}, {\"TopGuitar\": \"Buckeye\", \"weekly_sales_total\": 304070, \"week\": \"september-16-2024\"}, {\"TopGuitar\": \"Jasper\", \"weekly_sales_total\": 518014, \"week\": \"september-16-2024\"}, {\"TopGuitar\": \"Ozark\", \"weekly_sales_total\": 356996, \"week\": \"september-16-2024\"}, {\"TopGuitar\": \"Troy\", \"weekly_sales_total\": 568036, \"week\": \"september-16-2024\"}, {\"TopGuitar\": \"Arcadia\", \"weekly_sales_total\": 541956, \"week\": \"september-16-2024\"}, {\"TopGuitar\": \"Stratford\", \"weekly_sales_total\": 939318, \"week\": \"september-16-2024\"}, {\"TopGuitar\": \"Mesa\", \"weekly_sales_total\": 866617, \"week\": \"july-22-2024\"}, {\"TopGuitar\": \"Lexington\", \"weekly_sales_total\": 324440, \"week\": \"july-22-2024\"}, {\"TopGuitar\": \"Buckeye\", \"weekly_sales_total\": 820066, \"week\": \"july-22-2024\"}, {\"TopGuitar\": \"Jasper\", \"weekly_sales_total\": 948903, \"week\": \"july-22-2024\"}, {\"TopGuitar\": \"Ozark\", \"weekly_sales_total\": 448723, \"week\": \"july-22-2024\"}, {\"TopGuitar\": \"Troy\", \"weekly_sales_total\": 899649, \"week\": \"july-22-2024\"}, {\"TopGuitar\": \"Arcadia\", \"weekly_sales_total\": 718818, \"week\": \"july-22-2024\"}, {\"TopGuitar\": \"Stratford\", \"weekly_sales_total\": 437273, \"week\": \"july-22-2024\"}, {\"TopGuitar\": \"Mesa\", \"weekly_sales_total\": 981120, \"week\": \"april-22-2024\"}, {\"TopGuitar\": \"Lexington\", \"weekly_sales_total\": 824592, \"week\": \"april-22-2024\"}, {\"TopGuitar\": \"Buckeye\", \"weekly_sales_total\": 569794, \"week\": \"april-22-2024\"}, {\"TopGuitar\": \"Jasper\", \"weekly_sales_total\": 585412, \"week\": \"april-22-2024\"}, {\"TopGuitar\": \"Ozark\", \"weekly_sales_total\": 788151, \"week\": \"april-22-2024\"}, {\"TopGuitar\": \"Troy\", \"weekly_sales_total\": 612260, \"week\": \"april-22-2024\"}, {\"TopGuitar\": \"Arcadia\", \"weekly_sales_total\": 695512, \"week\": \"april-22-2024\"}, {\"TopGuitar\": \"Stratford\", \"weekly_sales_total\": 759930, \"week\": \"april-22-2024\"}, {\"TopGuitar\": \"Mesa\", \"weekly_sales_total\": 187646, \"week\": \"october-07-2024\"}, {\"TopGuitar\": \"Lexington\", \"weekly_sales_total\": 712951, \"week\": \"october-07-2024\"}, {\"TopGuitar\": \"Buckeye\", \"weekly_sales_total\": 495710, \"week\": \"october-07-2024\"}, {\"TopGuitar\": \"Jasper\", \"weekly_sales_total\": 290868, \"week\": \"october-07-2024\"}, {\"TopGuitar\": \"Ozark\", \"weekly_sales_total\": 772533, \"week\": \"october-07-2024\"}, {\"TopGuitar\": \"Troy\", \"weekly_sales_total\": 379551, \"week\": \"october-07-2024\"}, {\"TopGuitar\": \"Arcadia\", \"weekly_sales_total\": 683670, \"week\": \"october-07-2024\"}, {\"TopGuitar\": \"Stratford\", \"weekly_sales_total\": 349149, \"week\": \"october-07-2024\"}, {\"TopGuitar\": \"Mesa\", \"weekly_sales_total\": 171532, \"week\": \"february-26-2024\"}, {\"TopGuitar\": \"Lexington\", \"weekly_sales_total\": 144929, \"week\": \"february-26-2024\"}, {\"TopGuitar\": \"Buckeye\", \"weekly_sales_total\": 260664, \"week\": \"february-26-2024\"}, {\"TopGuitar\": \"Jasper\", \"weekly_sales_total\": 516277, \"week\": \"february-26-2024\"}, {\"TopGuitar\": \"Ozark\", \"weekly_sales_total\": 276573, \"week\": \"february-26-2024\"}, {\"TopGuitar\": \"Troy\", \"weekly_sales_total\": 867578, \"week\": \"february-26-2024\"}, {\"TopGuitar\": \"Arcadia\", \"weekly_sales_total\": 509509, \"week\": \"february-26-2024\"}, {\"TopGuitar\": \"Stratford\", \"weekly_sales_total\": 382056, \"week\": \"february-26-2024\"}, {\"TopGuitar\": \"Mesa\", \"weekly_sales_total\": 944706, \"week\": \"march-04-2024\"}, {\"TopGuitar\": \"Lexington\", \"weekly_sales_total\": 796831, \"week\": \"march-04-2024\"}, {\"TopGuitar\": \"Buckeye\", \"weekly_sales_total\": 615068, \"week\": \"march-04-2024\"}, {\"TopGuitar\": \"Jasper\", \"weekly_sales_total\": 503050, \"week\": \"march-04-2024\"}, {\"TopGuitar\": \"Ozark\", \"weekly_sales_total\": 426764, \"week\": \"march-04-2024\"}, {\"TopGuitar\": \"Troy\", \"weekly_sales_total\": 609831, \"week\": \"march-04-2024\"}, {\"TopGuitar\": \"Arcadia\", \"weekly_sales_total\": 510167, \"week\": \"march-04-2024\"}, {\"TopGuitar\": \"Stratford\", \"weekly_sales_total\": 117215, \"week\": \"march-04-2024\"}]}}, {\"mode\": \"vega-lite\"});\n",
              "</script>"
            ],
            "text/plain": [
              "alt.Chart(...)"
            ]
          },
          "metadata": {},
          "execution_count": 8
        }
      ]
    },
    {
      "cell_type": "code",
      "source": [
        "import pandas as pd\n",
        "\n",
        "grouped_stats = df.groupby('TopGuitar')['weekly_sales_total'].describe()\n",
        "\n",
        "grouped_variance = df.groupby('TopGuitar')['weekly_sales_total'].var().rename(\"variance\")\n",
        "\n",
        "stats_with_variance = pd.concat([grouped_stats, grouped_variance], axis=1)\n",
        "\n",
        "print(stats_with_variance)\n"
      ],
      "metadata": {
        "colab": {
          "base_uri": "https://localhost:8080/"
        },
        "id": "uj4crFV0XHJx",
        "outputId": "da07b67f-2318-4d33-b275-cbc25b44778d"
      },
      "execution_count": 9,
      "outputs": [
        {
          "output_type": "stream",
          "name": "stdout",
          "text": [
            "           count           mean            std       min        25%       50%  \\\n",
            "TopGuitar                                                                       \n",
            "Arcadia     54.0  585430.018519  274180.013615  108289.0  337692.75  654442.5   \n",
            "Buckeye     54.0  603356.703704  237799.468757  101856.0  452998.50  605696.0   \n",
            "Jasper      54.0  613224.259259  231382.108717  160249.0  488170.75  644567.5   \n",
            "Lexington   54.0  593041.685185  283651.976155  126059.0  304440.50  665064.5   \n",
            "Mesa        54.0  567845.925926  266668.712681  140443.0  345946.25  554520.5   \n",
            "Ozark       54.0  533094.981481  248432.518586  114096.0  344929.25  537952.0   \n",
            "Stratford   54.0  517275.944444  233564.467720  116195.0  348856.50  511531.0   \n",
            "Troy        54.0  567105.351852  261758.050665  109667.0  346919.00  580557.0   \n",
            "\n",
            "                 75%       max      variance  \n",
            "TopGuitar                                     \n",
            "Arcadia    795779.75  974707.0  7.517468e+10  \n",
            "Buckeye    821374.75  992456.0  5.654859e+10  \n",
            "Jasper     801707.00  984083.0  5.353768e+10  \n",
            "Lexington  844650.00  990717.0  8.045844e+10  \n",
            "Mesa       849826.50  981120.0  7.111220e+10  \n",
            "Ozark      723667.25  966631.0  6.171872e+10  \n",
            "Stratford  668584.25  978315.0  5.455236e+10  \n",
            "Troy       821431.75  977755.0  6.851728e+10  \n"
          ]
        }
      ]
    },
    {
      "cell_type": "code",
      "source": [
        "import pandas as pd\n",
        "\n",
        "grouped_variance = df.groupby('TopGuitar')['weekly_sales_total'].var().rename(\"variance\")\n",
        "\n",
        "ranked_stores = grouped_variance.sort_values(ascending=False)\n",
        "\n",
        "print(ranked_stores)\n"
      ],
      "metadata": {
        "colab": {
          "base_uri": "https://localhost:8080/"
        },
        "id": "ss30iF6uXHR6",
        "outputId": "a93b18f3-6277-4da7-d846-5090184b9f40"
      },
      "execution_count": 10,
      "outputs": [
        {
          "output_type": "stream",
          "name": "stdout",
          "text": [
            "TopGuitar\n",
            "Lexington    8.045844e+10\n",
            "Arcadia      7.517468e+10\n",
            "Mesa         7.111220e+10\n",
            "Troy         6.851728e+10\n",
            "Ozark        6.171872e+10\n",
            "Buckeye      5.654859e+10\n",
            "Stratford    5.455236e+10\n",
            "Jasper       5.353768e+10\n",
            "Name: variance, dtype: float64\n"
          ]
        }
      ]
    },
    {
      "cell_type": "code",
      "source": [
        "import altair as alt\n",
        "\n",
        "data = ranked_stores.reset_index()\n",
        "data.columns = ['TopGuitar', 'variance']\n",
        "\n",
        "color_scale = alt.Scale(scheme='redblue', domainMid=0)\n",
        "\n",
        "histogram = alt.Chart(data).mark_bar().encode(\n",
        "  x='TopGuitar:N',\n",
        "  y='variance:Q',\n",
        "  color=alt.Color('variance:Q', scale=color_scale, legend=None),\n",
        "  tooltip=['TopGuitar:N', 'variance:Q']\n",
        ").properties(\n",
        "  width=800\n",
        ")\n",
        "\n",
        "histogram"
      ],
      "metadata": {
        "colab": {
          "base_uri": "https://localhost:8080/",
          "height": 403
        },
        "id": "VBrZCV3jXHU6",
        "outputId": "d9c95b36-c3f8-40c9-c0d7-df2f47f4355d"
      },
      "execution_count": 11,
      "outputs": [
        {
          "output_type": "execute_result",
          "data": {
            "text/html": [
              "\n",
              "<div id=\"altair-viz-bb18f56624e1429f9b51403b0b70f6aa\"></div>\n",
              "<script type=\"text/javascript\">\n",
              "  var VEGA_DEBUG = (typeof VEGA_DEBUG == \"undefined\") ? {} : VEGA_DEBUG;\n",
              "  (function(spec, embedOpt){\n",
              "    let outputDiv = document.currentScript.previousElementSibling;\n",
              "    if (outputDiv.id !== \"altair-viz-bb18f56624e1429f9b51403b0b70f6aa\") {\n",
              "      outputDiv = document.getElementById(\"altair-viz-bb18f56624e1429f9b51403b0b70f6aa\");\n",
              "    }\n",
              "    const paths = {\n",
              "      \"vega\": \"https://cdn.jsdelivr.net/npm//vega@5?noext\",\n",
              "      \"vega-lib\": \"https://cdn.jsdelivr.net/npm//vega-lib?noext\",\n",
              "      \"vega-lite\": \"https://cdn.jsdelivr.net/npm//vega-lite@4.17.0?noext\",\n",
              "      \"vega-embed\": \"https://cdn.jsdelivr.net/npm//vega-embed@6?noext\",\n",
              "    };\n",
              "\n",
              "    function maybeLoadScript(lib, version) {\n",
              "      var key = `${lib.replace(\"-\", \"\")}_version`;\n",
              "      return (VEGA_DEBUG[key] == version) ?\n",
              "        Promise.resolve(paths[lib]) :\n",
              "        new Promise(function(resolve, reject) {\n",
              "          var s = document.createElement('script');\n",
              "          document.getElementsByTagName(\"head\")[0].appendChild(s);\n",
              "          s.async = true;\n",
              "          s.onload = () => {\n",
              "            VEGA_DEBUG[key] = version;\n",
              "            return resolve(paths[lib]);\n",
              "          };\n",
              "          s.onerror = () => reject(`Error loading script: ${paths[lib]}`);\n",
              "          s.src = paths[lib];\n",
              "        });\n",
              "    }\n",
              "\n",
              "    function showError(err) {\n",
              "      outputDiv.innerHTML = `<div class=\"error\" style=\"color:red;\">${err}</div>`;\n",
              "      throw err;\n",
              "    }\n",
              "\n",
              "    function displayChart(vegaEmbed) {\n",
              "      vegaEmbed(outputDiv, spec, embedOpt)\n",
              "        .catch(err => showError(`Javascript Error: ${err.message}<br>This usually means there's a typo in your chart specification. See the javascript console for the full traceback.`));\n",
              "    }\n",
              "\n",
              "    if(typeof define === \"function\" && define.amd) {\n",
              "      requirejs.config({paths});\n",
              "      require([\"vega-embed\"], displayChart, err => showError(`Error loading script: ${err.message}`));\n",
              "    } else {\n",
              "      maybeLoadScript(\"vega\", \"5\")\n",
              "        .then(() => maybeLoadScript(\"vega-lite\", \"4.17.0\"))\n",
              "        .then(() => maybeLoadScript(\"vega-embed\", \"6\"))\n",
              "        .catch(showError)\n",
              "        .then(() => displayChart(vegaEmbed));\n",
              "    }\n",
              "  })({\"config\": {\"view\": {\"continuousWidth\": 400, \"continuousHeight\": 300}}, \"data\": {\"name\": \"data-9eabe690f311809590f8cefb0f06c942\"}, \"mark\": \"bar\", \"encoding\": {\"color\": {\"field\": \"variance\", \"legend\": null, \"scale\": {\"domainMid\": 0, \"scheme\": \"redblue\"}, \"type\": \"quantitative\"}, \"tooltip\": [{\"field\": \"TopGuitar\", \"type\": \"nominal\"}, {\"field\": \"variance\", \"type\": \"quantitative\"}], \"x\": {\"field\": \"TopGuitar\", \"type\": \"nominal\"}, \"y\": {\"field\": \"variance\", \"type\": \"quantitative\"}}, \"width\": 800, \"$schema\": \"https://vega.github.io/schema/vega-lite/v4.17.0.json\", \"datasets\": {\"data-9eabe690f311809590f8cefb0f06c942\": [{\"TopGuitar\": \"Lexington\", \"variance\": 80458443576.6726}, {\"TopGuitar\": \"Arcadia\", \"variance\": 75174679865.90529}, {\"TopGuitar\": \"Mesa\", \"variance\": 71112202322.90007}, {\"TopGuitar\": \"Troy\", \"variance\": 68517277087.854965}, {\"TopGuitar\": \"Ozark\", \"variance\": 61718716291.11288}, {\"TopGuitar\": \"Buckeye\", \"variance\": 56548587340.96718}, {\"TopGuitar\": \"Stratford\", \"variance\": 54552360581.26101}, {\"TopGuitar\": \"Jasper\", \"variance\": 53537680234.30886}]}}, {\"mode\": \"vega-lite\"});\n",
              "</script>"
            ],
            "text/plain": [
              "alt.Chart(...)"
            ]
          },
          "metadata": {},
          "execution_count": 11
        }
      ]
    },
    {
      "cell_type": "code",
      "source": [],
      "metadata": {
        "id": "waCmo4lTXHXs"
      },
      "execution_count": null,
      "outputs": []
    },
    {
      "cell_type": "code",
      "source": [],
      "metadata": {
        "id": "pNKEXtMNXHag"
      },
      "execution_count": null,
      "outputs": []
    }
  ]
}