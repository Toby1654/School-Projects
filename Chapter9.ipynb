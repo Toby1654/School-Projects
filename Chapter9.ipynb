{
  "nbformat": 4,
  "nbformat_minor": 0,
  "metadata": {
    "colab": {
      "provenance": [],
      "authorship_tag": "ABX9TyPi7QCzaP4JbmU9e0nJ+JC8",
      "include_colab_link": true
    },
    "kernelspec": {
      "name": "python3",
      "display_name": "Python 3"
    },
    "language_info": {
      "name": "python"
    }
  },
  "cells": [
    {
      "cell_type": "markdown",
      "metadata": {
        "id": "view-in-github",
        "colab_type": "text"
      },
      "source": [
        "<a href=\"https://colab.research.google.com/github/Toby1654/School-Projects/blob/main/Chapter9.ipynb\" target=\"_parent\"><img src=\"https://colab.research.google.com/assets/colab-badge.svg\" alt=\"Open In Colab\"/></a>"
      ]
    },
    {
      "cell_type": "code",
      "execution_count": 14,
      "metadata": {
        "id": "hEYbysHlLB0w"
      },
      "outputs": [],
      "source": [
        "# Allows user to interact with the native OS Python library\n",
        "import os\n",
        "\n",
        "# Returns the current working directory\n",
        "cwd = os.getcwd()\n",
        "\n",
        "# Get list from designated directory\n",
        "files = os.listdir(cwd)\n",
        "\n",
        "# Find designated CSV files\n",
        "csv_files = [f for f in files if f.endswith('.csv')]\n",
        "\n",
        "# Delete designated CSV files\n",
        "for f in csv_files:\n",
        "  os.remove(os.path.join(cwd, f))"
      ]
    },
    {
      "cell_type": "code",
      "source": [
        "# Allows user to import data analysis toolkits from the panda library\n",
        "# Uses a generated-related function to randomize the data results\n",
        "import pandas as pd\n",
        "import random\n",
        "\n",
        "# List of cities that will be used in the analysis\n",
        "cities = ['Mesa', 'Lexington', 'Buckeye', 'Jasper', 'Ozark', 'Troy', 'Arcadia', 'Stratford']\n",
        "\n",
        "# Creates an empty list for dictionaries to be deposited\n",
        "weekly_totals_per_store = []\n",
        "\n",
        "# Creates dictionaries for individual city\n",
        "for city in cities:\n",
        "  TopGuitar = city\n",
        "  weekly_sales_total = random.randint(100000, 1000000)\n",
        "  store_dict = {'TopGuitar': TopGuitar, 'weekly_sales_total': weekly_sales_total}\n",
        "  weekly_totals_per_store.append(store_dict)\n",
        "\n",
        "# Creates dataframe from panda library\n",
        "df = pd.DataFrame(weekly_totals_per_store)\n",
        "\n",
        "# Places the dataframe data created into a CSV file\n",
        "df.to_csv('weekly_sales.csv', index=False)\n",
        "\n",
        "# Prints the data for user to view\n",
        "print(\"Data saved to 'weekly_sales.csv'\")"
      ],
      "metadata": {
        "id": "IqVhdoqqLroa"
      },
      "execution_count": null,
      "outputs": []
    },
    {
      "cell_type": "code",
      "source": [
        "# Allows user to import data analysis toolkits from the panda library and uses a generated-related function to randomize the data results\n",
        "# Uses a generated-related function to randomize the data results\n",
        "# Returns an object showing a duration in microseconds occurring between a specificed date and time\n",
        "import pandas as pd\n",
        "import random\n",
        "from datetime import datetime, timedelta\n",
        "\n",
        "# List of cities that will be used in the analysis\n",
        "cities = ['Mesa', 'Lexington', 'Buckeye', 'Jasper', 'Ozark', 'Troy', 'Arcadia', 'Stratford']\n",
        "\n",
        "# Creates an empty list for dictionaries to be deposited\n",
        "weekly_totals_per_store = []\n",
        "\n",
        "# Creates the sales data and defines the start date, end date, current date\n",
        "start_date = datetime(2024, 1, 1)\n",
        "end_date = datetime(2024, 12, 31)\n",
        "current_date = start_date\n",
        "\n",
        "# Creates sales data for every week of 2024\n",
        "while current_date <= end_date:\n",
        "  week_name = current_date.strftime('%B-%d-%Y')\n",
        "  current_date += timedelta(days=7)\n",
        "\n",
        "# Prints the data for user to view\n",
        "print(current_date)"
      ],
      "metadata": {
        "id": "tK0nlkcqLrtU"
      },
      "execution_count": null,
      "outputs": []
    },
    {
      "cell_type": "code",
      "source": [
        "# List of cities that will be used in the analysis\n",
        "cities = ['Mesa', 'Lexington', 'Buckeye', 'Jasper', 'Ozark', 'Troy', 'Arcadia', 'Stratford']\n",
        "\n",
        "# Creates the sales data and defines the start date, end date, current date\n",
        "start_date = datetime(2024, 1, 1)\n",
        "end_date = datetime(2024, 12, 31)\n",
        "current_date = start_date\n",
        "\n",
        "# Creates sales data for every week of 2024\n",
        "while current_date <= end_date:\n",
        "  weekly_totals_per_store = []\n",
        "  week_name = current_date.strftime('%B-%d-%Y')\n",
        "  current_date += timedelta(days=7)\n",
        "\n",
        "  # Creates dictionaries for individual city\n",
        "  for city in cities:\n",
        "    TopGuitar = city\n",
        "    weekly_sales_total = random.randint(100000, 1000000)\n",
        "    store_dict = {'TopGuitar': TopGuitar, 'weekly_sales_total': weekly_sales_total}\n",
        "    weekly_totals_per_store.append(store_dict)\n",
        "\n",
        "    # Creates dataframe from panda library\n",
        "    df = pd.DataFrame(weekly_totals_per_store)\n",
        "\n",
        "    # Places the dataframe data created into a CSV file\n",
        "    save_as = week_name.replace(' ', '-').lower() + '.csv'\n",
        "    df.to_csv(save_as, index=False)\n"
      ],
      "metadata": {
        "id": "oMZ_5344Lry2"
      },
      "execution_count": 17,
      "outputs": []
    },
    {
      "cell_type": "code",
      "source": [
        "# Allows user to interact with the native OS Python library\n",
        "import os\n",
        "\n",
        "# Retrieves the current working directory\n",
        "current_directory = os.getcwd()\n",
        "\n",
        "# Creates a list of all the files in the current working directory\n",
        "all_files = os.listdir(current_directory)\n",
        "\n",
        "# Filters a list of files to include only those that have a csv extension\n",
        "csv_files = [file for file in all_files if file.endswith('.csv')]"
      ],
      "metadata": {
        "id": "yET_n5-3Lr4O"
      },
      "execution_count": 18,
      "outputs": []
    },
    {
      "cell_type": "code",
      "source": [
        "# Allows user to import data analysis toolkits from the panda library\n",
        "# Uses a generated-related function to randomize the data results\n",
        "import pandas as pd\n",
        "import os\n",
        "\n",
        "# Retrieves the current working directory\n",
        "current_directory = os.getcwd()\n",
        "\n",
        "# Creates a list of all the files in the current working directory\n",
        "all_files = os.listdir(current_directory)\n",
        "\n",
        "# Filters a list of files to include only those that have a csv extension\n",
        "csv_files = [file for file in all_files if file.endswith('.csv')]\n",
        "\n",
        "# Creates a main list to hold all to hold all stores and weekly sales\n",
        "all_stores_all_weekly_sales = []\n",
        "\n",
        "# Processes csv files into dataframes, extracts the rows, and appends the data to the main list\n",
        "for filename in csv_files:\n",
        "  df = pd.read_csv(filename)\n",
        "  week_name = filename.replace('.csv', '')\n",
        "  for _, row in df.iterrows():\n",
        "    row_dict = row.to_dict()\n",
        "    row_dict['week'] = week_name\n",
        "    all_stores_all_weekly_sales.append(row_dict)\n",
        "\n",
        "# Prints collected data from sales\n",
        "print(all_stores_all_weekly_sales)"
      ],
      "metadata": {
        "id": "AhZz42b8Lr9n"
      },
      "execution_count": null,
      "outputs": []
    },
    {
      "cell_type": "code",
      "source": [
        "# Creates dataframe from the list\n",
        "df = pd.DataFrame(all_stores_all_weekly_sales)\n",
        "\n",
        "# Prints the dataframe for user to view\n",
        "print(df)"
      ],
      "metadata": {
        "id": "v3tqjyicLsCZ"
      },
      "execution_count": null,
      "outputs": []
    },
    {
      "cell_type": "code",
      "source": [
        "# Imports a visualization tool from the python library\n",
        "import altair as alt\n",
        "\n",
        "# Defines the size of the visualization tool\n",
        "width = 800\n",
        "height = 300\n",
        "\n",
        "# Creates a specific chart with the dimensions previously described\n",
        "base = alt.Chart(df, width=width, height=height).mark_line().encode(\n",
        "  x='week:T',\n",
        "  y='weekly_sales_total:Q',\n",
        "  color='TopGuitar:N',\n",
        "  tooltip=['TopGuitar:N', 'weekly_sales_total:Q', 'week:T']\n",
        ").interactive()\n",
        "\n",
        "# Displays the chart for the user to see\n",
        "base"
      ],
      "metadata": {
        "id": "Ct16CafwLsJN"
      },
      "execution_count": null,
      "outputs": []
    },
    {
      "cell_type": "code",
      "source": [
        "# Allows user to import data analysis toolkits from the panda library\n",
        "import pandas as pd\n",
        "\n",
        "# Groups the the dataframe by the specified values and computes the statistics in each group\n",
        "grouped_stats = df.groupby('TopGuitar')['weekly_sales_total'].describe()\n",
        "\n",
        "# Calculates the variance of the weekly sales defined by the column in the dataframe\n",
        "grouped_variance = df.groupby('TopGuitar')['weekly_sales_total'].var().rename(\"variance\")\n",
        "\n",
        "# Combines the statistics and variance data sets into the dataframe\n",
        "stats_with_variance = pd.concat([grouped_stats, grouped_variance], axis=1)\n",
        "\n",
        "# Prints the combined data for the user to see\n",
        "print(stats_with_variance)\n"
      ],
      "metadata": {
        "id": "uj4crFV0XHJx"
      },
      "execution_count": null,
      "outputs": []
    },
    {
      "cell_type": "code",
      "source": [
        "# Allows user to import data analysis toolkits from the panda library\n",
        "import pandas as pd\n",
        "\n",
        "# Calculates the variance of the weekly sales defined by the column in the dataframe\n",
        "grouped_variance = df.groupby('TopGuitar')['weekly_sales_total'].var().rename(\"variance\")\n",
        "\n",
        "# Sorts the variance data into order based on variance values\n",
        "ranked_stores = grouped_variance.sort_values(ascending=False)\n",
        "\n",
        "# Prints the ranked stores for the user to see\n",
        "print(ranked_stores)"
      ],
      "metadata": {
        "id": "ss30iF6uXHR6"
      },
      "execution_count": null,
      "outputs": []
    },
    {
      "cell_type": "code",
      "source": [
        "# Imports a visualization tool from the python library\n",
        "import altair as alt\n",
        "\n",
        "# Transfers the ranked stores into a dataframe with two columns\n",
        "data = ranked_stores.reset_index()\n",
        "data.columns = ['TopGuitar', 'variance']\n",
        "\n",
        "# Creates a color scale using Altair spcified with redblue color scheme\n",
        "color_scale = alt.Scale(scheme='redblue', domainMid=0)\n",
        "\n",
        "# Creates a histogram using Altair with the details and values provided\n",
        "histogram = alt.Chart(data).mark_bar().encode(\n",
        "  x='TopGuitar:N',\n",
        "  y='variance:Q',\n",
        "  color=alt.Color('variance:Q', scale=color_scale, legend=None),\n",
        "  tooltip=['TopGuitar:N', 'variance:Q']\n",
        ").properties(\n",
        "  width=800\n",
        ")\n",
        "\n",
        "# Shows the histogram for the user to see\n",
        "histogram"
      ],
      "metadata": {
        "id": "VBrZCV3jXHU6"
      },
      "execution_count": null,
      "outputs": []
    }
  ]
}