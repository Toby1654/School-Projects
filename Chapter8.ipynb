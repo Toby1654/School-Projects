{
  "nbformat": 4,
  "nbformat_minor": 0,
  "metadata": {
    "colab": {
      "provenance": [],
      "authorship_tag": "ABX9TyNjkXAeexMCKYJc34r4CoQa",
      "include_colab_link": true
    },
    "kernelspec": {
      "name": "python3",
      "display_name": "Python 3"
    },
    "language_info": {
      "name": "python"
    }
  },
  "cells": [
    {
      "cell_type": "markdown",
      "metadata": {
        "id": "view-in-github",
        "colab_type": "text"
      },
      "source": [
        "<a href=\"https://colab.research.google.com/github/Toby1654/School-Projects/blob/main/Chapter8.ipynb\" target=\"_parent\"><img src=\"https://colab.research.google.com/assets/colab-badge.svg\" alt=\"Open In Colab\"/></a>"
      ]
    },
    {
      "cell_type": "code",
      "execution_count": null,
      "metadata": {
        "id": "vnw2Z6N9nEpz"
      },
      "outputs": [],
      "source": [
        "import random"
      ]
    },
    {
      "cell_type": "code",
      "source": [
        "class Purchase:\n",
        "  def __init__(self):\n",
        "    self.total = 0\n",
        "\n",
        "  def increment(self, price):\n",
        "    self.total += price\n",
        "\n",
        "  def __str__(self):\n",
        "    return \"Sale: $\" + str(self.total)"
      ],
      "metadata": {
        "id": "jZ59NYmqnO5e"
      },
      "execution_count": null,
      "outputs": []
    },
    {
      "cell_type": "code",
      "source": [
        "woods = [\"walnut\", \"pine\", \"birch\", \"red oak\", \"aspen\", \"cedar\", \"spruce\", \"basswood\", \"hickory\", \"ash\", \"beech\", \"poplar\"]\n",
        "strings = [\"6 string\", \"7 string\", \"12 string\"]\n",
        "\n",
        "class Inventory:\n",
        "  def __init__(self):\n",
        "    self.guitars = []\n",
        "\n",
        "    num_guitars = random.randint(10, 20)\n",
        "\n",
        "    for i in range(num_guitars):\n",
        "      wood = random.choice(woods)\n",
        "      string = random.choice(strings)\n",
        "      guitar = Guitar(wood, string)\n",
        "      self.guitars.append(guitar)\n",
        "\n",
        "  def add_guitar(self, guitar):\n",
        "    self.guitars.append(guitar)\n",
        "\n",
        "  def display_order(self):\n",
        "    for guitar in self.guitars:\n",
        "      print(guitar)"
      ],
      "metadata": {
        "id": "z66k0KVenPC4"
      },
      "execution_count": null,
      "outputs": []
    },
    {
      "cell_type": "code",
      "source": [
        "class Guitar:\n",
        "  def __init__(self, wood, string):\n",
        "\n",
        "    self.price = round(random.uniform(1, 10), 2)\n",
        "\n",
        "    self.wood = random.choice(woods)\n",
        "    self.string = random.choice(strings)\n",
        "\n",
        "  def __str__(self):\n",
        "    return f'Wood: {self.wood}, String: {self.string}'"
      ],
      "metadata": {
        "id": "ouJskGftnPF2"
      },
      "execution_count": null,
      "outputs": []
    },
    {
      "cell_type": "code",
      "source": [
        "class Store:\n",
        "  def __init__(self, name):\n",
        "    self.name = name\n",
        "    self.inventory = Inventory()\n",
        "    self.customers = []\n",
        "\n",
        "    self.purchase = Purchase()\n",
        "\n",
        "  def add_customer(self, customer):\n",
        "    self.customers.append(customer)\n",
        "\n",
        "  def getCustomers(self):\n",
        "    for customer in self.customers:\n",
        "      print(\"Customer \" + customer.getName() + \" is busy shopping.\")\n",
        "\n",
        "  def run(self):\n",
        "    print(\"Welcome to \" + self.name + \"!\")\n",
        "    print(self.inventory.display_order())\n",
        "    print(\"We have \" + str(len(self.customers)) + \" customers today.\")\n",
        "\n",
        "    for customer in self.customers:\n",
        "      print(\"Customer \" + customer.name + \" is shopping.\")\n",
        "\n",
        "      item = random.choice(self.inventory.guitars)\n",
        "      customer.add_to_order(item)\n",
        "      print(\"Customer \" + customer.name + \" added \" + str(item) + \" to their order.\")\n",
        "\n",
        "      self.purchase.increment(item.price)\n",
        "      print(\"Customer \" + customer.name + \" checked out and paid $\" + str(item.price) + \".\")\n",
        "    print(\"The total sales for \" + self.name + \" today is $\" + str(self.purchase.total) + \".\")\n",
        "\n",
        "  def __str__(self):\n",
        "    return self.name + \" (Sales: $\" + str(self.purchase.total) + \")\"\n",
        "\n",
        "class Customer:\n",
        "\n",
        "  def __init__(self, name):\n",
        "    self.name = name\n",
        "    self.order = Order()\n",
        "\n",
        "  def getName(self):\n",
        "      return self.name\n",
        "\n",
        "  def add_to_order(self, product):\n",
        "    self.order.add(product)\n",
        "\n",
        "  def __str__(self):\n",
        "    return self.name + \" (\" + str(self.order) + \")\"\n",
        "\n",
        "class Order:\n",
        "\n",
        "  def __init__(self):\n",
        "    self.products = []\n",
        "\n",
        "  def add(self, product):\n",
        "    self.products.append(product)\n",
        "\n",
        "  def __str__(self):\n",
        "    result = \"Order:\\n\"\n",
        "    for product in self.products:\n",
        "      result += str(product) + \"\\n\"\n",
        "    return result"
      ],
      "metadata": {
        "id": "fRqoyF_mnPIq"
      },
      "execution_count": null,
      "outputs": []
    },
    {
      "cell_type": "code",
      "source": [
        "store = Store(\"TopGuitar\")\n",
        "\n",
        "names = [\"James\",\"Alice\",\"Bill\",\"Alex\",\"Sarah\",\"Ally\",\"John\",\"David\",\"Sam\",\"Sharon\"]\n",
        "for i in range(len(names)):\n",
        "  store.add_customer(Customer(names[i]))\n",
        "\n",
        "store.getCustomers()\n",
        "\n",
        "store.run()"
      ],
      "metadata": {
        "id": "54XiezYanPLo"
      },
      "execution_count": null,
      "outputs": []
    },
    {
      "cell_type": "code",
      "source": [
        "!pip install pandas"
      ],
      "metadata": {
        "id": "o_iZTg6rrbh6"
      },
      "execution_count": null,
      "outputs": []
    },
    {
      "cell_type": "code",
      "source": [
        "import pandas as pd\n",
        "\n",
        "class Analytics:\n",
        "  def __init__(self):\n",
        "    self.store_analytics = []\n",
        "\n",
        "  def add_analytics(self, analytics):\n",
        "    self.store_analytics = analytics\n",
        "\n",
        "  def make_csv(self):\n",
        "    df = pd.DataFrame(self.store_analytics)\n",
        "    print(df)\n",
        "    entitle = \"latest-store.csv\"\n",
        "    df.to_csv(entitle)"
      ],
      "metadata": {
        "id": "Cdm6ZcS1rbqH"
      },
      "execution_count": null,
      "outputs": []
    },
    {
      "cell_type": "code",
      "source": [
        "class Organization:\n",
        "  def __init__(self, name):\n",
        "    self.name = name\n",
        "    self.stores = []\n",
        "\n",
        "    self.analytics = []\n",
        "\n",
        "  def add_store(self, store):\n",
        "    self.stores.append(store)\n",
        "\n",
        "  def simulate(self):\n",
        "    print(\"Welcome to \" + self.name + \"!\")\n",
        "    print(\"We have \" + str(len(self.stores)) + \" stores in our corporation.\")\n",
        "\n",
        "    for store in self.stores:\n",
        "\n",
        "      store.run()\n",
        "\n",
        "    total_sales = 0\n",
        "    for store in self.stores:\n",
        "      total_sales += store.purchase.total\n",
        "\n",
        "      dict_A = {\"name\":store.name, \"total_sales\":store.purchase.total}\n",
        "      self.analytics.append(dict_A)\n",
        "    print(\"The total sales for \" + self.name + \" today is $\" + str(total_sales) + \".\")\n",
        "\n",
        "  def get_analytics(self):\n",
        "    return self.analytics\n",
        "\n",
        "  def display_analytics(self):\n",
        "    for i in self.analytics:\n",
        "      print(i )\n",
        "\n",
        "  def __str__(self):\n",
        "    result = self.name + \":\\n\"\n",
        "    for stnd in self.stores:\n",
        "      result += str(store) + \"\\n\"\n",
        "    return result\n",
        "\n",
        "corp = Organization(\"TopGuitar\")\n",
        "\n",
        "store1 = Store(\"Neighborhood Store 1\")\n",
        "store2 = Store(\"Neighborhood Store 2\")\n",
        "store3 = Store(\"Neighborhood Store 3\")\n",
        "corp.add_store(store1)\n",
        "corp.add_store(store2)\n",
        "corp.add_store(store3)\n",
        "\n",
        "customer1 = Customer(\"James\")\n",
        "customer2 = Customer(\"Alice\")\n",
        "customer3 = Customer(\"Bill\")\n",
        "customer4 = Customer(\"Alex\")\n",
        "customer5 = Customer(\"Sarah\")\n",
        "customer6 = Customer(\"Ally\")\n",
        "customer7 = Customer(\"John\")\n",
        "customer8 = Customer(\"David\")\n",
        "customer9 = Customer(\"Sam\")\n",
        "customer10 = Customer(\"Sharon\")\n",
        "store1.add_customer(customer1)\n",
        "store1.add_customer(customer2)\n",
        "store2.add_customer(customer3)\n",
        "store2.add_customer(customer4)\n",
        "store2.add_customer(customer5)\n",
        "store3.add_customer(customer6)\n",
        "store3.add_customer(customer7)\n",
        "store3.add_customer(customer8)\n",
        "store3.add_customer(customer9)\n",
        "store3.add_customer(customer10)\n",
        "corp.simulate()\n",
        "\n",
        "corp.display_analytics()\n",
        "\n",
        "analytic = Analytics()\n",
        "analytic.add_analytics(corp.get_analytics())\n",
        "analytic.make_csv()\n"
      ],
      "metadata": {
        "id": "7QF44SD-rb2Y"
      },
      "execution_count": null,
      "outputs": []
    }
  ]
}